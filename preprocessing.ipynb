{
 "cells": [
  {
   "cell_type": "markdown",
   "id": "23e74c96-fdc7-4b9d-a7f1-c9d7fae1518c",
   "metadata": {
    "tags": []
   },
   "source": [
    "# Imports"
   ]
  },
  {
   "cell_type": "code",
   "execution_count": 1,
   "id": "82290bc0-882c-4a20-abdc-a8b5cd299034",
   "metadata": {},
   "outputs": [
    {
     "name": "stdout",
     "output_type": "stream",
     "text": [
      "time: 1.22 s (started: 2021-08-11 20:57:30 -04:00)\n"
     ]
    }
   ],
   "source": [
    "%%capture\n",
    "\n",
    "import math\n",
    "import db_func\n",
    "import pandas as pd\n",
    "import numpy as np\n",
    "from tqdm import notebook\n",
    "from bokeh.plotting import figure, show\n",
    "from bokeh.io import output_notebook, push_notebook, show\n",
    "\n",
    "#notebook.tqdm(looping)\n",
    "\n",
    "try:\n",
    "    %load_ext autotime\n",
    "    %load_ext jupyterlab_notify\n",
    "except:\n",
    "    !pip3 install ipython-autotime\n",
    "    %load_ext autotime"
   ]
  },
  {
   "cell_type": "markdown",
   "id": "e94fd375-bed8-4199-80a1-02acbe8bc14f",
   "metadata": {},
   "source": [
    "## Get Database Connection"
   ]
  },
  {
   "cell_type": "code",
   "execution_count": 2,
   "id": "5197d66d-5341-4d9a-935d-14ba1514ac8c",
   "metadata": {},
   "outputs": [
    {
     "name": "stdout",
     "output_type": "stream",
     "text": [
      "time: 2.98 ms (started: 2021-08-11 20:57:31 -04:00)\n"
     ]
    }
   ],
   "source": [
    "conn = db_func.get_conn()"
   ]
  },
  {
   "cell_type": "markdown",
   "id": "faadde39-4b71-4e8f-b4f9-18ed611d2552",
   "metadata": {},
   "source": [
    "# Preprocessing"
   ]
  },
  {
   "cell_type": "markdown",
   "id": "ec8b0f83-4850-4a66-b5a6-7f6734f0b546",
   "metadata": {},
   "source": [
    "match_df: The final processed dataset to be used in the machine learning models "
   ]
  },
  {
   "cell_type": "markdown",
   "id": "7a556fbf-de3a-40b3-8049-9c70f146a9f6",
   "metadata": {},
   "source": [
    "## Populate Dataframes From Database"
   ]
  },
  {
   "cell_type": "markdown",
   "id": "1b3686fb-377d-4b14-8a6f-2d4f0dcaa7c1",
   "metadata": {},
   "source": [
    "### SQL Query"
   ]
  },
  {
   "cell_type": "code",
   "execution_count": 3,
   "id": "ff3e227d-5b62-49b2-82fc-6eb644b730e6",
   "metadata": {
    "tags": []
   },
   "outputs": [
    {
     "name": "stdout",
     "output_type": "stream",
     "text": [
      "time: 29.3 s (started: 2021-08-11 20:57:31 -04:00)\n"
     ]
    }
   ],
   "source": [
    "match_query = '''SELECT\n",
    "                    m.match_id,  m.away_id, m.home_id,\n",
    "                    m.date, m.away_pts, m.home_pts, m.playoff_game,\n",
    "                    h_ml.home_ml, a_ml.away_ml,\n",
    "                    h_ps.home_spread, a_ps.away_spread,\n",
    "                    h_ps.home_ps_odds, a_ps.away_ps_odds,\n",
    "                    over.over, under.under, ou.spread\n",
    "                FROM match AS m\n",
    "                LEFT OUTER JOIN\n",
    "                (\n",
    "                    SELECT\n",
    "                        AVG(decimal_odds) AS home_ml,\n",
    "                        m.match_id AS match_id\n",
    "                    FROM\n",
    "                        odds AS o, team AS t1, team as t2,\n",
    "                        match AS m\n",
    "                    WHERE\n",
    "                        o.bet_type_id = 1 AND\n",
    "                        o.match_id = m.match_id AND\n",
    "                        o.team_id = m.home_id\n",
    "                    GROUP BY m.match_id\n",
    "                ) AS h_ml ON m.match_id = h_ml.match_id\n",
    "                LEFT OUTER JOIN\n",
    "                (\n",
    "                    SELECT\n",
    "                        AVG(decimal_odds) AS away_ml,\n",
    "                        m.match_id AS match_id\n",
    "                    FROM\n",
    "                        odds AS o, team AS t1, team as t2,\n",
    "                        match AS m\n",
    "                    WHERE\n",
    "                        o.bet_type_id = 1 AND\n",
    "                        o.match_id = m.match_id AND\n",
    "                        o.team_id = m.away_id\n",
    "                    GROUP BY m.match_id\n",
    "                ) AS a_ml ON m.match_id = a_ml.match_id\n",
    "                LEFT OUTER JOIN\n",
    "                (\n",
    "                    SELECT\n",
    "                        AVG(decimal_odds) AS home_ps_odds,\n",
    "                        AVG(spread) AS home_spread,\n",
    "                        m.match_id AS match_id\n",
    "                    FROM\n",
    "                        odds AS o, team AS t1, team as t2,\n",
    "                        match AS m\n",
    "                    WHERE\n",
    "                        o.bet_type_id = 2 AND\n",
    "                        o.match_id = m.match_id AND\n",
    "                        o.team_id = m.home_id\n",
    "                    GROUP BY m.match_id\n",
    "                ) AS h_ps ON m.match_id = h_ps.match_id\n",
    "                LEFT OUTER JOIN\n",
    "                (\n",
    "                    SELECT\n",
    "                        AVG(decimal_odds) AS away_ps_odds,\n",
    "                        AVG(spread) AS away_spread,\n",
    "                        m.match_id AS match_id\n",
    "                    FROM\n",
    "                        odds AS o, team AS t1, team as t2,\n",
    "                        match AS m\n",
    "                    WHERE\n",
    "                        o.bet_type_id = 2 AND\n",
    "                        o.match_id = m.match_id AND\n",
    "                        o.team_id = m.away_id\n",
    "                    GROUP BY m.match_id\n",
    "                ) AS a_ps ON m.match_id = a_ps.match_id\n",
    "                LEFT OUTER JOIN\n",
    "                (\n",
    "                    SELECT\n",
    "                        AVG(decimal_odds) AS under,\n",
    "                        m.match_id AS match_id\n",
    "                    FROM\n",
    "                        odds AS o, match AS m\n",
    "                    WHERE\n",
    "                        o.bet_type_id = 3 AND\n",
    "                        o.over_under = 'under' AND\n",
    "                        o.match_id = m.match_id\n",
    "                    GROUP BY m.match_id\n",
    "                ) AS under ON m.match_id = under.match_id\n",
    "                LEFT OUTER JOIN\n",
    "                (\n",
    "                    SELECT\n",
    "                        AVG(decimal_odds) AS over,\n",
    "                        m.match_id AS match_id\n",
    "                    FROM\n",
    "                        odds AS o, match AS m\n",
    "                    WHERE\n",
    "                        o.bet_type_id = 3 AND\n",
    "                        o.over_under = 'over' AND\n",
    "                        o.match_id = m.match_id\n",
    "                    GROUP BY m.match_id\n",
    "                ) AS over ON m.match_id = over.match_id\n",
    "                LEFT OUTER JOIN\n",
    "                (\n",
    "                    SELECT\n",
    "                        AVG(spread) AS spread,\n",
    "                        m.match_id AS match_id\n",
    "                    FROM\n",
    "                        odds AS o, match AS m\n",
    "                    WHERE\n",
    "                        o.bet_type_id = 3 AND\n",
    "                        o.match_id = m.match_id\n",
    "                    GROUP BY m.match_id\n",
    "                ) AS ou ON m.match_id = ou.match_id\n",
    "                WHERE\n",
    "                    m.date >= DATE('2007-10-30')\n",
    "                ORDER BY date ASC\n",
    "                '''\n",
    "\n",
    "season_query = '''SELECT *\n",
    "                  FROM season'''\n",
    "player_performance_query = '''SELECT *\n",
    "                              FROM player_performance'''\n",
    "team_query = '''SELECT * \n",
    "                FROM team_name'''\n",
    "injury_query = '''SELECT * \n",
    "                FROM injury'''\n",
    "\n",
    "match_df = pd.read_sql(match_query, conn)\n",
    "#match_df.set_index('match_id', inplace=True)\n",
    "season_df = pd.read_sql(season_query, conn)\n",
    "playerperf_df = pd.read_sql(player_performance_query, conn)\n",
    "team_df = pd.read_sql(team_query, conn)\n",
    "injury = pd.read_sql(injury_query, conn)\n",
    "\n"
   ]
  },
  {
   "cell_type": "markdown",
   "id": "b8819638-b00a-4ed3-8ed3-4e0a5c508a4d",
   "metadata": {},
   "source": [
    "## Season"
   ]
  },
  {
   "cell_type": "markdown",
   "id": "a496fa47-19bc-4690-af41-170180610824",
   "metadata": {},
   "source": [
    "Set the season for each match"
   ]
  },
  {
   "cell_type": "code",
   "execution_count": 4,
   "id": "8779a12b-da00-476c-87d3-75723c4cace8",
   "metadata": {},
   "outputs": [
    {
     "name": "stdout",
     "output_type": "stream",
     "text": [
      "time: 218 µs (started: 2021-08-11 20:58:01 -04:00)\n"
     ]
    }
   ],
   "source": [
    "def get_season(date):\n",
    "    return season_df[(season_df['start_date'] <= date) &\n",
    "                     (season_df['end_date'] >= date)]['season'].values[0]"
   ]
  },
  {
   "cell_type": "code",
   "execution_count": 5,
   "id": "f74718c6-ec29-47e5-a152-9b96fa8384a9",
   "metadata": {},
   "outputs": [
    {
     "name": "stdout",
     "output_type": "stream",
     "text": [
      "time: 3.95 s (started: 2021-08-11 20:58:01 -04:00)\n"
     ]
    }
   ],
   "source": [
    "match_df['season'] = match_df['date'].map(get_season)"
   ]
  },
  {
   "cell_type": "markdown",
   "id": "c469cd8d-d86b-47b5-99ef-bba7e9e298f1",
   "metadata": {},
   "source": [
    "Only matches from seasons 2008-2021 will be used "
   ]
  },
  {
   "cell_type": "markdown",
   "id": "76b3cfbc-f918-4c54-bc52-d85d708cef66",
   "metadata": {},
   "source": [
    "# Feature Engineering"
   ]
  },
  {
   "cell_type": "markdown",
   "id": "5ae7d644-e0fd-46a5-9194-69bfae70bf25",
   "metadata": {},
   "source": [
    "## Margin of Victory/Loss (MOVL) with respect to the home team"
   ]
  },
  {
   "cell_type": "code",
   "execution_count": 6,
   "id": "f44c5572-f296-48ce-9896-99c0f5c83e4e",
   "metadata": {},
   "outputs": [
    {
     "name": "stdout",
     "output_type": "stream",
     "text": [
      "time: 707 µs (started: 2021-08-11 20:58:05 -04:00)\n"
     ]
    }
   ],
   "source": [
    "match_df['movl'] = match_df['home_pts'] - match_df['away_pts']"
   ]
  },
  {
   "cell_type": "markdown",
   "id": "dc6a377f-cc59-4c3d-a024-815d488b1b00",
   "metadata": {},
   "source": [
    "## Team Elo Rating"
   ]
  },
  {
   "cell_type": "markdown",
   "id": "ccfe131d-76cd-44c6-87dd-a944881d3cc2",
   "metadata": {},
   "source": [
    "Each team starts at 1500 elo"
   ]
  },
  {
   "cell_type": "code",
   "execution_count": 7,
   "id": "a1295729-41fc-44b3-acf7-a99664f43284",
   "metadata": {},
   "outputs": [
    {
     "name": "stdout",
     "output_type": "stream",
     "text": [
      "time: 4.17 ms (started: 2021-08-11 20:58:05 -04:00)\n"
     ]
    }
   ],
   "source": [
    "match_df['home_elo'] = 1500.0\n",
    "match_df['away_elo'] = 1500.0"
   ]
  },
  {
   "cell_type": "markdown",
   "id": "3c9600e5-378b-40bd-9713-47b7d127b69e",
   "metadata": {},
   "source": [
    "### Get the previous match of each team to aid elo calculation"
   ]
  },
  {
   "cell_type": "code",
   "execution_count": 8,
   "id": "6823a608-5cc9-46e6-b0a5-f81a14a8b6b6",
   "metadata": {},
   "outputs": [
    {
     "name": "stdout",
     "output_type": "stream",
     "text": [
      "time: 505 µs (started: 2021-08-11 20:58:05 -04:00)\n"
     ]
    }
   ],
   "source": [
    "def get_prev_match(date, team_id, match_df):\n",
    "    return match_df[(match_df[\"date\"] < date) &\n",
    "                    ((match_df[\"home_id\"] == team_id) |\n",
    "                     (match_df[\"away_id\"] == team_id))].tail(1)"
   ]
  },
  {
   "cell_type": "markdown",
   "id": "edd6233f-770a-412d-9084-debc9f991d15",
   "metadata": {},
   "source": [
    "### Team elo calculation"
   ]
  },
  {
   "cell_type": "code",
   "execution_count": 9,
   "id": "f683830a-b4d4-4199-8445-174b123176c4",
   "metadata": {},
   "outputs": [
    {
     "name": "stdout",
     "output_type": "stream",
     "text": [
      "time: 551 µs (started: 2021-08-11 20:58:05 -04:00)\n"
     ]
    }
   ],
   "source": [
    "def get_prev_elo(team_id, season, prev_match):\n",
    "\n",
    "    if prev_match.empty:\n",
    "        prev_elo = 1500.0\n",
    "    elif team_id == prev_match['home_id'].values[0]:\n",
    "        prev_elo = prev_match['home_elo'].values[0]\n",
    "    elif team_id == prev_match['away_id'].values[0]:\n",
    "        prev_elo = prev_match['away_elo'].values[0]\n",
    "    else: \n",
    "        print('err')\n",
    "\n",
    "    if (not prev_match.empty and\n",
    "            (prev_match['season'].values[0]\n",
    "             != season)):\n",
    "        #print(prev_elo, prev_elo * 0.75 + 1505 * 0.25)\n",
    "        prev_elo = prev_elo * 0.75 + 1505 * 0.25\n",
    "\n",
    "    return prev_elo\n",
    "\n",
    "\n",
    "def update_elo(home_elo, away_elo, movl):\n",
    "    elo_diff = home_elo + 100.0 - away_elo\n",
    "    if movl > 0:\n",
    "        h_s = 1.0\n",
    "        a_s = 0.0\n",
    "        multiplier = ((movl+3)**(0.8))/(7.5+0.006*elo_diff)\n",
    "\n",
    "    else:\n",
    "        h_s = 0.0\n",
    "        a_s = 1.0\n",
    "        multiplier = ((-movl+3)**(0.8))/(7.5+0.006*(-elo_diff))\n",
    "        \n",
    "    exp_h_s = 1.0 / (1.0 + 10.0 ** (-elo_diff/400.0))\n",
    "    exp_a_s = 1.0 - exp_h_s\n",
    "    \n",
    "    k = 20.0 * multiplier\n",
    "\n",
    "    new_home_elo = home_elo + k * (h_s - exp_h_s)\n",
    "    new_away_elo = away_elo + k * (a_s - exp_a_s)\n",
    "\n",
    "    return (new_home_elo, new_away_elo)"
   ]
  },
  {
   "cell_type": "code",
   "execution_count": 10,
   "id": "6a46ea97-aaac-4aeb-a87b-fdec9f1d5a33",
   "metadata": {},
   "outputs": [
    {
     "name": "stdout",
     "output_type": "stream",
     "text": [
      "time: 36.6 s (started: 2021-08-11 20:58:05 -04:00)\n"
     ]
    }
   ],
   "source": [
    "for idx, row in match_df.iterrows():\n",
    "    prev_h_match = get_prev_match(row['date'], row['home_id'], match_df)\n",
    "    prev_a_match = get_prev_match(row['date'], row['away_id'], match_df)\n",
    "    \n",
    "    prev_h_elo = get_prev_elo(\n",
    "        row['home_id'], row['season'], prev_h_match)\n",
    "    prev_a_elo = get_prev_elo(\n",
    "        row['away_id'], row['season'], prev_a_match)    \n",
    "    \n",
    "    new_elos = update_elo(prev_h_elo, prev_a_elo, row['movl'])\n",
    "    match_df.at[idx, 'home_elo'] = new_elos[0]\n",
    "    match_df.at[idx, 'away_elo'] = new_elos[1]"
   ]
  },
  {
   "cell_type": "code",
   "execution_count": 11,
   "id": "9b46ec87-56f9-4a46-8979-35ad207e156f",
   "metadata": {},
   "outputs": [
    {
     "data": {
      "text/html": [
       "\n",
       "    <div class=\"bk-root\">\n",
       "        <a href=\"https://bokeh.org\" target=\"_blank\" class=\"bk-logo bk-logo-small bk-logo-notebook\"></a>\n",
       "        <span id=\"1002\">Loading BokehJS ...</span>\n",
       "    </div>"
      ]
     },
     "metadata": {},
     "output_type": "display_data"
    },
    {
     "data": {
      "application/javascript": [
       "\n",
       "(function(root) {\n",
       "  function now() {\n",
       "    return new Date();\n",
       "  }\n",
       "\n",
       "  var force = true;\n",
       "\n",
       "  if (typeof root._bokeh_onload_callbacks === \"undefined\" || force === true) {\n",
       "    root._bokeh_onload_callbacks = [];\n",
       "    root._bokeh_is_loading = undefined;\n",
       "  }\n",
       "\n",
       "  var JS_MIME_TYPE = 'application/javascript';\n",
       "  var HTML_MIME_TYPE = 'text/html';\n",
       "  var EXEC_MIME_TYPE = 'application/vnd.bokehjs_exec.v0+json';\n",
       "  var CLASS_NAME = 'output_bokeh rendered_html';\n",
       "\n",
       "  /**\n",
       "   * Render data to the DOM node\n",
       "   */\n",
       "  function render(props, node) {\n",
       "    var script = document.createElement(\"script\");\n",
       "    node.appendChild(script);\n",
       "  }\n",
       "\n",
       "  /**\n",
       "   * Handle when an output is cleared or removed\n",
       "   */\n",
       "  function handleClearOutput(event, handle) {\n",
       "    var cell = handle.cell;\n",
       "\n",
       "    var id = cell.output_area._bokeh_element_id;\n",
       "    var server_id = cell.output_area._bokeh_server_id;\n",
       "    // Clean up Bokeh references\n",
       "    if (id != null && id in Bokeh.index) {\n",
       "      Bokeh.index[id].model.document.clear();\n",
       "      delete Bokeh.index[id];\n",
       "    }\n",
       "\n",
       "    if (server_id !== undefined) {\n",
       "      // Clean up Bokeh references\n",
       "      var cmd = \"from bokeh.io.state import curstate; print(curstate().uuid_to_server['\" + server_id + \"'].get_sessions()[0].document.roots[0]._id)\";\n",
       "      cell.notebook.kernel.execute(cmd, {\n",
       "        iopub: {\n",
       "          output: function(msg) {\n",
       "            var id = msg.content.text.trim();\n",
       "            if (id in Bokeh.index) {\n",
       "              Bokeh.index[id].model.document.clear();\n",
       "              delete Bokeh.index[id];\n",
       "            }\n",
       "          }\n",
       "        }\n",
       "      });\n",
       "      // Destroy server and session\n",
       "      var cmd = \"import bokeh.io.notebook as ion; ion.destroy_server('\" + server_id + \"')\";\n",
       "      cell.notebook.kernel.execute(cmd);\n",
       "    }\n",
       "  }\n",
       "\n",
       "  /**\n",
       "   * Handle when a new output is added\n",
       "   */\n",
       "  function handleAddOutput(event, handle) {\n",
       "    var output_area = handle.output_area;\n",
       "    var output = handle.output;\n",
       "\n",
       "    // limit handleAddOutput to display_data with EXEC_MIME_TYPE content only\n",
       "    if ((output.output_type != \"display_data\") || (!Object.prototype.hasOwnProperty.call(output.data, EXEC_MIME_TYPE))) {\n",
       "      return\n",
       "    }\n",
       "\n",
       "    var toinsert = output_area.element.find(\".\" + CLASS_NAME.split(' ')[0]);\n",
       "\n",
       "    if (output.metadata[EXEC_MIME_TYPE][\"id\"] !== undefined) {\n",
       "      toinsert[toinsert.length - 1].firstChild.textContent = output.data[JS_MIME_TYPE];\n",
       "      // store reference to embed id on output_area\n",
       "      output_area._bokeh_element_id = output.metadata[EXEC_MIME_TYPE][\"id\"];\n",
       "    }\n",
       "    if (output.metadata[EXEC_MIME_TYPE][\"server_id\"] !== undefined) {\n",
       "      var bk_div = document.createElement(\"div\");\n",
       "      bk_div.innerHTML = output.data[HTML_MIME_TYPE];\n",
       "      var script_attrs = bk_div.children[0].attributes;\n",
       "      for (var i = 0; i < script_attrs.length; i++) {\n",
       "        toinsert[toinsert.length - 1].firstChild.setAttribute(script_attrs[i].name, script_attrs[i].value);\n",
       "        toinsert[toinsert.length - 1].firstChild.textContent = bk_div.children[0].textContent\n",
       "      }\n",
       "      // store reference to server id on output_area\n",
       "      output_area._bokeh_server_id = output.metadata[EXEC_MIME_TYPE][\"server_id\"];\n",
       "    }\n",
       "  }\n",
       "\n",
       "  function register_renderer(events, OutputArea) {\n",
       "\n",
       "    function append_mime(data, metadata, element) {\n",
       "      // create a DOM node to render to\n",
       "      var toinsert = this.create_output_subarea(\n",
       "        metadata,\n",
       "        CLASS_NAME,\n",
       "        EXEC_MIME_TYPE\n",
       "      );\n",
       "      this.keyboard_manager.register_events(toinsert);\n",
       "      // Render to node\n",
       "      var props = {data: data, metadata: metadata[EXEC_MIME_TYPE]};\n",
       "      render(props, toinsert[toinsert.length - 1]);\n",
       "      element.append(toinsert);\n",
       "      return toinsert\n",
       "    }\n",
       "\n",
       "    /* Handle when an output is cleared or removed */\n",
       "    events.on('clear_output.CodeCell', handleClearOutput);\n",
       "    events.on('delete.Cell', handleClearOutput);\n",
       "\n",
       "    /* Handle when a new output is added */\n",
       "    events.on('output_added.OutputArea', handleAddOutput);\n",
       "\n",
       "    /**\n",
       "     * Register the mime type and append_mime function with output_area\n",
       "     */\n",
       "    OutputArea.prototype.register_mime_type(EXEC_MIME_TYPE, append_mime, {\n",
       "      /* Is output safe? */\n",
       "      safe: true,\n",
       "      /* Index of renderer in `output_area.display_order` */\n",
       "      index: 0\n",
       "    });\n",
       "  }\n",
       "\n",
       "  // register the mime type if in Jupyter Notebook environment and previously unregistered\n",
       "  if (root.Jupyter !== undefined) {\n",
       "    var events = require('base/js/events');\n",
       "    var OutputArea = require('notebook/js/outputarea').OutputArea;\n",
       "\n",
       "    if (OutputArea.prototype.mime_types().indexOf(EXEC_MIME_TYPE) == -1) {\n",
       "      register_renderer(events, OutputArea);\n",
       "    }\n",
       "  }\n",
       "\n",
       "  \n",
       "  if (typeof (root._bokeh_timeout) === \"undefined\" || force === true) {\n",
       "    root._bokeh_timeout = Date.now() + 5000;\n",
       "    root._bokeh_failed_load = false;\n",
       "  }\n",
       "\n",
       "  var NB_LOAD_WARNING = {'data': {'text/html':\n",
       "     \"<div style='background-color: #fdd'>\\n\"+\n",
       "     \"<p>\\n\"+\n",
       "     \"BokehJS does not appear to have successfully loaded. If loading BokehJS from CDN, this \\n\"+\n",
       "     \"may be due to a slow or bad network connection. Possible fixes:\\n\"+\n",
       "     \"</p>\\n\"+\n",
       "     \"<ul>\\n\"+\n",
       "     \"<li>re-rerun `output_notebook()` to attempt to load from CDN again, or</li>\\n\"+\n",
       "     \"<li>use INLINE resources instead, as so:</li>\\n\"+\n",
       "     \"</ul>\\n\"+\n",
       "     \"<code>\\n\"+\n",
       "     \"from bokeh.resources import INLINE\\n\"+\n",
       "     \"output_notebook(resources=INLINE)\\n\"+\n",
       "     \"</code>\\n\"+\n",
       "     \"</div>\"}};\n",
       "\n",
       "  function display_loaded() {\n",
       "    var el = document.getElementById(\"1002\");\n",
       "    if (el != null) {\n",
       "      el.textContent = \"BokehJS is loading...\";\n",
       "    }\n",
       "    if (root.Bokeh !== undefined) {\n",
       "      if (el != null) {\n",
       "        el.textContent = \"BokehJS \" + root.Bokeh.version + \" successfully loaded.\";\n",
       "      }\n",
       "    } else if (Date.now() < root._bokeh_timeout) {\n",
       "      setTimeout(display_loaded, 100)\n",
       "    }\n",
       "  }\n",
       "\n",
       "\n",
       "  function run_callbacks() {\n",
       "    try {\n",
       "      root._bokeh_onload_callbacks.forEach(function(callback) {\n",
       "        if (callback != null)\n",
       "          callback();\n",
       "      });\n",
       "    } finally {\n",
       "      delete root._bokeh_onload_callbacks\n",
       "    }\n",
       "    console.debug(\"Bokeh: all callbacks have finished\");\n",
       "  }\n",
       "\n",
       "  function load_libs(css_urls, js_urls, callback) {\n",
       "    if (css_urls == null) css_urls = [];\n",
       "    if (js_urls == null) js_urls = [];\n",
       "\n",
       "    root._bokeh_onload_callbacks.push(callback);\n",
       "    if (root._bokeh_is_loading > 0) {\n",
       "      console.debug(\"Bokeh: BokehJS is being loaded, scheduling callback at\", now());\n",
       "      return null;\n",
       "    }\n",
       "    if (js_urls == null || js_urls.length === 0) {\n",
       "      run_callbacks();\n",
       "      return null;\n",
       "    }\n",
       "    console.debug(\"Bokeh: BokehJS not loaded, scheduling load and callback at\", now());\n",
       "    root._bokeh_is_loading = css_urls.length + js_urls.length;\n",
       "\n",
       "    function on_load() {\n",
       "      root._bokeh_is_loading--;\n",
       "      if (root._bokeh_is_loading === 0) {\n",
       "        console.debug(\"Bokeh: all BokehJS libraries/stylesheets loaded\");\n",
       "        run_callbacks()\n",
       "      }\n",
       "    }\n",
       "\n",
       "    function on_error(url) {\n",
       "      console.error(\"failed to load \" + url);\n",
       "    }\n",
       "\n",
       "    for (let i = 0; i < css_urls.length; i++) {\n",
       "      const url = css_urls[i];\n",
       "      const element = document.createElement(\"link\");\n",
       "      element.onload = on_load;\n",
       "      element.onerror = on_error.bind(null, url);\n",
       "      element.rel = \"stylesheet\";\n",
       "      element.type = \"text/css\";\n",
       "      element.href = url;\n",
       "      console.debug(\"Bokeh: injecting link tag for BokehJS stylesheet: \", url);\n",
       "      document.body.appendChild(element);\n",
       "    }\n",
       "\n",
       "    const hashes = {\"https://cdn.bokeh.org/bokeh/release/bokeh-2.3.3.min.js\": \"dM3QQsP+wXdHg42wTqW85BjZQdLNNIXqlPw/BgKoExPmTG7ZLML4EGqLMfqHT6ON\", \"https://cdn.bokeh.org/bokeh/release/bokeh-tables-2.3.3.min.js\": \"8x57I4YuIfu8XyZfFo0XVr2WAT8EK4rh/uDe3wF7YuW2FNUSNEpJbsPaB1nJ2fz2\", \"https://cdn.bokeh.org/bokeh/release/bokeh-widgets-2.3.3.min.js\": \"3QTqdz9LyAm2i0sG5XTePsHec3UHWwVsrOL68SYRoAXsafvfAyqtQ+h440+qIBhS\"};\n",
       "\n",
       "    for (let i = 0; i < js_urls.length; i++) {\n",
       "      const url = js_urls[i];\n",
       "      const element = document.createElement('script');\n",
       "      element.onload = on_load;\n",
       "      element.onerror = on_error.bind(null, url);\n",
       "      element.async = false;\n",
       "      element.src = url;\n",
       "      if (url in hashes) {\n",
       "        element.crossOrigin = \"anonymous\";\n",
       "        element.integrity = \"sha384-\" + hashes[url];\n",
       "      }\n",
       "      console.debug(\"Bokeh: injecting script tag for BokehJS library: \", url);\n",
       "      document.head.appendChild(element);\n",
       "    }\n",
       "  };\n",
       "\n",
       "  function inject_raw_css(css) {\n",
       "    const element = document.createElement(\"style\");\n",
       "    element.appendChild(document.createTextNode(css));\n",
       "    document.body.appendChild(element);\n",
       "  }\n",
       "\n",
       "  \n",
       "  var js_urls = [\"https://cdn.bokeh.org/bokeh/release/bokeh-2.3.3.min.js\", \"https://cdn.bokeh.org/bokeh/release/bokeh-widgets-2.3.3.min.js\", \"https://cdn.bokeh.org/bokeh/release/bokeh-tables-2.3.3.min.js\"];\n",
       "  var css_urls = [];\n",
       "  \n",
       "\n",
       "  var inline_js = [\n",
       "    function(Bokeh) {\n",
       "      Bokeh.set_log_level(\"info\");\n",
       "    },\n",
       "    function(Bokeh) {\n",
       "    \n",
       "    \n",
       "    }\n",
       "  ];\n",
       "\n",
       "  function run_inline_js() {\n",
       "    \n",
       "    if (root.Bokeh !== undefined || force === true) {\n",
       "      \n",
       "    for (var i = 0; i < inline_js.length; i++) {\n",
       "      inline_js[i].call(root, root.Bokeh);\n",
       "    }\n",
       "    if (force === true) {\n",
       "        display_loaded();\n",
       "      }} else if (Date.now() < root._bokeh_timeout) {\n",
       "      setTimeout(run_inline_js, 100);\n",
       "    } else if (!root._bokeh_failed_load) {\n",
       "      console.log(\"Bokeh: BokehJS failed to load within specified timeout.\");\n",
       "      root._bokeh_failed_load = true;\n",
       "    } else if (force !== true) {\n",
       "      var cell = $(document.getElementById(\"1002\")).parents('.cell').data().cell;\n",
       "      cell.output_area.append_execute_result(NB_LOAD_WARNING)\n",
       "    }\n",
       "\n",
       "  }\n",
       "\n",
       "  if (root._bokeh_is_loading === 0) {\n",
       "    console.debug(\"Bokeh: BokehJS loaded, going straight to plotting\");\n",
       "    run_inline_js();\n",
       "  } else {\n",
       "    load_libs(css_urls, js_urls, function() {\n",
       "      console.debug(\"Bokeh: BokehJS plotting callback run at\", now());\n",
       "      run_inline_js();\n",
       "    });\n",
       "  }\n",
       "}(window));"
      ],
      "application/vnd.bokehjs_load.v0+json": "\n(function(root) {\n  function now() {\n    return new Date();\n  }\n\n  var force = true;\n\n  if (typeof root._bokeh_onload_callbacks === \"undefined\" || force === true) {\n    root._bokeh_onload_callbacks = [];\n    root._bokeh_is_loading = undefined;\n  }\n\n  \n\n  \n  if (typeof (root._bokeh_timeout) === \"undefined\" || force === true) {\n    root._bokeh_timeout = Date.now() + 5000;\n    root._bokeh_failed_load = false;\n  }\n\n  var NB_LOAD_WARNING = {'data': {'text/html':\n     \"<div style='background-color: #fdd'>\\n\"+\n     \"<p>\\n\"+\n     \"BokehJS does not appear to have successfully loaded. If loading BokehJS from CDN, this \\n\"+\n     \"may be due to a slow or bad network connection. Possible fixes:\\n\"+\n     \"</p>\\n\"+\n     \"<ul>\\n\"+\n     \"<li>re-rerun `output_notebook()` to attempt to load from CDN again, or</li>\\n\"+\n     \"<li>use INLINE resources instead, as so:</li>\\n\"+\n     \"</ul>\\n\"+\n     \"<code>\\n\"+\n     \"from bokeh.resources import INLINE\\n\"+\n     \"output_notebook(resources=INLINE)\\n\"+\n     \"</code>\\n\"+\n     \"</div>\"}};\n\n  function display_loaded() {\n    var el = document.getElementById(\"1002\");\n    if (el != null) {\n      el.textContent = \"BokehJS is loading...\";\n    }\n    if (root.Bokeh !== undefined) {\n      if (el != null) {\n        el.textContent = \"BokehJS \" + root.Bokeh.version + \" successfully loaded.\";\n      }\n    } else if (Date.now() < root._bokeh_timeout) {\n      setTimeout(display_loaded, 100)\n    }\n  }\n\n\n  function run_callbacks() {\n    try {\n      root._bokeh_onload_callbacks.forEach(function(callback) {\n        if (callback != null)\n          callback();\n      });\n    } finally {\n      delete root._bokeh_onload_callbacks\n    }\n    console.debug(\"Bokeh: all callbacks have finished\");\n  }\n\n  function load_libs(css_urls, js_urls, callback) {\n    if (css_urls == null) css_urls = [];\n    if (js_urls == null) js_urls = [];\n\n    root._bokeh_onload_callbacks.push(callback);\n    if (root._bokeh_is_loading > 0) {\n      console.debug(\"Bokeh: BokehJS is being loaded, scheduling callback at\", now());\n      return null;\n    }\n    if (js_urls == null || js_urls.length === 0) {\n      run_callbacks();\n      return null;\n    }\n    console.debug(\"Bokeh: BokehJS not loaded, scheduling load and callback at\", now());\n    root._bokeh_is_loading = css_urls.length + js_urls.length;\n\n    function on_load() {\n      root._bokeh_is_loading--;\n      if (root._bokeh_is_loading === 0) {\n        console.debug(\"Bokeh: all BokehJS libraries/stylesheets loaded\");\n        run_callbacks()\n      }\n    }\n\n    function on_error(url) {\n      console.error(\"failed to load \" + url);\n    }\n\n    for (let i = 0; i < css_urls.length; i++) {\n      const url = css_urls[i];\n      const element = document.createElement(\"link\");\n      element.onload = on_load;\n      element.onerror = on_error.bind(null, url);\n      element.rel = \"stylesheet\";\n      element.type = \"text/css\";\n      element.href = url;\n      console.debug(\"Bokeh: injecting link tag for BokehJS stylesheet: \", url);\n      document.body.appendChild(element);\n    }\n\n    const hashes = {\"https://cdn.bokeh.org/bokeh/release/bokeh-2.3.3.min.js\": \"dM3QQsP+wXdHg42wTqW85BjZQdLNNIXqlPw/BgKoExPmTG7ZLML4EGqLMfqHT6ON\", \"https://cdn.bokeh.org/bokeh/release/bokeh-tables-2.3.3.min.js\": \"8x57I4YuIfu8XyZfFo0XVr2WAT8EK4rh/uDe3wF7YuW2FNUSNEpJbsPaB1nJ2fz2\", \"https://cdn.bokeh.org/bokeh/release/bokeh-widgets-2.3.3.min.js\": \"3QTqdz9LyAm2i0sG5XTePsHec3UHWwVsrOL68SYRoAXsafvfAyqtQ+h440+qIBhS\"};\n\n    for (let i = 0; i < js_urls.length; i++) {\n      const url = js_urls[i];\n      const element = document.createElement('script');\n      element.onload = on_load;\n      element.onerror = on_error.bind(null, url);\n      element.async = false;\n      element.src = url;\n      if (url in hashes) {\n        element.crossOrigin = \"anonymous\";\n        element.integrity = \"sha384-\" + hashes[url];\n      }\n      console.debug(\"Bokeh: injecting script tag for BokehJS library: \", url);\n      document.head.appendChild(element);\n    }\n  };\n\n  function inject_raw_css(css) {\n    const element = document.createElement(\"style\");\n    element.appendChild(document.createTextNode(css));\n    document.body.appendChild(element);\n  }\n\n  \n  var js_urls = [\"https://cdn.bokeh.org/bokeh/release/bokeh-2.3.3.min.js\", \"https://cdn.bokeh.org/bokeh/release/bokeh-widgets-2.3.3.min.js\", \"https://cdn.bokeh.org/bokeh/release/bokeh-tables-2.3.3.min.js\"];\n  var css_urls = [];\n  \n\n  var inline_js = [\n    function(Bokeh) {\n      Bokeh.set_log_level(\"info\");\n    },\n    function(Bokeh) {\n    \n    \n    }\n  ];\n\n  function run_inline_js() {\n    \n    if (root.Bokeh !== undefined || force === true) {\n      \n    for (var i = 0; i < inline_js.length; i++) {\n      inline_js[i].call(root, root.Bokeh);\n    }\n    if (force === true) {\n        display_loaded();\n      }} else if (Date.now() < root._bokeh_timeout) {\n      setTimeout(run_inline_js, 100);\n    } else if (!root._bokeh_failed_load) {\n      console.log(\"Bokeh: BokehJS failed to load within specified timeout.\");\n      root._bokeh_failed_load = true;\n    } else if (force !== true) {\n      var cell = $(document.getElementById(\"1002\")).parents('.cell').data().cell;\n      cell.output_area.append_execute_result(NB_LOAD_WARNING)\n    }\n\n  }\n\n  if (root._bokeh_is_loading === 0) {\n    console.debug(\"Bokeh: BokehJS loaded, going straight to plotting\");\n    run_inline_js();\n  } else {\n    load_libs(css_urls, js_urls, function() {\n      console.debug(\"Bokeh: BokehJS plotting callback run at\", now());\n      run_inline_js();\n    });\n  }\n}(window));"
     },
     "metadata": {},
     "output_type": "display_data"
    },
    {
     "data": {
      "text/html": [
       "\n",
       "\n",
       "\n",
       "\n",
       "\n",
       "\n",
       "  <div class=\"bk-root\" id=\"969a845a-7b89-434c-a69e-99b2ab8ebdd2\" data-root-id=\"1003\"></div>\n"
      ]
     },
     "metadata": {},
     "output_type": "display_data"
    },
    {
     "data": {
      "application/javascript": [
       "(function(root) {\n",
       "  function embed_document(root) {\n",
       "    \n",
       "  var docs_json = {\"fa0f07dd-d5e4-4f10-85a6-3b5671123fa3\":{\"defs\":[],\"roots\":{\"references\":[{\"attributes\":{\"below\":[{\"id\":\"1014\"}],\"center\":[{\"id\":\"1017\"},{\"id\":\"1021\"},{\"id\":\"1063\"}],\"height\":500,\"left\":[{\"id\":\"1018\"}],\"renderers\":[{\"id\":\"1039\"}],\"title\":{\"id\":\"1004\"},\"toolbar\":{\"id\":\"1029\"},\"width\":800,\"x_range\":{\"id\":\"1006\"},\"x_scale\":{\"id\":\"1010\"},\"y_range\":{\"id\":\"1008\"},\"y_scale\":{\"id\":\"1012\"}},\"id\":\"1003\",\"subtype\":\"Figure\",\"type\":\"Plot\"},{\"attributes\":{\"months\":[0,2,4,6,8,10]},\"id\":\"1057\",\"type\":\"MonthsTicker\"},{\"attributes\":{\"data\":{\"x\":{\"__ndarray__\":\"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\",\"dtype\":\"float64\",\"order\":\"little\",\"shape\":[1121]},\"y\":{\"__ndarray__\":\"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\",\"dtype\":\"float64\",\"order\":\"little\",\"shape\":[1121]}},\"selected\":{\"id\":\"1061\"},\"selection_policy\":{\"id\":\"1062\"}},\"id\":\"1036\",\"type\":\"ColumnDataSource\"},{\"attributes\":{\"months\":[0,6]},\"id\":\"1059\",\"type\":\"MonthsTicker\"},{\"attributes\":{},\"id\":\"1060\",\"type\":\"YearsTicker\"},{\"attributes\":{\"label\":{\"value\":\"Charlotte Hornets\"},\"renderers\":[{\"id\":\"1039\"}]},\"id\":\"1064\",\"type\":\"LegendItem\"},{\"attributes\":{},\"id\":\"1006\",\"type\":\"DataRange1d\"},{\"attributes\":{\"months\":[0,4,8]},\"id\":\"1058\",\"type\":\"MonthsTicker\"},{\"attributes\":{},\"id\":\"1008\",\"type\":\"DataRange1d\"},{\"attributes\":{\"text\":\"Historical Elo Rating\"},\"id\":\"1004\",\"type\":\"Title\"},{\"attributes\":{},\"id\":\"1026\",\"type\":\"ResetTool\"},{\"attributes\":{\"axis_label\":\"Elo\",\"formatter\":{\"id\":\"1044\"},\"major_label_policy\":{\"id\":\"1043\"},\"ticker\":{\"id\":\"1019\"}},\"id\":\"1018\",\"type\":\"LinearAxis\"},{\"attributes\":{},\"id\":\"1010\",\"type\":\"LinearScale\"},{\"attributes\":{\"months\":[0,1,2,3,4,5,6,7,8,9,10,11]},\"id\":\"1056\",\"type\":\"MonthsTicker\"},{\"attributes\":{},\"id\":\"1047\",\"type\":\"DatetimeTickFormatter\"},{\"attributes\":{\"axis\":{\"id\":\"1014\"},\"ticker\":null},\"id\":\"1017\",\"type\":\"Grid\"},{\"attributes\":{},\"id\":\"1012\",\"type\":\"LinearScale\"},{\"attributes\":{\"days\":[1,8,15,22]},\"id\":\"1054\",\"type\":\"DaysTicker\"},{\"attributes\":{\"days\":[1,2,3,4,5,6,7,8,9,10,11,12,13,14,15,16,17,18,19,20,21,22,23,24,25,26,27,28,29,30,31]},\"id\":\"1052\",\"type\":\"DaysTicker\"},{\"attributes\":{\"num_minor_ticks\":5,\"tickers\":[{\"id\":\"1049\"},{\"id\":\"1050\"},{\"id\":\"1051\"},{\"id\":\"1052\"},{\"id\":\"1053\"},{\"id\":\"1054\"},{\"id\":\"1055\"},{\"id\":\"1056\"},{\"id\":\"1057\"},{\"id\":\"1058\"},{\"id\":\"1059\"},{\"id\":\"1060\"}]},\"id\":\"1015\",\"type\":\"DatetimeTicker\"},{\"attributes\":{\"days\":[1,15]},\"id\":\"1055\",\"type\":\"DaysTicker\"},{\"attributes\":{\"base\":24,\"mantissas\":[1,2,4,6,8,12],\"max_interval\":43200000.0,\"min_interval\":3600000.0,\"num_minor_ticks\":0},\"id\":\"1051\",\"type\":\"AdaptiveTicker\"},{\"attributes\":{\"days\":[1,4,7,10,13,16,19,22,25,28]},\"id\":\"1053\",\"type\":\"DaysTicker\"},{\"attributes\":{},\"id\":\"1061\",\"type\":\"Selection\"},{\"attributes\":{\"base\":60,\"mantissas\":[1,2,5,10,15,20,30],\"max_interval\":1800000.0,\"min_interval\":1000.0,\"num_minor_ticks\":0},\"id\":\"1050\",\"type\":\"AdaptiveTicker\"},{\"attributes\":{\"fill_alpha\":{\"value\":0.1},\"fill_color\":{\"value\":\"#1f77b4\"},\"line_alpha\":{\"value\":0.1},\"line_color\":{\"value\":\"blue\"},\"x\":{\"field\":\"x\"},\"y\":{\"field\":\"y\"}},\"id\":\"1038\",\"type\":\"Circle\"},{\"attributes\":{\"mantissas\":[1,2,5],\"max_interval\":500.0,\"num_minor_ticks\":0},\"id\":\"1049\",\"type\":\"AdaptiveTicker\"},{\"attributes\":{\"bottom_units\":\"screen\",\"fill_alpha\":0.5,\"fill_color\":\"lightgrey\",\"left_units\":\"screen\",\"level\":\"overlay\",\"line_alpha\":1.0,\"line_color\":\"black\",\"line_dash\":[4,4],\"line_width\":2,\"right_units\":\"screen\",\"syncable\":false,\"top_units\":\"screen\"},\"id\":\"1028\",\"type\":\"BoxAnnotation\"},{\"attributes\":{\"axis\":{\"id\":\"1018\"},\"dimension\":1,\"ticker\":null},\"id\":\"1021\",\"type\":\"Grid\"},{\"attributes\":{},\"id\":\"1027\",\"type\":\"HelpTool\"},{\"attributes\":{},\"id\":\"1043\",\"type\":\"AllLabels\"},{\"attributes\":{\"fill_color\":{\"value\":\"#1f77b4\"},\"line_color\":{\"value\":\"blue\"},\"x\":{\"field\":\"x\"},\"y\":{\"field\":\"y\"}},\"id\":\"1037\",\"type\":\"Circle\"},{\"attributes\":{},\"id\":\"1062\",\"type\":\"UnionRenderers\"},{\"attributes\":{},\"id\":\"1022\",\"type\":\"PanTool\"},{\"attributes\":{},\"id\":\"1044\",\"type\":\"BasicTickFormatter\"},{\"attributes\":{\"active_multi\":null,\"tools\":[{\"id\":\"1022\"},{\"id\":\"1023\"},{\"id\":\"1024\"},{\"id\":\"1025\"},{\"id\":\"1026\"},{\"id\":\"1027\"}]},\"id\":\"1029\",\"type\":\"Toolbar\"},{\"attributes\":{},\"id\":\"1025\",\"type\":\"SaveTool\"},{\"attributes\":{\"data_source\":{\"id\":\"1036\"},\"glyph\":{\"id\":\"1037\"},\"hover_glyph\":null,\"muted_glyph\":null,\"nonselection_glyph\":{\"id\":\"1038\"},\"view\":{\"id\":\"1040\"}},\"id\":\"1039\",\"type\":\"GlyphRenderer\"},{\"attributes\":{\"items\":[{\"id\":\"1064\"}]},\"id\":\"1063\",\"type\":\"Legend\"},{\"attributes\":{\"overlay\":{\"id\":\"1028\"}},\"id\":\"1024\",\"type\":\"BoxZoomTool\"},{\"attributes\":{\"axis_label\":\"Date\",\"formatter\":{\"id\":\"1047\"},\"major_label_policy\":{\"id\":\"1046\"},\"ticker\":{\"id\":\"1015\"}},\"id\":\"1014\",\"type\":\"DatetimeAxis\"},{\"attributes\":{},\"id\":\"1019\",\"type\":\"BasicTicker\"},{\"attributes\":{},\"id\":\"1046\",\"type\":\"AllLabels\"},{\"attributes\":{},\"id\":\"1023\",\"type\":\"WheelZoomTool\"},{\"attributes\":{\"source\":{\"id\":\"1036\"}},\"id\":\"1040\",\"type\":\"CDSView\"}],\"root_ids\":[\"1003\"]},\"title\":\"Bokeh Application\",\"version\":\"2.3.3\"}};\n",
       "  var render_items = [{\"docid\":\"fa0f07dd-d5e4-4f10-85a6-3b5671123fa3\",\"notebook_comms_target\":\"1087\",\"root_ids\":[\"1003\"],\"roots\":{\"1003\":\"969a845a-7b89-434c-a69e-99b2ab8ebdd2\"}}];\n",
       "  root.Bokeh.embed.embed_items_notebook(docs_json, render_items);\n",
       "\n",
       "  }\n",
       "  if (root.Bokeh !== undefined) {\n",
       "    embed_document(root);\n",
       "  } else {\n",
       "    var attempts = 0;\n",
       "    var timer = setInterval(function(root) {\n",
       "      if (root.Bokeh !== undefined) {\n",
       "        clearInterval(timer);\n",
       "        embed_document(root);\n",
       "      } else {\n",
       "        attempts++;\n",
       "        if (attempts > 100) {\n",
       "          clearInterval(timer);\n",
       "          console.log(\"Bokeh: ERROR: Unable to run BokehJS code because BokehJS library is missing\");\n",
       "        }\n",
       "      }\n",
       "    }, 10, root)\n",
       "  }\n",
       "})(window);"
      ],
      "application/vnd.bokehjs_exec.v0+json": ""
     },
     "metadata": {
      "application/vnd.bokehjs_exec.v0+json": {
       "id": "1003"
      }
     },
     "output_type": "display_data"
    },
    {
     "data": {
      "text/html": [
       "\n",
       "    <div class=\"bk-root\">\n",
       "        <a href=\"https://bokeh.org\" target=\"_blank\" class=\"bk-logo bk-logo-small bk-logo-notebook\"></a>\n",
       "        <span id=\"1198\">Loading BokehJS ...</span>\n",
       "    </div>"
      ]
     },
     "metadata": {},
     "output_type": "display_data"
    },
    {
     "data": {
      "application/javascript": [
       "\n",
       "(function(root) {\n",
       "  function now() {\n",
       "    return new Date();\n",
       "  }\n",
       "\n",
       "  var force = true;\n",
       "\n",
       "  if (typeof root._bokeh_onload_callbacks === \"undefined\" || force === true) {\n",
       "    root._bokeh_onload_callbacks = [];\n",
       "    root._bokeh_is_loading = undefined;\n",
       "  }\n",
       "\n",
       "  var JS_MIME_TYPE = 'application/javascript';\n",
       "  var HTML_MIME_TYPE = 'text/html';\n",
       "  var EXEC_MIME_TYPE = 'application/vnd.bokehjs_exec.v0+json';\n",
       "  var CLASS_NAME = 'output_bokeh rendered_html';\n",
       "\n",
       "  /**\n",
       "   * Render data to the DOM node\n",
       "   */\n",
       "  function render(props, node) {\n",
       "    var script = document.createElement(\"script\");\n",
       "    node.appendChild(script);\n",
       "  }\n",
       "\n",
       "  /**\n",
       "   * Handle when an output is cleared or removed\n",
       "   */\n",
       "  function handleClearOutput(event, handle) {\n",
       "    var cell = handle.cell;\n",
       "\n",
       "    var id = cell.output_area._bokeh_element_id;\n",
       "    var server_id = cell.output_area._bokeh_server_id;\n",
       "    // Clean up Bokeh references\n",
       "    if (id != null && id in Bokeh.index) {\n",
       "      Bokeh.index[id].model.document.clear();\n",
       "      delete Bokeh.index[id];\n",
       "    }\n",
       "\n",
       "    if (server_id !== undefined) {\n",
       "      // Clean up Bokeh references\n",
       "      var cmd = \"from bokeh.io.state import curstate; print(curstate().uuid_to_server['\" + server_id + \"'].get_sessions()[0].document.roots[0]._id)\";\n",
       "      cell.notebook.kernel.execute(cmd, {\n",
       "        iopub: {\n",
       "          output: function(msg) {\n",
       "            var id = msg.content.text.trim();\n",
       "            if (id in Bokeh.index) {\n",
       "              Bokeh.index[id].model.document.clear();\n",
       "              delete Bokeh.index[id];\n",
       "            }\n",
       "          }\n",
       "        }\n",
       "      });\n",
       "      // Destroy server and session\n",
       "      var cmd = \"import bokeh.io.notebook as ion; ion.destroy_server('\" + server_id + \"')\";\n",
       "      cell.notebook.kernel.execute(cmd);\n",
       "    }\n",
       "  }\n",
       "\n",
       "  /**\n",
       "   * Handle when a new output is added\n",
       "   */\n",
       "  function handleAddOutput(event, handle) {\n",
       "    var output_area = handle.output_area;\n",
       "    var output = handle.output;\n",
       "\n",
       "    // limit handleAddOutput to display_data with EXEC_MIME_TYPE content only\n",
       "    if ((output.output_type != \"display_data\") || (!Object.prototype.hasOwnProperty.call(output.data, EXEC_MIME_TYPE))) {\n",
       "      return\n",
       "    }\n",
       "\n",
       "    var toinsert = output_area.element.find(\".\" + CLASS_NAME.split(' ')[0]);\n",
       "\n",
       "    if (output.metadata[EXEC_MIME_TYPE][\"id\"] !== undefined) {\n",
       "      toinsert[toinsert.length - 1].firstChild.textContent = output.data[JS_MIME_TYPE];\n",
       "      // store reference to embed id on output_area\n",
       "      output_area._bokeh_element_id = output.metadata[EXEC_MIME_TYPE][\"id\"];\n",
       "    }\n",
       "    if (output.metadata[EXEC_MIME_TYPE][\"server_id\"] !== undefined) {\n",
       "      var bk_div = document.createElement(\"div\");\n",
       "      bk_div.innerHTML = output.data[HTML_MIME_TYPE];\n",
       "      var script_attrs = bk_div.children[0].attributes;\n",
       "      for (var i = 0; i < script_attrs.length; i++) {\n",
       "        toinsert[toinsert.length - 1].firstChild.setAttribute(script_attrs[i].name, script_attrs[i].value);\n",
       "        toinsert[toinsert.length - 1].firstChild.textContent = bk_div.children[0].textContent\n",
       "      }\n",
       "      // store reference to server id on output_area\n",
       "      output_area._bokeh_server_id = output.metadata[EXEC_MIME_TYPE][\"server_id\"];\n",
       "    }\n",
       "  }\n",
       "\n",
       "  function register_renderer(events, OutputArea) {\n",
       "\n",
       "    function append_mime(data, metadata, element) {\n",
       "      // create a DOM node to render to\n",
       "      var toinsert = this.create_output_subarea(\n",
       "        metadata,\n",
       "        CLASS_NAME,\n",
       "        EXEC_MIME_TYPE\n",
       "      );\n",
       "      this.keyboard_manager.register_events(toinsert);\n",
       "      // Render to node\n",
       "      var props = {data: data, metadata: metadata[EXEC_MIME_TYPE]};\n",
       "      render(props, toinsert[toinsert.length - 1]);\n",
       "      element.append(toinsert);\n",
       "      return toinsert\n",
       "    }\n",
       "\n",
       "    /* Handle when an output is cleared or removed */\n",
       "    events.on('clear_output.CodeCell', handleClearOutput);\n",
       "    events.on('delete.Cell', handleClearOutput);\n",
       "\n",
       "    /* Handle when a new output is added */\n",
       "    events.on('output_added.OutputArea', handleAddOutput);\n",
       "\n",
       "    /**\n",
       "     * Register the mime type and append_mime function with output_area\n",
       "     */\n",
       "    OutputArea.prototype.register_mime_type(EXEC_MIME_TYPE, append_mime, {\n",
       "      /* Is output safe? */\n",
       "      safe: true,\n",
       "      /* Index of renderer in `output_area.display_order` */\n",
       "      index: 0\n",
       "    });\n",
       "  }\n",
       "\n",
       "  // register the mime type if in Jupyter Notebook environment and previously unregistered\n",
       "  if (root.Jupyter !== undefined) {\n",
       "    var events = require('base/js/events');\n",
       "    var OutputArea = require('notebook/js/outputarea').OutputArea;\n",
       "\n",
       "    if (OutputArea.prototype.mime_types().indexOf(EXEC_MIME_TYPE) == -1) {\n",
       "      register_renderer(events, OutputArea);\n",
       "    }\n",
       "  }\n",
       "\n",
       "  \n",
       "  if (typeof (root._bokeh_timeout) === \"undefined\" || force === true) {\n",
       "    root._bokeh_timeout = Date.now() + 5000;\n",
       "    root._bokeh_failed_load = false;\n",
       "  }\n",
       "\n",
       "  var NB_LOAD_WARNING = {'data': {'text/html':\n",
       "     \"<div style='background-color: #fdd'>\\n\"+\n",
       "     \"<p>\\n\"+\n",
       "     \"BokehJS does not appear to have successfully loaded. If loading BokehJS from CDN, this \\n\"+\n",
       "     \"may be due to a slow or bad network connection. Possible fixes:\\n\"+\n",
       "     \"</p>\\n\"+\n",
       "     \"<ul>\\n\"+\n",
       "     \"<li>re-rerun `output_notebook()` to attempt to load from CDN again, or</li>\\n\"+\n",
       "     \"<li>use INLINE resources instead, as so:</li>\\n\"+\n",
       "     \"</ul>\\n\"+\n",
       "     \"<code>\\n\"+\n",
       "     \"from bokeh.resources import INLINE\\n\"+\n",
       "     \"output_notebook(resources=INLINE)\\n\"+\n",
       "     \"</code>\\n\"+\n",
       "     \"</div>\"}};\n",
       "\n",
       "  function display_loaded() {\n",
       "    var el = document.getElementById(\"1198\");\n",
       "    if (el != null) {\n",
       "      el.textContent = \"BokehJS is loading...\";\n",
       "    }\n",
       "    if (root.Bokeh !== undefined) {\n",
       "      if (el != null) {\n",
       "        el.textContent = \"BokehJS \" + root.Bokeh.version + \" successfully loaded.\";\n",
       "      }\n",
       "    } else if (Date.now() < root._bokeh_timeout) {\n",
       "      setTimeout(display_loaded, 100)\n",
       "    }\n",
       "  }\n",
       "\n",
       "\n",
       "  function run_callbacks() {\n",
       "    try {\n",
       "      root._bokeh_onload_callbacks.forEach(function(callback) {\n",
       "        if (callback != null)\n",
       "          callback();\n",
       "      });\n",
       "    } finally {\n",
       "      delete root._bokeh_onload_callbacks\n",
       "    }\n",
       "    console.debug(\"Bokeh: all callbacks have finished\");\n",
       "  }\n",
       "\n",
       "  function load_libs(css_urls, js_urls, callback) {\n",
       "    if (css_urls == null) css_urls = [];\n",
       "    if (js_urls == null) js_urls = [];\n",
       "\n",
       "    root._bokeh_onload_callbacks.push(callback);\n",
       "    if (root._bokeh_is_loading > 0) {\n",
       "      console.debug(\"Bokeh: BokehJS is being loaded, scheduling callback at\", now());\n",
       "      return null;\n",
       "    }\n",
       "    if (js_urls == null || js_urls.length === 0) {\n",
       "      run_callbacks();\n",
       "      return null;\n",
       "    }\n",
       "    console.debug(\"Bokeh: BokehJS not loaded, scheduling load and callback at\", now());\n",
       "    root._bokeh_is_loading = css_urls.length + js_urls.length;\n",
       "\n",
       "    function on_load() {\n",
       "      root._bokeh_is_loading--;\n",
       "      if (root._bokeh_is_loading === 0) {\n",
       "        console.debug(\"Bokeh: all BokehJS libraries/stylesheets loaded\");\n",
       "        run_callbacks()\n",
       "      }\n",
       "    }\n",
       "\n",
       "    function on_error(url) {\n",
       "      console.error(\"failed to load \" + url);\n",
       "    }\n",
       "\n",
       "    for (let i = 0; i < css_urls.length; i++) {\n",
       "      const url = css_urls[i];\n",
       "      const element = document.createElement(\"link\");\n",
       "      element.onload = on_load;\n",
       "      element.onerror = on_error.bind(null, url);\n",
       "      element.rel = \"stylesheet\";\n",
       "      element.type = \"text/css\";\n",
       "      element.href = url;\n",
       "      console.debug(\"Bokeh: injecting link tag for BokehJS stylesheet: \", url);\n",
       "      document.body.appendChild(element);\n",
       "    }\n",
       "\n",
       "    const hashes = {\"https://cdn.bokeh.org/bokeh/release/bokeh-2.3.3.min.js\": \"dM3QQsP+wXdHg42wTqW85BjZQdLNNIXqlPw/BgKoExPmTG7ZLML4EGqLMfqHT6ON\", \"https://cdn.bokeh.org/bokeh/release/bokeh-tables-2.3.3.min.js\": \"8x57I4YuIfu8XyZfFo0XVr2WAT8EK4rh/uDe3wF7YuW2FNUSNEpJbsPaB1nJ2fz2\", \"https://cdn.bokeh.org/bokeh/release/bokeh-widgets-2.3.3.min.js\": \"3QTqdz9LyAm2i0sG5XTePsHec3UHWwVsrOL68SYRoAXsafvfAyqtQ+h440+qIBhS\"};\n",
       "\n",
       "    for (let i = 0; i < js_urls.length; i++) {\n",
       "      const url = js_urls[i];\n",
       "      const element = document.createElement('script');\n",
       "      element.onload = on_load;\n",
       "      element.onerror = on_error.bind(null, url);\n",
       "      element.async = false;\n",
       "      element.src = url;\n",
       "      if (url in hashes) {\n",
       "        element.crossOrigin = \"anonymous\";\n",
       "        element.integrity = \"sha384-\" + hashes[url];\n",
       "      }\n",
       "      console.debug(\"Bokeh: injecting script tag for BokehJS library: \", url);\n",
       "      document.head.appendChild(element);\n",
       "    }\n",
       "  };\n",
       "\n",
       "  function inject_raw_css(css) {\n",
       "    const element = document.createElement(\"style\");\n",
       "    element.appendChild(document.createTextNode(css));\n",
       "    document.body.appendChild(element);\n",
       "  }\n",
       "\n",
       "  \n",
       "  var js_urls = [\"https://cdn.bokeh.org/bokeh/release/bokeh-2.3.3.min.js\", \"https://cdn.bokeh.org/bokeh/release/bokeh-widgets-2.3.3.min.js\", \"https://cdn.bokeh.org/bokeh/release/bokeh-tables-2.3.3.min.js\"];\n",
       "  var css_urls = [];\n",
       "  \n",
       "\n",
       "  var inline_js = [\n",
       "    function(Bokeh) {\n",
       "      Bokeh.set_log_level(\"info\");\n",
       "    },\n",
       "    function(Bokeh) {\n",
       "    \n",
       "    \n",
       "    }\n",
       "  ];\n",
       "\n",
       "  function run_inline_js() {\n",
       "    \n",
       "    if (root.Bokeh !== undefined || force === true) {\n",
       "      \n",
       "    for (var i = 0; i < inline_js.length; i++) {\n",
       "      inline_js[i].call(root, root.Bokeh);\n",
       "    }\n",
       "    if (force === true) {\n",
       "        display_loaded();\n",
       "      }} else if (Date.now() < root._bokeh_timeout) {\n",
       "      setTimeout(run_inline_js, 100);\n",
       "    } else if (!root._bokeh_failed_load) {\n",
       "      console.log(\"Bokeh: BokehJS failed to load within specified timeout.\");\n",
       "      root._bokeh_failed_load = true;\n",
       "    } else if (force !== true) {\n",
       "      var cell = $(document.getElementById(\"1198\")).parents('.cell').data().cell;\n",
       "      cell.output_area.append_execute_result(NB_LOAD_WARNING)\n",
       "    }\n",
       "\n",
       "  }\n",
       "\n",
       "  if (root._bokeh_is_loading === 0) {\n",
       "    console.debug(\"Bokeh: BokehJS loaded, going straight to plotting\");\n",
       "    run_inline_js();\n",
       "  } else {\n",
       "    load_libs(css_urls, js_urls, function() {\n",
       "      console.debug(\"Bokeh: BokehJS plotting callback run at\", now());\n",
       "      run_inline_js();\n",
       "    });\n",
       "  }\n",
       "}(window));"
      ],
      "application/vnd.bokehjs_load.v0+json": "\n(function(root) {\n  function now() {\n    return new Date();\n  }\n\n  var force = true;\n\n  if (typeof root._bokeh_onload_callbacks === \"undefined\" || force === true) {\n    root._bokeh_onload_callbacks = [];\n    root._bokeh_is_loading = undefined;\n  }\n\n  \n\n  \n  if (typeof (root._bokeh_timeout) === \"undefined\" || force === true) {\n    root._bokeh_timeout = Date.now() + 5000;\n    root._bokeh_failed_load = false;\n  }\n\n  var NB_LOAD_WARNING = {'data': {'text/html':\n     \"<div style='background-color: #fdd'>\\n\"+\n     \"<p>\\n\"+\n     \"BokehJS does not appear to have successfully loaded. If loading BokehJS from CDN, this \\n\"+\n     \"may be due to a slow or bad network connection. Possible fixes:\\n\"+\n     \"</p>\\n\"+\n     \"<ul>\\n\"+\n     \"<li>re-rerun `output_notebook()` to attempt to load from CDN again, or</li>\\n\"+\n     \"<li>use INLINE resources instead, as so:</li>\\n\"+\n     \"</ul>\\n\"+\n     \"<code>\\n\"+\n     \"from bokeh.resources import INLINE\\n\"+\n     \"output_notebook(resources=INLINE)\\n\"+\n     \"</code>\\n\"+\n     \"</div>\"}};\n\n  function display_loaded() {\n    var el = document.getElementById(\"1198\");\n    if (el != null) {\n      el.textContent = \"BokehJS is loading...\";\n    }\n    if (root.Bokeh !== undefined) {\n      if (el != null) {\n        el.textContent = \"BokehJS \" + root.Bokeh.version + \" successfully loaded.\";\n      }\n    } else if (Date.now() < root._bokeh_timeout) {\n      setTimeout(display_loaded, 100)\n    }\n  }\n\n\n  function run_callbacks() {\n    try {\n      root._bokeh_onload_callbacks.forEach(function(callback) {\n        if (callback != null)\n          callback();\n      });\n    } finally {\n      delete root._bokeh_onload_callbacks\n    }\n    console.debug(\"Bokeh: all callbacks have finished\");\n  }\n\n  function load_libs(css_urls, js_urls, callback) {\n    if (css_urls == null) css_urls = [];\n    if (js_urls == null) js_urls = [];\n\n    root._bokeh_onload_callbacks.push(callback);\n    if (root._bokeh_is_loading > 0) {\n      console.debug(\"Bokeh: BokehJS is being loaded, scheduling callback at\", now());\n      return null;\n    }\n    if (js_urls == null || js_urls.length === 0) {\n      run_callbacks();\n      return null;\n    }\n    console.debug(\"Bokeh: BokehJS not loaded, scheduling load and callback at\", now());\n    root._bokeh_is_loading = css_urls.length + js_urls.length;\n\n    function on_load() {\n      root._bokeh_is_loading--;\n      if (root._bokeh_is_loading === 0) {\n        console.debug(\"Bokeh: all BokehJS libraries/stylesheets loaded\");\n        run_callbacks()\n      }\n    }\n\n    function on_error(url) {\n      console.error(\"failed to load \" + url);\n    }\n\n    for (let i = 0; i < css_urls.length; i++) {\n      const url = css_urls[i];\n      const element = document.createElement(\"link\");\n      element.onload = on_load;\n      element.onerror = on_error.bind(null, url);\n      element.rel = \"stylesheet\";\n      element.type = \"text/css\";\n      element.href = url;\n      console.debug(\"Bokeh: injecting link tag for BokehJS stylesheet: \", url);\n      document.body.appendChild(element);\n    }\n\n    const hashes = {\"https://cdn.bokeh.org/bokeh/release/bokeh-2.3.3.min.js\": \"dM3QQsP+wXdHg42wTqW85BjZQdLNNIXqlPw/BgKoExPmTG7ZLML4EGqLMfqHT6ON\", \"https://cdn.bokeh.org/bokeh/release/bokeh-tables-2.3.3.min.js\": \"8x57I4YuIfu8XyZfFo0XVr2WAT8EK4rh/uDe3wF7YuW2FNUSNEpJbsPaB1nJ2fz2\", \"https://cdn.bokeh.org/bokeh/release/bokeh-widgets-2.3.3.min.js\": \"3QTqdz9LyAm2i0sG5XTePsHec3UHWwVsrOL68SYRoAXsafvfAyqtQ+h440+qIBhS\"};\n\n    for (let i = 0; i < js_urls.length; i++) {\n      const url = js_urls[i];\n      const element = document.createElement('script');\n      element.onload = on_load;\n      element.onerror = on_error.bind(null, url);\n      element.async = false;\n      element.src = url;\n      if (url in hashes) {\n        element.crossOrigin = \"anonymous\";\n        element.integrity = \"sha384-\" + hashes[url];\n      }\n      console.debug(\"Bokeh: injecting script tag for BokehJS library: \", url);\n      document.head.appendChild(element);\n    }\n  };\n\n  function inject_raw_css(css) {\n    const element = document.createElement(\"style\");\n    element.appendChild(document.createTextNode(css));\n    document.body.appendChild(element);\n  }\n\n  \n  var js_urls = [\"https://cdn.bokeh.org/bokeh/release/bokeh-2.3.3.min.js\", \"https://cdn.bokeh.org/bokeh/release/bokeh-widgets-2.3.3.min.js\", \"https://cdn.bokeh.org/bokeh/release/bokeh-tables-2.3.3.min.js\"];\n  var css_urls = [];\n  \n\n  var inline_js = [\n    function(Bokeh) {\n      Bokeh.set_log_level(\"info\");\n    },\n    function(Bokeh) {\n    \n    \n    }\n  ];\n\n  function run_inline_js() {\n    \n    if (root.Bokeh !== undefined || force === true) {\n      \n    for (var i = 0; i < inline_js.length; i++) {\n      inline_js[i].call(root, root.Bokeh);\n    }\n    if (force === true) {\n        display_loaded();\n      }} else if (Date.now() < root._bokeh_timeout) {\n      setTimeout(run_inline_js, 100);\n    } else if (!root._bokeh_failed_load) {\n      console.log(\"Bokeh: BokehJS failed to load within specified timeout.\");\n      root._bokeh_failed_load = true;\n    } else if (force !== true) {\n      var cell = $(document.getElementById(\"1198\")).parents('.cell').data().cell;\n      cell.output_area.append_execute_result(NB_LOAD_WARNING)\n    }\n\n  }\n\n  if (root._bokeh_is_loading === 0) {\n    console.debug(\"Bokeh: BokehJS loaded, going straight to plotting\");\n    run_inline_js();\n  } else {\n    load_libs(css_urls, js_urls, function() {\n      console.debug(\"Bokeh: BokehJS plotting callback run at\", now());\n      run_inline_js();\n    });\n  }\n}(window));"
     },
     "metadata": {},
     "output_type": "display_data"
    },
    {
     "data": {
      "text/html": [
       "\n",
       "\n",
       "\n",
       "\n",
       "\n",
       "\n",
       "  <div class=\"bk-root\" id=\"43113144-5175-4465-8a56-ab9bea475fd0\" data-root-id=\"1199\"></div>\n"
      ]
     },
     "metadata": {},
     "output_type": "display_data"
    },
    {
     "data": {
      "application/javascript": [
       "(function(root) {\n",
       "  function embed_document(root) {\n",
       "    \n",
       "  var docs_json = {\"474c35af-47f8-40d0-9720-c8af7e43d4e3\":{\"defs\":[],\"roots\":{\"references\":[{\"attributes\":{\"below\":[{\"id\":\"1210\"}],\"center\":[{\"id\":\"1213\"},{\"id\":\"1217\"},{\"id\":\"1259\"}],\"height\":500,\"left\":[{\"id\":\"1214\"}],\"renderers\":[{\"id\":\"1235\"}],\"title\":{\"id\":\"1200\"},\"toolbar\":{\"id\":\"1225\"},\"width\":800,\"x_range\":{\"id\":\"1202\"},\"x_scale\":{\"id\":\"1206\"},\"y_range\":{\"id\":\"1204\"},\"y_scale\":{\"id\":\"1208\"}},\"id\":\"1199\",\"subtype\":\"Figure\",\"type\":\"Plot\"},{\"attributes\":{},\"id\":\"1258\",\"type\":\"UnionRenderers\"},{\"attributes\":{\"axis_label\":\"Elo\",\"formatter\":{\"id\":\"1240\"},\"major_label_policy\":{\"id\":\"1239\"},\"ticker\":{\"id\":\"1215\"}},\"id\":\"1214\",\"type\":\"LinearAxis\"},{\"attributes\":{},\"id\":\"1208\",\"type\":\"LinearScale\"},{\"attributes\":{},\"id\":\"1206\",\"type\":\"LinearScale\"},{\"attributes\":{\"axis_label\":\"Date\",\"formatter\":{\"id\":\"1243\"},\"major_label_policy\":{\"id\":\"1242\"},\"ticker\":{\"id\":\"1211\"}},\"id\":\"1210\",\"type\":\"DatetimeAxis\"},{\"attributes\":{},\"id\":\"1239\",\"type\":\"AllLabels\"},{\"attributes\":{\"num_minor_ticks\":5,\"tickers\":[{\"id\":\"1245\"},{\"id\":\"1246\"},{\"id\":\"1247\"},{\"id\":\"1248\"},{\"id\":\"1249\"},{\"id\":\"1250\"},{\"id\":\"1251\"},{\"id\":\"1252\"},{\"id\":\"1253\"},{\"id\":\"1254\"},{\"id\":\"1255\"},{\"id\":\"1256\"}]},\"id\":\"1211\",\"type\":\"DatetimeTicker\"},{\"attributes\":{\"mantissas\":[1,2,5],\"max_interval\":500.0,\"num_minor_ticks\":0},\"id\":\"1245\",\"type\":\"AdaptiveTicker\"},{\"attributes\":{\"axis\":{\"id\":\"1210\"},\"ticker\":null},\"id\":\"1213\",\"type\":\"Grid\"},{\"attributes\":{},\"id\":\"1240\",\"type\":\"BasicTickFormatter\"},{\"attributes\":{\"base\":60,\"mantissas\":[1,2,5,10,15,20,30],\"max_interval\":1800000.0,\"min_interval\":1000.0,\"num_minor_ticks\":0},\"id\":\"1246\",\"type\":\"AdaptiveTicker\"},{\"attributes\":{},\"id\":\"1219\",\"type\":\"WheelZoomTool\"},{\"attributes\":{\"base\":24,\"mantissas\":[1,2,4,6,8,12],\"max_interval\":43200000.0,\"min_interval\":3600000.0,\"num_minor_ticks\":0},\"id\":\"1247\",\"type\":\"AdaptiveTicker\"},{\"attributes\":{},\"id\":\"1256\",\"type\":\"YearsTicker\"},{\"attributes\":{\"months\":[0,1,2,3,4,5,6,7,8,9,10,11]},\"id\":\"1252\",\"type\":\"MonthsTicker\"},{\"attributes\":{\"axis\":{\"id\":\"1214\"},\"dimension\":1,\"ticker\":null},\"id\":\"1217\",\"type\":\"Grid\"},{\"attributes\":{},\"id\":\"1242\",\"type\":\"AllLabels\"},{\"attributes\":{\"days\":[1,15]},\"id\":\"1251\",\"type\":\"DaysTicker\"},{\"attributes\":{},\"id\":\"1215\",\"type\":\"BasicTicker\"},{\"attributes\":{},\"id\":\"1243\",\"type\":\"DatetimeTickFormatter\"},{\"attributes\":{\"days\":[1,2,3,4,5,6,7,8,9,10,11,12,13,14,15,16,17,18,19,20,21,22,23,24,25,26,27,28,29,30,31]},\"id\":\"1248\",\"type\":\"DaysTicker\"},{\"attributes\":{\"active_multi\":null,\"tools\":[{\"id\":\"1218\"},{\"id\":\"1219\"},{\"id\":\"1220\"},{\"id\":\"1221\"},{\"id\":\"1222\"},{\"id\":\"1223\"}]},\"id\":\"1225\",\"type\":\"Toolbar\"},{\"attributes\":{\"days\":[1,4,7,10,13,16,19,22,25,28]},\"id\":\"1249\",\"type\":\"DaysTicker\"},{\"attributes\":{\"fill_color\":{\"value\":\"#1f77b4\"},\"line_color\":{\"value\":\"blue\"},\"x\":{\"field\":\"x\"},\"y\":{\"field\":\"y\"}},\"id\":\"1233\",\"type\":\"Circle\"},{\"attributes\":{\"days\":[1,8,15,22]},\"id\":\"1250\",\"type\":\"DaysTicker\"},{\"attributes\":{},\"id\":\"1202\",\"type\":\"DataRange1d\"},{\"attributes\":{},\"id\":\"1223\",\"type\":\"HelpTool\"},{\"attributes\":{\"months\":[0,6]},\"id\":\"1255\",\"type\":\"MonthsTicker\"},{\"attributes\":{\"text\":\"Historical Elo Rating\"},\"id\":\"1200\",\"type\":\"Title\"},{\"attributes\":{},\"id\":\"1218\",\"type\":\"PanTool\"},{\"attributes\":{\"months\":[0,2,4,6,8,10]},\"id\":\"1253\",\"type\":\"MonthsTicker\"},{\"attributes\":{\"overlay\":{\"id\":\"1224\"}},\"id\":\"1220\",\"type\":\"BoxZoomTool\"},{\"attributes\":{},\"id\":\"1221\",\"type\":\"SaveTool\"},{\"attributes\":{},\"id\":\"1222\",\"type\":\"ResetTool\"},{\"attributes\":{\"months\":[0,4,8]},\"id\":\"1254\",\"type\":\"MonthsTicker\"},{\"attributes\":{\"fill_alpha\":{\"value\":0.1},\"fill_color\":{\"value\":\"#1f77b4\"},\"line_alpha\":{\"value\":0.1},\"line_color\":{\"value\":\"blue\"},\"x\":{\"field\":\"x\"},\"y\":{\"field\":\"y\"}},\"id\":\"1234\",\"type\":\"Circle\"},{\"attributes\":{\"label\":{\"value\":\"Chicago Bulls\"},\"renderers\":[{\"id\":\"1235\"}]},\"id\":\"1260\",\"type\":\"LegendItem\"},{\"attributes\":{\"source\":{\"id\":\"1232\"}},\"id\":\"1236\",\"type\":\"CDSView\"},{\"attributes\":{\"items\":[{\"id\":\"1260\"}]},\"id\":\"1259\",\"type\":\"Legend\"},{\"attributes\":{},\"id\":\"1204\",\"type\":\"DataRange1d\"},{\"attributes\":{},\"id\":\"1257\",\"type\":\"Selection\"},{\"attributes\":{\"data_source\":{\"id\":\"1232\"},\"glyph\":{\"id\":\"1233\"},\"hover_glyph\":null,\"muted_glyph\":null,\"nonselection_glyph\":{\"id\":\"1234\"},\"view\":{\"id\":\"1236\"}},\"id\":\"1235\",\"type\":\"GlyphRenderer\"},{\"attributes\":{\"data\":{\"x\":{\"__ndarray__\":\"AADAtzVfcUIAAECD2l9xQgAAAOksYHFCAABAGiRhcUIAAMDlyGFxQgAAQLFtYnFCAAAArglkcUIAAIB5rmRxQgAAQN8AZXFCAADAqqVlcUIAAMBB72ZxQgAAgKdBZ3FCAAAAc+ZncUIAAAAKMGlxQgAAgNXUaXFCAAAAoXlqcUIAAIBsHmtxQgAAQNJwa3FCAACAA2hscUIAAEBpumxxQgAAwDRfbXFCAADAy6hucUIAAIAx+25xQgAAAP2fb3FCAADAYvJvcUIAAMD5O3FxQgAAQMXgcXFCAADAkIVycUIAAID213JxQgAAAMJ8c3FCAADAJ89zcUIAAEDzc3RxQgAAgCRrdXFCAADAVWJ2cUIAAEAhB3dxQgAAwOyrd3FCAACAUv53cUIAAAAeo3hxQgAAwIP1eHFCAABAT5p5cUIAAMAaP3pxQgAAQObjenFCAADAsYh7cUIAAEB9LXxxQgAAAON/fHFCAABAFHd9cUIAAMDfG35xQgAAQKvAfnFCAAAAERN/cUIAAIDct39xQgAAwA2vgHFCAABA2VOBcUIAAMA7QoNxQgAAQAfng3FCAADA0ouEcUIAAIA43oRxQgAAAASDhXFCAACAzyeGcUIAAACbzIZxQgAAgGZxh3FCAAAAMhaIcUIAAMCXaIhxQgAAQGMNiXFCAADALrKJcUIAAABgqYpxQgAAQJGgi3FCAAAA9/KLcUIAAIDCl4xxQgAAAI48jXFCAABAvzOOcUIAAAAlho5xQgAAgPAqj3FCAABAVn2PcUIAAICHdJBxQgAAAFMZkXFCAACAHr6RcUIAAMBPtZJxQgAAgLUHk3FCAAAAgayTcUIAAIBMUZRxQgAAQLKjlHFCAADAfUiVcUIAAAD/C9RxQgAAQDAD1XFCAAAAllXVcUIAAIBh+tVxQgAAAC2f1nFCAACA+EPXcUIAAEBeltdxQgAAgI+N2HFCAAAAWzLZcUIAAIAm19lxQgAAwFfO2nFCAACAvSDbcUIAAACJxdtxQgAAgFRq3HFCAABAurzccUIAAMCFYd1xQgAAwByr3nFCAABA6E/fcUIAAABOot9xQgAAQH+Z4HFCAACAsJDhcUIAAMDhh+JxQgAAgEfa4nFCAADAeNHjcUIAAIDeI+RxQgAAAKrI5HFCAADADxvlcUIAAABBEuZxQgAAQHIJ53FCAAAA2FvncUIAAICjAOhxQgAAAG+l6HFCAACAOkrpcUIAAECgnOlxQgAAgNGT6nFCAADAAovrcUIAAIBo3etxQgAAADSC7HFCAACA/ybtcUIAAEBlee1xQgAAwDAe7nFCAABA/MLucUIAAABiFe9xQgAAQJMM8HFCAADAXrHwcUIAAACQqPFxQgAAgFtN8nFCAABAwZ/ycUIAAIDylvNxQgAAQFjp83FCAACAieD0cUIAAMC61/VxQgAAQIZ89nFCAADA6Gr4cUIAAEC0D/lxQgAAwH+0+XFCAABAS1n6cUIAAACxq/pxQgAAgHxQ+3FCAABA4qL7cUIAAIATmvxxQgAAQHns/HFCAADARJH9cUIAAAB2iP5xQgAAgEEt/3FCAAAADdL/cUIAAMByJAByQgAAAKQbAXJCAADACW4BckIAAAA7ZQJyQgAAgAYKA3JCAABAbFwDckIAAMA3AQRyQgAAQAOmBHJCAAAAafgEckIAAIA0nQVyQgAAgMvmBnJCAADA/N0HckIAAEDIgghyQgAAwJMnCXJCAABAX8wJckIAAMAqcQpyQgAAAFxoC3JCAACAJw0MckIAAMBYBA1yQgAAAIr7DXJCAACAVaAOckIAAAAhRQ9yQgAAgOzpD3JCAACAd9lJckIAAEDdK0pyQgAAwKjQSnJCAABAdHVLckIAAMA/GkxyQgAAQAu/THJCAACAPLZNckIAAECiCE5yQgAAgNP/TnJCAADABPdPckIAAEDQm1ByQgAAwJtAUXJCAABAZ+VRckIAAICY3FJyQgAAgC8mVHJCAAAA+8pUckIAAIDGb1VyQgAAQCzCVXJCAACAXblWckIAAEDDC1dyQgAAwI6wV3JCAACA9AJYckIAAMAl+lhyQgAAQPGeWXJCAADAvENackIAAECI6FpyQgAAAO46W3JCAAAAhYRcckIAAEC2e11yQgAAwIEgXnJCAABATcVeckIAAMAYal9yQgAAgH68X3JCAADAr7NgckIAAIAVBmFyQgAAAOGqYXJCAABAEqJickIAAAB49GJyQgAAQKnrY3JCAADAdJBkckIAAEBANWVyQgAAAKaHZXJCAACAcSxmckIAAAA90WZyQgAAgAh2Z3JCAACAn79ockIAAEAFEmlyQgAAwNC2aXJCAACANglqckIAAMBnAGtyQgAAgM1Sa3JCAAAAMEFtckIAAMCVk21yQgAAQGE4bnJCAAAAx4puckIAAICSL29yQgAAAF7Ub3JCAACAKXlwckIAAECPy3ByQgAAwFpwcXJCAAAAjGdyckIAAIBXDHNyQgAAwIgDdHJCAABAVKh0ckIAAAC6+nRyQgAAAFFEdnJCAADAtpZ2ckIAAECCO3dyQgAAAOiNd3JCAACAszJ4ckIAAMDkKXlyQgAAQLDOeXJCAAAAFiF6ckIAAIDhxXpyQgAAwBK9e3JCAACAeA98ckIAAMCpBn1yQgAAQHWrfXJCAAAA2/19ckIAAICmon5yQgAAAHJHf3JCAADA15l/ckIAAAAJkYByQgAAgNQ1gXJCAADABS2CckIAAAA3JINyQgAAgALJg3JCAADAvq++ckIAAADwpr9yQgAAgLtLwHJCAADA7ELBckIAAIBSlcFyQgAAwIOMwnJCAAAAtYPDckIAAICAKMRyQgAAwLEfxXJCAACAF3LFckIAAADjFsZyQgAAAHpgx3JCAADA37LHckIAAECrV8hyQgAAABGqyHJCAAAAqPPJckIAAIBzmMpyQgAAQNnqynJCAADApI/LckIAAEBwNMxyQgAAwDvZzHJCAACAoSvNckIAAABt0M1yQgAAgDh1znJCAADAaWzPckIAAACbY9ByQgAAwAC20HJCAAAAMq3RckIAAMCX/9FyQgAAQGOk0nJCAACAlJvTckIAAED67dNyQgAAgCvl1HJCAABAkTfVckIAAMBc3NVyQgAAgMIu1nJCAAAAjtPWckIAAIBZeNdyQgAAACUd2HJCAADAim/YckIAAEBWFNlyQgAAALxm2XJCAACAhwvackIAAABTsNpyQgAAgB5V23JCAACAtZ7cckIAAEAb8dxyQgAAQLI63nJCAACA4zHfckIAAACv1t9yQgAAgHp74HJCAADAq3LhckIAAADdaeJyQgAAgKgO43JCAAAAC/3kckIAAMBwT+VyQgAAQDz05XJCAADAB5nmckIAAEDTPedyQgAAwJ7i53JCAABAaofockIAAADQ2ehyQgAAgJt+6XJCAAAAZyPqckIAAMDMdepyQgAAAP5s63JCAACAyRHsckIAAEAvZOxyQgAAgGBb7XJCAABAxq3tckIAAID3pO5yQgAAQF337nJCAADAKJzvckIAAED0QPByQgAAwL/l8HJCAACAJTjxckIAAMBWL/JyQgAAQCLU8nJCAAAAiCbzckIAAIBTy/NyQgAAAB9w9HJCAADAhML0ckIAAAC2ufVyQgAAgIFe9nJCAADAslX3ckIAAEB++vdyQgAAgK/x+HJCAAAAEuD6ckIAAIDdhPtyQgAAAKkp/HJCAACAdM78ckIAAABAc/1yQgAAgAsY/nJCAADAPA//ckIAAABuBgBzQgAAAAVQAXNCAACA0PQBc0IAAACcmQJzQgAAwEQoR3NCAACAqnpHc0IAAMDbcUhzQgAAgEHESHNCAAAADWlJc0IAAIDYDUpzQgAAQD5gSnNCAADACQVLc0IAAIBvV0tzQgAAADv8S3NCAADAoE5Mc0IAAIAGoUxzQgAAANJFTXNCAADAN5hNc0IAAEADPU5zQgAAAGmPTnNCAABAmoZPc0IAAAAA2U9zQgAAgMt9UHNCAAAAlyJRc0IAAIBix1FzQgAAAC5sUnNCAADAk75Sc0IAAEBfY1NzQgAAAMW1U3NCAACAkFpUc0IAAABc/1RzQgAAgCekVXNCAAAA80hWc0IAAIC+7VZzQgAAAIqSV3NCAACAVTdYc0IAAAAh3FhzQgAAgOyAWXNCAAAAuCVac0IAAIAaFFxzQgAAQIBmXHNCAADASwtdc0IAAEAXsF1zQgAAAH0CXnNCAACASKdec0IAAECu+V5zQgAAwHmeX3NCAABARUNgc0IAAMAQ6GBzQgAAQNyMYXNCAAAAQt9hc0IAAIANhGJzQgAAANkoY3NCAABACiBkc0IAAMDVxGRzQgAAQKFpZXNCAADAbA5mc0IAAEA4s2ZzQgAAAJ4FZ3NCAABAz/xnc0IAAIAA9GhzQgAAAMyYaXNCAACAlz1qc0IAAMDINGtzQgAAgC6Ha3NCAAAA+itsc0IAAMBffmxzQgAAQCsjbXNCAABAwmxuc0IAAAAov25zQgAAgPNjb3NCAADAJFtwc0IAAABWUnFzQgAAgCH3cXNCAAAA7Ztyc0IAAIC4QHNzQgAAAOFBq3NCAACArOarc0IAAEASOaxzQgAAgEMwrXNCAAAAD9Wtc0IAAIDaea5zQgAAAKYer3NCAACAccOvc0IAAMCiurBzQgAAgAgNsXNCAADAOQSyc0IAAABr+7JzQgAAgDags3NCAAAAAkW0c0IAAEAzPLVzQgAAgGQztnNCAABAyoW2c0IAAMCVKrdzQgAAgPt8t3NCAADALHS4c0IAAICSxrhzQgAAwMO9uXNCAABAj2K6c0IAAAD1tLpzQgAAQCasu3NCAAAAjP67c0IAAEC99bxzQgAAQFQ/vnNCAADAH+S+c0IAAEDriL9zQgAAwLYtwHNCAAAA6CTBc0IAAICzycFzQgAAAH9uwnNCAADA5MDCc0IAAECwZcNzQgAAwHsKxHNCAABAR6/Ec0IAAACtAcVzQgAAgHimxXNCAAAAREvGc0IAAIAP8MZzQgAAQHVCx3NCAADAQOfHc0IAAEAMjMhzQgAAwNcwyXNCAACAPYPJc0IAAAAJKMpzQgAAQDofy3NCAAAAoHHLc0IAAEDRaMxzQgAAwJwNzXNCAABA//vOc0IAAMDKoM9zQgAAgDDzz3NCAAAA/JfQc0IAAIDHPNFzQgAAAJPh0XNCAACAXobSc0IAAEDE2NJzQgAAgPXP03NCAAAAwXTUc0IAAICMGdVzQgAAwL0Q1nNCAABAibXWc0IAAIC6rNdzQgAAwOuj2HNCAABAt0jZc0IAAAAdm9lzQgAAQE6S2nNCAACAf4nbc0IAAEDl29tzQgAAwLCA3HNCAABAfCXdc0IAAADid91zQgAAgK0c3nNCAAAAecHec0IAAIBEZt9zQgAAQKq433NCAADAdV3gc0IAAIDbr+BzQgAAAKdU4XNCAABA2Evic0IAAMCj8OJzQgAAANXn43NCAACAoIzkc0IAAABsMeVzQgAAQJ0o5nNCAADAaM3mc0IAAEA0cudzQgAAwP8W6HNCAABAy7voc0IAAID8sulzQgAAAMhX6nNCAABAKBggdEIAAMDzvCB0QgAAQL9hIXRCAABAVqsidEIAAMAhUCN0QgAAAFNHJHRCAAAA6pAldEIAAMBP4yV0QgAAQBuIJnRCAACATH8ndEIAAECy0Sd0QgAAwH12KHRCAACA48godEIAAACvbSl0QgAAQOBkKnRCAADAqwkrdEIAAADdACx0QgAAgKilLHRCAADA2ZwtdEIAAIA/7y10QgAAAAuULnRCAADAcOYudEIAAEA8iy90QgAAwAcwMHRCAACAbYIwdEIAAAA5JzF0QgAAANBwMnRCAABAAWgzdEIAAMDMDDR0QgAAgDJfNHRCAAAA/gM1dEIAAIDJqDV0QgAAwPqfNnRCAAAALJc3dEIAAMCR6Td0QgAAQF2OOHRCAADAKDM5dEIAAED01zl0QgAAAFoqOnRCAACAJc86dEIAAADxczt0QgAAgLwYPHRCAABAIms8dEIAAMDtDz10QgAAQLm0PXRCAACA6qs+dEIAAAC2UD90QgAAwBujP3RCAABA50dAdEIAAIAYP0F0QgAAAOTjQXRCAACAr4hCdEIAAAASd0R0QgAAgN0bRXRCAAAAqcBFdEIAAIB0ZUZ0QgAAQNq3RnRCAADApVxHdEIAAEBxAUh0QgAAANdTSHRCAACAovhIdEIAAABunUl0QgAAgDlCSnRCAAAABedKdEIAAIDQi0t0QgAAAJwwTHRCAACAZ9VMdEIAAAAzek10QgAAgP4eTnRCAABAZHFOdEIAAMAvFk90QgAAwMZfUHRCAABAkgRRdEIAAAD4VlF0QgAAgMP7UXRCAAAAj6BSdEIAAMD08lJ0QgAAwIs8VHRCAABAV+FUdEIAAMAihlV0QgAAgIjYVXRCAAAAVH1WdEIAAADrxld0QgAAgLZrWHRCAADA52JZdEIAAECzB1p0QgAAwH6sWnRCAAAAO5OVdEIAAIAGOJZ0QgAAQGyKlnRCAACAnYGXdEIAAEAD1Jd0QgAAwM54mHRCAACANMuYdEIAAAAAcJl0QgAAQDFnmnRCAADA/AubdEIAAEDIsJt0QgAAgPmnnHRCAABAX/qcdEIAAICQ8Z10QgAAQPZDnnRCAACAJzufdEIAAADz3590QgAAgL6EoHRCAABAJNegdEIAAIBVzqF0QgAAgOwXo3RCAAAAuLyjdEIAAICDYaR0QgAAQOmzpHRCAACAGquldEIAAECA/aV0QgAAgLH0pnRCAABAF0endEIAAMDi66d0QgAAQK6QqHRCAADAeTWpdEIAAIDfh6l0QgAAAKssqnRCAACAdtGqdEIAAABCdqt0QgAAgA0brHRCAAAA2b+sdEIAAMA+Eq10QgAAQAq3rXRCAADA1VuudEIAAEChAK90QgAAAAdTr3RCAACA0vevdEIAAMAD77B0QgAAgGlBsXRCAAAANeaxdEIAAIAAi7J0QgAAAMwvs3RCAADAMYKzdEIAAIAuHrV0QgAAwF8VtnRCAACAxWe2dEIAAACRDLd0QgAAgFyxt3RCAACAikS6dEIAAEDwlrp0QgAAwLs7u3RCAABAh+C7dEIAAMBShbx0QgAAQB4qvXRCAADA6c69dEIAAEC1c750QgAAABvGvnRCAACA5mq/dEIAAEBMvb90QgAAwBdiwHRCAABA4wbBdEIAAMCuq8F0QgAAAOCiwnRCAACAq0fDdEIAAEARmsN0QgAAwNw+xHRCAABAqOPEdEIAAIDZ2sV0QgAAgHAkx3RCAAAAPMnHdEIAAIAHbsh0QgAAwDhlyXRCAACAnrfJdEIAAABqXMp0QgAAgDUBy3RCAAAAAabLdEIAAEAyncx0QgAAwP1BzXRCAAAALznOdEIAAID63c50QgAAAMaCz3RCAABA93nQdEIAAECOw9F0QgAAwFlo0nRCAABAJQ3TdEIAAMDwsdN0QgAAQLxW1HRCAADAh/vUdEIAAECCaQp1QgAAAOi7CnVCAACAs2ALdUIAAAB/BQx1QgAAgEqqDHVCAAAAFk8NdUIAAIDh8w11QgAAAK2YDnVCAAAAROIPdUIAAEB12RB1QgAAwEB+EXVCAABADCMSdUIAAECjbBN1QgAAgNRjFHVCAADABVsVdUIAAEDR/xV1QgAAgAL3FnVCAAAAzpsXdUIAAICZQBh1QgAAQP+SGHVCAADAyjcZdUIAAECW3Bl1QgAAwGGBGnVCAABALSYbdUIAAACTeBt1QgAAgF4dHHVCAACA9WYddUIAAEBbuR11QgAAwCZeHnVCAABA8gIfdUIAAMC9px91QgAAQIlMIHVCAADAVPEgdUIAAEAgliF1QgAAwOs6InVCAABAt98idUIAAAAdMiN1QgAAgOjWI3VCAABATikkdUIAAIB/ICV1QgAAAEvFJXVCAACAFmomdUIAAEB8vCZ1QgAAwEdhJ3VCAAAAeVgodUIAAECqTyl1QgAAABCiKXVCAACA20YqdUIAAACn6yp1QgAAwAw+K3VCAABA2OIrdUIAAMCjhyx1QgAAwNEaL3VCAACAN20vdUIAAAADEjB1QgAAQDQJMXVCAADA/60xdUIAAIBlADJ1QgAAwJb3MnVCAACA/EkzdUIAAMAtQTR1QgAAQPnlNHVCAACAKt01dUIAAECQLzZ1QgAAgMEmN3VCAAAAjcs3dUIAAMDyHTh1QgAAQL7COHVCAADAiWc5dUIAAEBVDDp1QgAAALteOnVCAACAhgM7dUIAAABSqDt1QgAAwLf6O3VCAABAg588dUIAAMBORD11QgAAgLSWPXVCAAAAgDs+dUIAAIBL4D51QgAAABeFP3VCAACA4ilAdUIAAACuzkB1QgAAwPo2gHVCAABAxtuAdUIAAMCRgIF1QgAAQF0lgnVCAADAKMqCdUIAAICOHIN1QgAAAFrBg3VCAACAJWaEdUIAAECLuIR1QgAAwFZdhXVCAAAAiFSGdUIAAIBT+YZ1QgAAAB+eh3VCAADAhPCHdUIAAEBQlYh1QgAAgIGMiXVCAABAfiiLdUIAAMBJzYt1QgAAgK8fjHVCAAAAe8SMdUIAAMDgFo11QgAAQKy7jXVCAADAd2COdUIAAACpV491QgAAgHT8j3VCAABA2k6QdUIAAIALRpF1QgAAANfqkXVCAACAoo+SdUIAAABuNJN1QgAAwNOGk3VCAABAnyuUdUIAAMBq0JR1QgAAgNAilXVCAAAAnMeVdUIAAIBnbJZ1QgAAwJhjl3VCAABAZAiYdUIAAADKWph1QgAAgJX/mHVCAAAAYaSZdUIAAMDG9pl1QgAAQJKbmnVCAACAw5KbdUIAAEAp5Zt1QgAAgFrcnHVCAABAwC6ddUIAAMCL0511QgAAQFd4nnVCAACAiG+fdUIAAABUFKB1QgAAQIULoXVCAADAULChdUIAAEAcVaJ1QgAAwOf5onVCAABAs56jdUIAAMB+Q6R1QgAAwKzWpnVCAACAEimndUIAAMBDIKh1QgAAQA/FqHVCAADA2mmpdUIAAECmDqp1QgAAwHGzqnVCAABAPVirdUIAAMAI/at1QgAAgG5PrHVCAAAAOvSsdUIAAIAFma11QgAAQGvrrXVCAACAnOKudUIAAEACNa91QgAAwM3Zr3VCAABAmX6wdUIAAEAwyLF1QgAAwPtssnVCAACAYb+ydUIAAAAtZLN1QgAAgPgItHVCAAAAxK20dUIAAICPUrV1QgAAAFv3tXVCAAAA8kC3dUIAAIC95bd1QgAAwO7cuHVCAABAuoG5dUIAAIDreLp1QgAAALcdu3VCAACA3x7zdUIAAACrw/N1QgAAQNy69HVCAADAp1/1dUIAAEBzBPZ1QgAAQApO93VCAADA1fL3dUIAAIA7Rfh1QgAAwGw8+XVCAAAAnjP6dUIAAMADhvp1QgAAwJrP+3VCAABAZnT8dUIAAMAxGf11QgAAQP29/XVCAAAAYxD+dUIAAIAutf51QgAAAPpZ/3VCAACAxf7/dUIAAACRowB2QgAAwPb1AHZCAAAAKO0BdkIAAIDzkQJ2QgAAAL82A3ZCAADAJIkDdkIAAEDwLQR2QgAAwLvSBHZCAABAh3cFdkIAAIC4bgZ2QgAAAIQTB3ZCAADA6WUHdkIAAEC1Cgh2QgAAgOYBCXZCAABATFQJdkIAAMAX+Ql2QgAAQOOdCnZCAAAASfAKdkIAAIAUlQt2QgAAAOA5DHZCAADARYwMdkIAAEARMQ12QgAAwNzVDXZCAAAADs0OdkIAAIDZcQ92QgAAAKUWEHZCAABA1g0RdkIAAMChshF2QgAAQG1XEnZCAADAOPwSdkIAAEAEoRN2QgAAgDWYFHZCAADAZo8VdkIAAEAyNBZ2QgAAQMl9F3ZCAAAAL9AXdkIAAID6dBh2QgAAAMYZGXZCAAAA9KwbdkIAAIC/URx2QgAAAIv2HHZCAADA8EgddkIAAAAiQB52QgAAQFM3H3ZCAADAHtwfdkIAAEDqgCB2QgAAwLUlIXZCAABAgcohdkIAAMBMbyJ2QgAAQBgUI3ZCAADA47gjdkIAAECvXSR2QgAAwHoCJXZCAACA4FQldkIAAMARTCZ2QgAAQN3wJnZCAAAAQ0MndkIAAIAO6Cd2QgAAANqMKHZCAABAC4QpdkIAAABx1il2QgAAgDx7KnZCAAAACCArdkIAAICMR2h2QgAAAFjsaHZCAACAI5FpdkIAAADvNWp2QgAAgLraanZCAABAIC1rdkIAAMDr0Wt2QgAAQLd2bHZCAADAghttdkIAAIDobW12QgAAALQSbnZCAACAf7dudkIAAMCwrm92QgAAQHxTcHZCAADAR/hwdkIAAEATnXF2QgAAAHnvcXZCAAAAEDlzdkIAAIDb3XN2QgAAQEEwdHZCAADADNV0dkIAAEDYeXV2QgAAwKMednZCAACACXF2dkIAAMA6aHd2QgAAAGxfeHZCAADA0bF4dkIAAECdVnl2QgAAgM5NenZCAAAAmvJ6dkIAAIBll3t2QgAAADE8fHZCAACA/OB8dkIAAADIhX12QgAAQPl8fnZCAADAxCF/dkIAAECQxn92QgAAgMG9gHZCAAAAjWKBdkIAAIBYB4J2QgAAwIn+gnZCAABAVaODdkIAAAC79YN2QgAAQOzshHZCAADAt5GFdkIAAECDNoZ2QgAAwE7bhnZCAABAGoCHdkIAAMDlJIh2QgAAQLHJiHZCAADAfG6JdkIAAIDiwIl2QgAAwBO4inZCAADAqgGMdkIAAEB2pox2QgAAANz4jHZCAACAp52NdkIAAABzQo52QgAAwAYokXZCAACAbHqRdkIAAAA4H5J2QgAAgAPEknZCAAAAz2iTdkIAAICaDZR2QgAAAGaylHZCAADAywSVdkIAAECXqZV2QgAAwGJOlnZCAABALvOWdkIAAIBf6pd2QgAAACuPmHZCAADAkOGYdkIAAEBchpl2QgAAgI19mnZCAADAvnSbdkIAAIAkx5t2QgAAwFW+nHZCAABAIWOddkIAAMDsB552QgAAAB7/nnZCAABAT/afdkIAAAC1SKB2QgAAAJxe33ZCAACAZwPgdkIAAEDNVeB2QgAAwJj64HZCAABAZJ/hdkIAAMAvROJ2QgAAQPvo4nZCAADAxo3jdkIAAIAs4ON2QgAAwF3X5HZCAAAAj87ldkIAAIBac+Z2QgAAACYY53ZCAACA8bzndkIAAAC9Yeh2QgAAgIgG6XZCAABA7ljpdkIAAMC5/el2QgAAQIWi6nZCAADAUEfrdkIAAACCPux2QgAAgE3j7HZCAAAAGYjtdkIAAIDkLO52QgAAQEp/7nZCAADAFSTvdkIAAEDhyO92QgAAAEcb8HZCAACAEsDwdkIAAADeZPF2QgAAQA9c8nZCAADA2gDzdkIAAIDXnPR2QgAAAKNB9XZCAABA1Dj2dkIAAMCf3fZ2QgAAQGuC93ZCAADANif4dkIAAEACzPh2QgAAAGge+XZCAACAM8P5dkIAAAD/Z/p2QgAAgMoM+3ZCAABAMF/7dkIAAMD7A/x2QgAAQMeo/HZCAADAkk39dkIAAID4n/12QgAAAMRE/nZCAACAj+n+dkIAAABbjv92QgAAgCYzAHdCAACAvXwBd0IAAMDucwJ3QgAAQLoYA3dCAAAATv4Fd0IAAIAZowZ3QgAAQH/1BndCAADASpoHd0IAAMDh4wh3QgAAQK2ICXdCAADAeC0Kd0IAAEBE0gp3QgAAwA93C3dCAABA2xsMd0IAAEBTzmh3QgAAgITFaXdCAABA6hdqd0IAAMC1vGp3QgAAQIFha3dCAAAA57Nrd0IAAICyWGx3QgAAAH79bHdCAADA409td0IAAECv9G13QgAAwHqZbndCAACAdzVwd0IAAABD2nB3QgAAwKgscXdCAADAP3Zyd0IAAIClyHJ3QgAAAHFtc3dCAADAbQl1d0IAAEA5rnV3QgAAwARTdndCAABA0Pd2d0IAAAA2Snd3QgAAgAHvd3dCAAAAzZN4d0IAAICYOHl3QgAAwMkvendCAABAldR6d0IAAMBgeXt3QgAAgMbLe3dCAAAAknB8d0IAAIBdFX13QgAAACm6fXdCAABAWrF+d0IAAMAlVn93QgAAwFPpgXdCAACAuTuCd0IAAACF4IJ3QgAAgFCFg3dCAABAtteDd0IAAMCBfIR3QgAAQE0hhXdCAAAAs3OFd0IAAIB+GIZ3QgAAwK8Ph3dCAABAe7SHd0IAAMBGWYh3QgAAQBL+iHdCAADA3aKJd0IAAECpR4p3QgAAwHTsindCAACA2j6Ld0IAAACm44t3QgAAwAs2jHdCAABA19qMd0IAAMCif413QgAAgAjSjXdCAAAA1HaOd0IAAICfG493QgAAQAVuj3dCAADA0BKQd0IAAECct5B3QgAAwGdckXdCAABAMwGSd0IAAACZU5J3QgAAgGT4kndCAADAle+Td0IAAID7QZR3QgAAAMfmlHdCAACAkouVd0IAAABeMJZ3QgAAgCnVlndCAABAjyeXd0I=\",\"dtype\":\"float64\",\"order\":\"little\",\"shape\":[1174]},\"y\":{\"__ndarray__\":\"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\",\"dtype\":\"float64\",\"order\":\"little\",\"shape\":[1174]}},\"selected\":{\"id\":\"1257\"},\"selection_policy\":{\"id\":\"1258\"}},\"id\":\"1232\",\"type\":\"ColumnDataSource\"},{\"attributes\":{\"bottom_units\":\"screen\",\"fill_alpha\":0.5,\"fill_color\":\"lightgrey\",\"left_units\":\"screen\",\"level\":\"overlay\",\"line_alpha\":1.0,\"line_color\":\"black\",\"line_dash\":[4,4],\"line_width\":2,\"right_units\":\"screen\",\"syncable\":false,\"top_units\":\"screen\"},\"id\":\"1224\",\"type\":\"BoxAnnotation\"}],\"root_ids\":[\"1199\"]},\"title\":\"Bokeh Application\",\"version\":\"2.3.3\"}};\n",
       "  var render_items = [{\"docid\":\"474c35af-47f8-40d0-9720-c8af7e43d4e3\",\"notebook_comms_target\":\"1305\",\"root_ids\":[\"1199\"],\"roots\":{\"1199\":\"43113144-5175-4465-8a56-ab9bea475fd0\"}}];\n",
       "  root.Bokeh.embed.embed_items_notebook(docs_json, render_items);\n",
       "\n",
       "  }\n",
       "  if (root.Bokeh !== undefined) {\n",
       "    embed_document(root);\n",
       "  } else {\n",
       "    var attempts = 0;\n",
       "    var timer = setInterval(function(root) {\n",
       "      if (root.Bokeh !== undefined) {\n",
       "        clearInterval(timer);\n",
       "        embed_document(root);\n",
       "      } else {\n",
       "        attempts++;\n",
       "        if (attempts > 100) {\n",
       "          clearInterval(timer);\n",
       "          console.log(\"Bokeh: ERROR: Unable to run BokehJS code because BokehJS library is missing\");\n",
       "        }\n",
       "      }\n",
       "    }, 10, root)\n",
       "  }\n",
       "})(window);"
      ],
      "application/vnd.bokehjs_exec.v0+json": ""
     },
     "metadata": {
      "application/vnd.bokehjs_exec.v0+json": {
       "id": "1199"
      }
     },
     "output_type": "display_data"
    },
    {
     "name": "stdout",
     "output_type": "stream",
     "text": [
      "time: 66.9 ms (started: 2021-08-11 20:58:41 -04:00)\n"
     ]
    }
   ],
   "source": [
    "def plot_elo(team_id):\n",
    "    output_notebook()\n",
    "    plot = figure(title=\"Historical Elo Rating\", x_axis_label=\"Date\", y_axis_label=\"Elo\", \n",
    "                  x_axis_type = 'datetime', plot_width=800, plot_height=500)\n",
    "\n",
    "    y = match_df[(match_df['away_id'] == team_id) | (match_df['home_id'] == team_id)]\n",
    "    x = y['date']\n",
    "    y = y.apply(lambda x: x['home_elo'] if x['home_id'] == team_id else x['away_elo'], axis=1)\n",
    "    \n",
    "    team_name = team_df[team_df['team_id'] == team_id]['team_name'].head(1).values[0]\n",
    "    plot.circle(x, y, legend_label = team_name, line_color = 'blue', line_width = 1)\n",
    "\n",
    "    handle = show(plot, notebook_handle=True)\n",
    "\n",
    "    # Update the plot title in the earlier cell\n",
    "    push_notebook(handle=handle)\n",
    "\n",
    "plot_elo(4)\n",
    "plot_elo(5)"
   ]
  },
  {
   "cell_type": "markdown",
   "id": "872f5495-4733-4496-82cb-506780d0f16d",
   "metadata": {},
   "source": [
    "## Player Efficiency Rating (PER) Sum of Last 5 Games"
   ]
  },
  {
   "cell_type": "markdown",
   "id": "ad4f7ae8-4182-4b71-a32c-366bd61ce2e3",
   "metadata": {},
   "source": [
    "The Hollinger Player Efficiency Rating for a player is defined as the sum of\n",
    "the following stats\n",
    "\n",
    "\n",
    "| Stat | Weight |\n",
    "| --- | ----------- |\n",
    "| FGM | 85.910 |\n",
    "| Steals | 53.897 |\n",
    "| 3PTM | 51.757 |\n",
    "| FTM | 46.845 |\n",
    "| Blocks | 39.190 |\n",
    "| Offensive Rebounds | 39.190|\n",
    "| Assists | 34.677 |\n",
    "| Defensive Rebounds | 14.707 |\n",
    "| Foul | -17.174 |\n",
    "| FT Miss | -20.091 |\n",
    "| FG Miss | -39.190 |\n",
    "| Turnover | -53.897 |\n",
    "\n",
    " divided by (minutes played)."
   ]
  },
  {
   "cell_type": "code",
   "execution_count": 12,
   "id": "03f929b0-c1e0-4b4b-be33-8fc036d29893",
   "metadata": {},
   "outputs": [
    {
     "name": "stdout",
     "output_type": "stream",
     "text": [
      "time: 435 µs (started: 2021-08-11 20:58:41 -04:00)\n"
     ]
    }
   ],
   "source": [
    "def player_match_eff_rating(player):\n",
    "    per = 0\n",
    "    if player['sp'] > 0:\n",
    "        per = player['fg'] * 85.910 \n",
    "        + player['stl'] * 53.897\n",
    "        + player['threep'] * 51.757\n",
    "        + player['ft'] * 46.845\n",
    "        + player['blk'] * 39.190 \n",
    "        + player['orb'] * 39.190\n",
    "        + player['drb'] * 34.677\n",
    "        + player['ast'] * 14.707\n",
    "        - player['pf'] * 17.174 \n",
    "        - (player['fta'] - player['ft']) * 20.091 \n",
    "        - (player['fga'] - player['fg']) * 39.190\n",
    "        - player['tov'] * 53.897 \n",
    "        \n",
    "        per = per / (player['sp']/60.0)\n",
    "    return per\n",
    "\n",
    "def team_match_eff_rating(team_id, match_id, playerperf_df):\n",
    "    df = playerperf_df[(playerperf_df['team_id'] == team_id) &\n",
    "                        (playerperf_df['match_id'] == match_id)]\n",
    "    return df['per'].sum()\n",
    "\n"
   ]
  },
  {
   "cell_type": "code",
   "execution_count": 50,
   "id": "6534562f-3125-42cf-8c0d-061c247441df",
   "metadata": {},
   "outputs": [
    {
     "name": "stdout",
     "output_type": "stream",
     "text": [
      "time: 454 µs (started: 2021-08-11 21:39:22 -04:00)\n"
     ]
    }
   ],
   "source": [
    "### To get head on head matches for an opponent, set opponent_id\n",
    "def get_prev_matches(date, team_id, match_df, opponent_id = -1):\n",
    "    if opponent_id == -1:\n",
    "        return match_df[(match_df[\"date\"] < date) &\n",
    "                    ((match_df[\"home_id\"] == team_id) |\n",
    "                     (match_df[\"away_id\"] == team_id))]\n",
    "    else:\n",
    "        \n",
    "        return match_df[(match_df[\"date\"] < date) &\n",
    "                        (((match_df[\"home_id\"] == team_id) & \n",
    "                          (match_df[\"away_id\"] == opponent_id)) |\n",
    "                         ((match_df[\"home_id\"] == opponent_id) & \n",
    "                          (match_df[\"away_id\"] == team_id)) )]\n",
    "\n",
    "def get_past_per_sum(team_id, prev_matches):\n",
    "    if len(prev_matches) < 5: \n",
    "        return None\n",
    "    prev_matches['res'] =  prev_matches.apply(lambda x:\n",
    "                             x['home_per'] if x['home_id'] == team_id\n",
    "                             else x['away_per'], axis=1)\n",
    "    return prev_matches['res'].sum()    \n"
   ]
  },
  {
   "cell_type": "code",
   "execution_count": 51,
   "id": "29776c62-326e-48d9-92d1-83a0758808c7",
   "metadata": {},
   "outputs": [
    {
     "name": "stdout",
     "output_type": "stream",
     "text": [
      "time: 1min 23s (started: 2021-08-11 21:39:24 -04:00)\n"
     ]
    }
   ],
   "source": [
    "playerperf_df['per'] = playerperf_df.apply(player_match_eff_rating, axis=1)\n",
    "\n",
    "match_df['away_per'] = match_df.apply(lambda x: team_match_eff_rating(\n",
    "    x['away_id'],x['match_id'], playerperf_df), axis=1)\n",
    "match_df['home_per'] = match_df.apply(lambda x: team_match_eff_rating(\n",
    "    x['home_id'],x['match_id'], playerperf_df), axis=1)\n",
    "\n",
    "match_df['past_5_home_per'] = match_df.apply(lambda x: \n",
    "                                get_past_per_sum(x['home_id'], \n",
    "                                    get_prev_matches(x['date'], \n",
    "                                                     x['home_id'],\n",
    "                                                    match_df).tail(5)), axis=1)\n",
    "match_df['past_5_away_per'] = match_df.apply(lambda x: \n",
    "                                get_past_per_sum(x['away_id'], \n",
    "                                    get_prev_matches(x['date'], \n",
    "                                                     x['away_id'],\n",
    "                                                    match_df).tail(5)), axis=1)\n"
   ]
  },
  {
   "cell_type": "markdown",
   "id": "4cdf043b-def7-4a89-b1b8-f3384b03856a",
   "metadata": {},
   "source": [
    "## BPM 2.0 (BBREF)"
   ]
  },
  {
   "cell_type": "markdown",
   "id": "b0bffaa8-631f-4d85-8b6d-1ecee4839f3a",
   "metadata": {},
   "source": [
    "### Get team average BPM for past 5 games"
   ]
  },
  {
   "cell_type": "code",
   "execution_count": 47,
   "id": "6eb49afc-0341-4dd8-9848-f921bf728f4f",
   "metadata": {},
   "outputs": [
    {
     "name": "stdout",
     "output_type": "stream",
     "text": [
      "time: 705 µs (started: 2021-08-11 21:32:59 -04:00)\n"
     ]
    }
   ],
   "source": [
    "def get_past_bpm_sum(team_id, prev_matches):\n",
    "    if len(prev_matches) < 5: \n",
    "        return None\n",
    "    prev_matches['res'] =  prev_matches.apply(lambda x:\n",
    "                             x['home_bpm'] if x['home_id'] == team_id\n",
    "                             else x['away_bpm'], axis=1)\n",
    "    return prev_matches['res'].sum()"
   ]
  },
  {
   "cell_type": "code",
   "execution_count": 42,
   "id": "372e557a-5de7-4763-80bc-0913f9c37291",
   "metadata": {},
   "outputs": [
    {
     "name": "stdout",
     "output_type": "stream",
     "text": [
      "time: 21.4 s (started: 2021-08-11 21:28:49 -04:00)\n"
     ]
    }
   ],
   "source": [
    "match_df['home_bpm'] = match_df.apply(lambda x: \n",
    "                        playerperf_df[(playerperf_df['match_id'] == x['match_id']) &\n",
    "                        (playerperf_df['team_id'] == x['home_id'])]['bpm'].sum(), \n",
    "                                      axis=1)\n",
    "match_df['away_bpm'] = match_df.apply(lambda x: \n",
    "                        playerperf_df[(playerperf_df['match_id'] == x['match_id']) &\n",
    "                        (playerperf_df['team_id'] == x['away_id'])]['bpm'].sum(), \n",
    "                                      axis=1)\n",
    "match_df['past_5_home_bpm'] = match_df.apply(lambda x: \n",
    "                                get_past_bpm_sum(x['home_id'], \n",
    "                                    get_prev_matches(x['date'], \n",
    "                                                     x['home_id'],\n",
    "                                                    match_df).tail(5)), axis=1)\n",
    "match_df['past_5_away_bpm'] = match_df.apply(lambda x: \n",
    "                                get_past_bpm_sum(x['away_id'], \n",
    "                                    get_prev_matches(x['date'], \n",
    "                                                     x['away_id'],\n",
    "                                                    match_df).tail(5)), axis=1)"
   ]
  },
  {
   "cell_type": "code",
   "execution_count": null,
   "id": "fa120031-826c-4e38-8334-40af6d201c89",
   "metadata": {},
   "outputs": [],
   "source": []
  }
 ],
 "metadata": {
  "kernelspec": {
   "display_name": "Python 3 (ipykernel)",
   "language": "python",
   "name": "python3"
  },
  "language_info": {
   "codemirror_mode": {
    "name": "ipython",
    "version": 3
   },
   "file_extension": ".py",
   "mimetype": "text/x-python",
   "name": "python",
   "nbconvert_exporter": "python",
   "pygments_lexer": "ipython3",
   "version": "3.9.5"
  },
  "toc-autonumbering": true,
  "toc-showcode": false,
  "toc-showmarkdowntxt": true,
  "toc-showtags": false
 },
 "nbformat": 4,
 "nbformat_minor": 5
}
