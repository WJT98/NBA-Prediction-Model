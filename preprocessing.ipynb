{
 "cells": [
  {
   "cell_type": "markdown",
   "id": "23e74c96-fdc7-4b9d-a7f1-c9d7fae1518c",
   "metadata": {
    "tags": []
   },
   "source": [
    "# Imports"
   ]
  },
  {
   "cell_type": "code",
   "execution_count": 1,
   "id": "82290bc0-882c-4a20-abdc-a8b5cd299034",
   "metadata": {},
   "outputs": [
    {
     "name": "stdout",
     "output_type": "stream",
     "text": [
      "time: 121 µs (started: 2021-07-31 01:25:32 -04:00)\n"
     ]
    }
   ],
   "source": [
    "# import lux\n",
    "import db_func\n",
    "import pandas as pd\n",
    "import numpy as np\n",
    "from tqdm import notebook\n",
    "#notebook.tqdm(looping)\n",
    "\n",
    "try:\n",
    "    %load_ext autotime\n",
    "except:\n",
    "    !pip3 install ipython-autotime\n",
    "    %load_ext autotime"
   ]
  },
  {
   "cell_type": "markdown",
   "id": "e94fd375-bed8-4199-80a1-02acbe8bc14f",
   "metadata": {},
   "source": [
    "## Get Database Connection"
   ]
  },
  {
   "cell_type": "code",
   "execution_count": 2,
   "id": "5197d66d-5341-4d9a-935d-14ba1514ac8c",
   "metadata": {},
   "outputs": [
    {
     "name": "stdout",
     "output_type": "stream",
     "text": [
      "time: 3.6 ms (started: 2021-07-31 01:25:33 -04:00)\n"
     ]
    }
   ],
   "source": [
    "conn = db_func.get_conn()"
   ]
  },
  {
   "cell_type": "markdown",
   "id": "faadde39-4b71-4e8f-b4f9-18ed611d2552",
   "metadata": {},
   "source": [
    "# Preprocessing"
   ]
  },
  {
   "cell_type": "markdown",
   "id": "ec8b0f83-4850-4a66-b5a6-7f6734f0b546",
   "metadata": {},
   "source": [
    "match_df: The final processed dataset to be used in the machine learning models "
   ]
  },
  {
   "cell_type": "markdown",
   "id": "7a556fbf-de3a-40b3-8049-9c70f146a9f6",
   "metadata": {},
   "source": [
    "## Populate Dataframes From Database"
   ]
  },
  {
   "cell_type": "markdown",
   "id": "1b3686fb-377d-4b14-8a6f-2d4f0dcaa7c1",
   "metadata": {},
   "source": [
    "### SQL Query"
   ]
  },
  {
   "cell_type": "code",
   "execution_count": 15,
   "id": "ff3e227d-5b62-49b2-82fc-6eb644b730e6",
   "metadata": {
    "tags": []
   },
   "outputs": [
    {
     "name": "stdout",
     "output_type": "stream",
     "text": [
      "time: 46 s (started: 2021-07-31 02:21:58 -04:00)\n"
     ]
    }
   ],
   "source": [
    "match_query = '''SELECT \n",
    "                    m.match_id,  m.away_id, m.home_id,\n",
    "                    m.date, m.away_pts, m.home_pts, m.playoff_game,\n",
    "                    h_ml.home_ml, a_ml.away_ml, \n",
    "                    h_ps.home_spread, a_ps.away_spread,\n",
    "                    h_ps.home_ps_odds, a_ps.away_ps_odds,\n",
    "                    over.over, under.under, ou.spread\n",
    "                    \n",
    "                FROM match AS m\n",
    "                LEFT OUTER JOIN \n",
    "                (\n",
    "                    SELECT \n",
    "                        AVG(decimal_odds) AS home_ml,\n",
    "                        m.match_id AS match_id\n",
    "                    FROM \n",
    "                        odds AS o, team AS t1, team as t2,\n",
    "                        match AS m\n",
    "                    WHERE\n",
    "                        o.bet_type_id = 1 AND\n",
    "                        o.match_id = m.match_id AND\n",
    "                        o.team_id = m.home_id \n",
    "                    GROUP BY m.match_id\n",
    "                ) AS h_ml ON m.match_id = h_ml.match_id\n",
    "                LEFT OUTER JOIN\n",
    "                (\n",
    "                    SELECT\n",
    "                        AVG(decimal_odds) AS away_ml,\n",
    "                        m.match_id AS match_id\n",
    "                    FROM\n",
    "                        odds AS o, team AS t1, team as t2,\n",
    "                        match AS m\n",
    "                    WHERE\n",
    "                        o.bet_type_id = 1 AND\n",
    "                        o.match_id = m.match_id AND\n",
    "                        o.team_id = m.away_id \n",
    "                    GROUP BY m.match_id\n",
    "                ) AS a_ml ON m.match_id = a_ml.match_id\n",
    "                LEFT OUTER JOIN\n",
    "                (\n",
    "                    SELECT\n",
    "                        AVG(decimal_odds) AS home_ps_odds,\n",
    "                        AVG(spread) AS home_spread,\n",
    "                        m.match_id AS match_id\n",
    "                    FROM\n",
    "                        odds AS o, team AS t1, team as t2,\n",
    "                        match AS m\n",
    "                    WHERE\n",
    "                        o.bet_type_id = 2 AND\n",
    "                        o.match_id = m.match_id AND\n",
    "                        o.team_id = m.home_id \n",
    "                    GROUP BY m.match_id\n",
    "                ) AS h_ps ON m.match_id = h_ps.match_id\n",
    "                LEFT OUTER JOIN\n",
    "                (\n",
    "                    SELECT\n",
    "                        AVG(decimal_odds) AS away_ps_odds,\n",
    "                        AVG(spread) AS away_spread,\n",
    "                        m.match_id AS match_id\n",
    "                    FROM\n",
    "                        odds AS o, team AS t1, team as t2,\n",
    "                        match AS m\n",
    "                    WHERE\n",
    "                        o.bet_type_id = 2 AND\n",
    "                        o.match_id = m.match_id AND\n",
    "                        o.team_id = m.away_id \n",
    "                    GROUP BY m.match_id\n",
    "                ) AS a_ps ON m.match_id = a_ps.match_id\n",
    "                LEFT OUTER JOIN\n",
    "                (\n",
    "                    SELECT\n",
    "                        AVG(decimal_odds) AS under,\n",
    "                        m.match_id AS match_id\n",
    "                    FROM\n",
    "                        odds AS o, match AS m\n",
    "                    WHERE\n",
    "                        o.bet_type_id = 3 AND\n",
    "                        o.over_under = 'under' AND\n",
    "                        o.match_id = m.match_id\n",
    "                    GROUP BY m.match_id\n",
    "                ) AS under ON m.match_id = under.match_id\n",
    "                LEFT OUTER JOIN\n",
    "                (\n",
    "                    SELECT\n",
    "                        AVG(decimal_odds) AS over,\n",
    "                        m.match_id AS match_id\n",
    "                    FROM\n",
    "                        odds AS o, match AS m\n",
    "                    WHERE\n",
    "                        o.bet_type_id = 3 AND\n",
    "                        o.over_under = 'over' AND\n",
    "                        o.match_id = m.match_id\n",
    "                    GROUP BY m.match_id\n",
    "                ) AS over ON m.match_id = over.match_id\n",
    "                LEFT OUTER JOIN\n",
    "                (\n",
    "                    SELECT\n",
    "                        AVG(spread) AS spread,\n",
    "                        m.match_id AS match_id\n",
    "                    FROM\n",
    "                        odds AS o, match AS m\n",
    "                    WHERE\n",
    "                        o.bet_type_id = 3 AND\n",
    "                        o.match_id = m.match_id\n",
    "                    GROUP BY m.match_id\n",
    "                ) AS ou ON m.match_id = ou.match_id\n",
    "                WHERE\n",
    "                    m.date >= DATE('2007-10-30')\n",
    "                ORDER BY date ASC\n",
    "                '''\n",
    "\n",
    "\n",
    "season_query = '''SELECT *\n",
    "                  FROM season'''\n",
    "\n",
    "player_performance_query = '''SELECT *\n",
    "                              FROM player_performance'''\n",
    "\n",
    "\n",
    "match_df = pd.read_sql(match_query, conn)\n",
    "match_df.set_index('match_id', inplace=True)\n",
    "\n",
    "season_df = pd.read_sql(season_query, conn)\n",
    "\n",
    "playerperf_df = pd.read_sql(player_performance_query, conn)"
   ]
  },
  {
   "cell_type": "markdown",
   "id": "b8819638-b00a-4ed3-8ed3-4e0a5c508a4d",
   "metadata": {},
   "source": [
    "## Season"
   ]
  },
  {
   "cell_type": "markdown",
   "id": "a496fa47-19bc-4690-af41-170180610824",
   "metadata": {},
   "source": [
    "Set the season for each match"
   ]
  },
  {
   "cell_type": "code",
   "execution_count": 12,
   "id": "8779a12b-da00-476c-87d3-75723c4cace8",
   "metadata": {},
   "outputs": [
    {
     "name": "stdout",
     "output_type": "stream",
     "text": [
      "time: 216 µs (started: 2021-07-31 02:17:20 -04:00)\n"
     ]
    }
   ],
   "source": [
    "def get_season(date):\n",
    "    return season_df[(season_df['start_date'] <= date) &\n",
    "                     (season_df['end_date'] >= date)]['season']"
   ]
  },
  {
   "cell_type": "code",
   "execution_count": 13,
   "id": "f74718c6-ec29-47e5-a152-9b96fa8384a9",
   "metadata": {},
   "outputs": [
    {
     "name": "stdout",
     "output_type": "stream",
     "text": [
      "time: 5.18 s (started: 2021-07-31 02:17:20 -04:00)\n"
     ]
    }
   ],
   "source": [
    "match_df['season'] = match_df['date'].map(get_season)"
   ]
  },
  {
   "cell_type": "markdown",
   "id": "c469cd8d-d86b-47b5-99ef-bba7e9e298f1",
   "metadata": {},
   "source": [
    "Only matches from seasons 2008-2021 will be used "
   ]
  },
  {
   "cell_type": "code",
   "execution_count": 14,
   "id": "c0b6efe3-ba50-48b6-a467-1ee32979194f",
   "metadata": {},
   "outputs": [
    {
     "ename": "ValueError",
     "evalue": "The truth value of a Series is ambiguous. Use a.empty, a.bool(), a.item(), a.any() or a.all().",
     "output_type": "error",
     "traceback": [
      "\u001b[0;31m---------------------------------------------------------------------------\u001b[0m",
      "\u001b[0;31mValueError\u001b[0m                                Traceback (most recent call last)",
      "\u001b[0;32m<ipython-input-14-be9231684ce4>\u001b[0m in \u001b[0;36m<module>\u001b[0;34m\u001b[0m\n\u001b[0;32m----> 1\u001b[0;31m \u001b[0mmatch_df\u001b[0m \u001b[0;34m=\u001b[0m \u001b[0mmatch_df\u001b[0m\u001b[0;34m[\u001b[0m\u001b[0mmatch_df\u001b[0m\u001b[0;34m[\u001b[0m\u001b[0;34m'season'\u001b[0m\u001b[0;34m]\u001b[0m\u001b[0;34m>=\u001b[0m\u001b[0;36m2008\u001b[0m\u001b[0;34m]\u001b[0m\u001b[0;34m\u001b[0m\u001b[0;34m\u001b[0m\u001b[0m\n\u001b[0m",
      "\u001b[0;32m/usr/local/lib/python3.8/dist-packages/pandas/core/ops/common.py\u001b[0m in \u001b[0;36mnew_method\u001b[0;34m(self, other)\u001b[0m\n\u001b[1;32m     63\u001b[0m         \u001b[0mother\u001b[0m \u001b[0;34m=\u001b[0m \u001b[0mitem_from_zerodim\u001b[0m\u001b[0;34m(\u001b[0m\u001b[0mother\u001b[0m\u001b[0;34m)\u001b[0m\u001b[0;34m\u001b[0m\u001b[0;34m\u001b[0m\u001b[0m\n\u001b[1;32m     64\u001b[0m \u001b[0;34m\u001b[0m\u001b[0m\n\u001b[0;32m---> 65\u001b[0;31m         \u001b[0;32mreturn\u001b[0m \u001b[0mmethod\u001b[0m\u001b[0;34m(\u001b[0m\u001b[0mself\u001b[0m\u001b[0;34m,\u001b[0m \u001b[0mother\u001b[0m\u001b[0;34m)\u001b[0m\u001b[0;34m\u001b[0m\u001b[0;34m\u001b[0m\u001b[0m\n\u001b[0m\u001b[1;32m     66\u001b[0m \u001b[0;34m\u001b[0m\u001b[0m\n\u001b[1;32m     67\u001b[0m     \u001b[0;32mreturn\u001b[0m \u001b[0mnew_method\u001b[0m\u001b[0;34m\u001b[0m\u001b[0;34m\u001b[0m\u001b[0m\n",
      "\u001b[0;32m/usr/local/lib/python3.8/dist-packages/pandas/core/ops/__init__.py\u001b[0m in \u001b[0;36mwrapper\u001b[0;34m(self, other)\u001b[0m\n\u001b[1;32m    368\u001b[0m         \u001b[0mrvalues\u001b[0m \u001b[0;34m=\u001b[0m \u001b[0mextract_array\u001b[0m\u001b[0;34m(\u001b[0m\u001b[0mother\u001b[0m\u001b[0;34m,\u001b[0m \u001b[0mextract_numpy\u001b[0m\u001b[0;34m=\u001b[0m\u001b[0;32mTrue\u001b[0m\u001b[0;34m)\u001b[0m\u001b[0;34m\u001b[0m\u001b[0;34m\u001b[0m\u001b[0m\n\u001b[1;32m    369\u001b[0m \u001b[0;34m\u001b[0m\u001b[0m\n\u001b[0;32m--> 370\u001b[0;31m         \u001b[0mres_values\u001b[0m \u001b[0;34m=\u001b[0m \u001b[0mcomparison_op\u001b[0m\u001b[0;34m(\u001b[0m\u001b[0mlvalues\u001b[0m\u001b[0;34m,\u001b[0m \u001b[0mrvalues\u001b[0m\u001b[0;34m,\u001b[0m \u001b[0mop\u001b[0m\u001b[0;34m)\u001b[0m\u001b[0;34m\u001b[0m\u001b[0;34m\u001b[0m\u001b[0m\n\u001b[0m\u001b[1;32m    371\u001b[0m \u001b[0;34m\u001b[0m\u001b[0m\n\u001b[1;32m    372\u001b[0m         \u001b[0;32mreturn\u001b[0m \u001b[0mself\u001b[0m\u001b[0;34m.\u001b[0m\u001b[0m_construct_result\u001b[0m\u001b[0;34m(\u001b[0m\u001b[0mres_values\u001b[0m\u001b[0;34m,\u001b[0m \u001b[0mname\u001b[0m\u001b[0;34m=\u001b[0m\u001b[0mres_name\u001b[0m\u001b[0;34m)\u001b[0m\u001b[0;34m\u001b[0m\u001b[0;34m\u001b[0m\u001b[0m\n",
      "\u001b[0;32m/usr/local/lib/python3.8/dist-packages/pandas/core/ops/array_ops.py\u001b[0m in \u001b[0;36mcomparison_op\u001b[0;34m(left, right, op)\u001b[0m\n\u001b[1;32m    242\u001b[0m \u001b[0;34m\u001b[0m\u001b[0m\n\u001b[1;32m    243\u001b[0m     \u001b[0;32melif\u001b[0m \u001b[0mis_object_dtype\u001b[0m\u001b[0;34m(\u001b[0m\u001b[0mlvalues\u001b[0m\u001b[0;34m.\u001b[0m\u001b[0mdtype\u001b[0m\u001b[0;34m)\u001b[0m\u001b[0;34m:\u001b[0m\u001b[0;34m\u001b[0m\u001b[0;34m\u001b[0m\u001b[0m\n\u001b[0;32m--> 244\u001b[0;31m         \u001b[0mres_values\u001b[0m \u001b[0;34m=\u001b[0m \u001b[0mcomp_method_OBJECT_ARRAY\u001b[0m\u001b[0;34m(\u001b[0m\u001b[0mop\u001b[0m\u001b[0;34m,\u001b[0m \u001b[0mlvalues\u001b[0m\u001b[0;34m,\u001b[0m \u001b[0mrvalues\u001b[0m\u001b[0;34m)\u001b[0m\u001b[0;34m\u001b[0m\u001b[0;34m\u001b[0m\u001b[0m\n\u001b[0m\u001b[1;32m    245\u001b[0m \u001b[0;34m\u001b[0m\u001b[0m\n\u001b[1;32m    246\u001b[0m     \u001b[0;32melse\u001b[0m\u001b[0;34m:\u001b[0m\u001b[0;34m\u001b[0m\u001b[0;34m\u001b[0m\u001b[0m\n",
      "\u001b[0;32m/usr/local/lib/python3.8/dist-packages/pandas/core/ops/array_ops.py\u001b[0m in \u001b[0;36mcomp_method_OBJECT_ARRAY\u001b[0;34m(op, x, y)\u001b[0m\n\u001b[1;32m     54\u001b[0m         \u001b[0mresult\u001b[0m \u001b[0;34m=\u001b[0m \u001b[0mlibops\u001b[0m\u001b[0;34m.\u001b[0m\u001b[0mvec_compare\u001b[0m\u001b[0;34m(\u001b[0m\u001b[0mx\u001b[0m\u001b[0;34m.\u001b[0m\u001b[0mravel\u001b[0m\u001b[0;34m(\u001b[0m\u001b[0;34m)\u001b[0m\u001b[0;34m,\u001b[0m \u001b[0my\u001b[0m\u001b[0;34m.\u001b[0m\u001b[0mravel\u001b[0m\u001b[0;34m(\u001b[0m\u001b[0;34m)\u001b[0m\u001b[0;34m,\u001b[0m \u001b[0mop\u001b[0m\u001b[0;34m)\u001b[0m\u001b[0;34m\u001b[0m\u001b[0;34m\u001b[0m\u001b[0m\n\u001b[1;32m     55\u001b[0m     \u001b[0;32melse\u001b[0m\u001b[0;34m:\u001b[0m\u001b[0;34m\u001b[0m\u001b[0;34m\u001b[0m\u001b[0m\n\u001b[0;32m---> 56\u001b[0;31m         \u001b[0mresult\u001b[0m \u001b[0;34m=\u001b[0m \u001b[0mlibops\u001b[0m\u001b[0;34m.\u001b[0m\u001b[0mscalar_compare\u001b[0m\u001b[0;34m(\u001b[0m\u001b[0mx\u001b[0m\u001b[0;34m.\u001b[0m\u001b[0mravel\u001b[0m\u001b[0;34m(\u001b[0m\u001b[0;34m)\u001b[0m\u001b[0;34m,\u001b[0m \u001b[0my\u001b[0m\u001b[0;34m,\u001b[0m \u001b[0mop\u001b[0m\u001b[0;34m)\u001b[0m\u001b[0;34m\u001b[0m\u001b[0;34m\u001b[0m\u001b[0m\n\u001b[0m\u001b[1;32m     57\u001b[0m     \u001b[0;32mreturn\u001b[0m \u001b[0mresult\u001b[0m\u001b[0;34m.\u001b[0m\u001b[0mreshape\u001b[0m\u001b[0;34m(\u001b[0m\u001b[0mx\u001b[0m\u001b[0;34m.\u001b[0m\u001b[0mshape\u001b[0m\u001b[0;34m)\u001b[0m\u001b[0;34m\u001b[0m\u001b[0;34m\u001b[0m\u001b[0m\n\u001b[1;32m     58\u001b[0m \u001b[0;34m\u001b[0m\u001b[0m\n",
      "\u001b[0;32mpandas/_libs/ops.pyx\u001b[0m in \u001b[0;36mpandas._libs.ops.scalar_compare\u001b[0;34m()\u001b[0m\n",
      "\u001b[0;32m/usr/local/lib/python3.8/dist-packages/pandas/core/generic.py\u001b[0m in \u001b[0;36m__nonzero__\u001b[0;34m(self)\u001b[0m\n\u001b[1;32m   1327\u001b[0m \u001b[0;34m\u001b[0m\u001b[0m\n\u001b[1;32m   1328\u001b[0m     \u001b[0;32mdef\u001b[0m \u001b[0m__nonzero__\u001b[0m\u001b[0;34m(\u001b[0m\u001b[0mself\u001b[0m\u001b[0;34m)\u001b[0m\u001b[0;34m:\u001b[0m\u001b[0;34m\u001b[0m\u001b[0;34m\u001b[0m\u001b[0m\n\u001b[0;32m-> 1329\u001b[0;31m         raise ValueError(\n\u001b[0m\u001b[1;32m   1330\u001b[0m             \u001b[0;34mf\"The truth value of a {type(self).__name__} is ambiguous. \"\u001b[0m\u001b[0;34m\u001b[0m\u001b[0;34m\u001b[0m\u001b[0m\n\u001b[1;32m   1331\u001b[0m             \u001b[0;34m\"Use a.empty, a.bool(), a.item(), a.any() or a.all().\"\u001b[0m\u001b[0;34m\u001b[0m\u001b[0;34m\u001b[0m\u001b[0m\n",
      "\u001b[0;31mValueError\u001b[0m: The truth value of a Series is ambiguous. Use a.empty, a.bool(), a.item(), a.any() or a.all()."
     ]
    },
    {
     "name": "stdout",
     "output_type": "stream",
     "text": [
      "time: 11.1 ms (started: 2021-07-31 02:18:36 -04:00)\n"
     ]
    }
   ],
   "source": [
    "match_df = match_df[match_df['season']>=2008]"
   ]
  },
  {
   "cell_type": "markdown",
   "id": "76b3cfbc-f918-4c54-bc52-d85d708cef66",
   "metadata": {},
   "source": [
    "# Feature Engineering"
   ]
  },
  {
   "cell_type": "markdown",
   "id": "dc6a377f-cc59-4c3d-a024-815d488b1b00",
   "metadata": {},
   "source": [
    "## Team Elo Rating"
   ]
  },
  {
   "cell_type": "markdown",
   "id": "ccfe131d-76cd-44c6-87dd-a944881d3cc2",
   "metadata": {},
   "source": [
    "Each team starts at 1500 elo"
   ]
  },
  {
   "cell_type": "code",
   "execution_count": null,
   "id": "a1295729-41fc-44b3-acf7-a99664f43284",
   "metadata": {},
   "outputs": [],
   "source": [
    "match_df['home_elo'] = 1500\n",
    "match_df['away_elo'] = 1500"
   ]
  },
  {
   "cell_type": "code",
   "execution_count": null,
   "id": "7adbb6a2-bf55-4717-9571-2403fbaf934d",
   "metadata": {},
   "outputs": [],
   "source": [
    "def update_elo(prev_elo, opp_elo, mov):\n",
    "\n",
    "    s_team = 1 if mov > 0 else 0\n",
    "\n",
    "    e_team = 1/(1 + 10 ** ((opp_elo - prev_elo)/400))\n",
    "    k = 20 * ((abs(mov) + 3) ** 0.8) / (7.5)\n",
    "    elo = k *\n",
    "    return\n",
    "\n",
    "\n",
    "def get_prev_match(date, team_id, match_df):\n",
    "    return match_df[(match_df[\"date\"] < date) &\n",
    "                    ((match_df[\"home_id\"] == team_id) |\n",
    "                     (match_df[\"away_id\"] == team_id))].tail(1)\n",
    "\n",
    "\n",
    "# TODO: Get elo based on team_id and not name\n",
    "def get_prev_elo(team_id, season, prev_match):\n",
    "    if prev_match.empty:\n",
    "        elo = 1500\n",
    "    elif team_id == prev_match['home_id'].values[0]:\n",
    "        elo = prev_match['home_elo'].values[0]\n",
    "    else:\n",
    "        elo = prev_match['away_elo'].values[0]\n",
    "    if (not prev_match.empty and\n",
    "            (prev_match['season'].values[0].values[0] != season.values[0])):\n",
    "        elo = elo * 0.75 + 1505 * 0.25\n",
    "\n",
    "    return elo"
   ]
  },
  {
   "cell_type": "code",
   "execution_count": null,
   "id": "f683830a-b4d4-4199-8445-174b123176c4",
   "metadata": {},
   "outputs": [],
   "source": [
    "match_df['home_elo'] = match_df \\\n",
    "    .apply(lambda x: get_prev_elo(x['home_abbr'],\n",
    "                                  x['season'],\n",
    "                                  get_prev_match(x['date'],\n",
    "                                                 x['home_id'],\n",
    "                                                 match_df)), axis=1)"
   ]
  },
  {
   "cell_type": "markdown",
   "id": "d969197a-1206-4039-8fd2-22d1654aee08",
   "metadata": {},
   "source": [
    "## Player Elo Rating"
   ]
  },
  {
   "cell_type": "markdown",
   "id": "872f5495-4733-4496-82cb-506780d0f16d",
   "metadata": {},
   "source": [
    "## Player Efficiency Rating (PER) Sum of Last 5 Games"
   ]
  },
  {
   "cell_type": "code",
   "execution_count": null,
   "id": "03f929b0-c1e0-4b4b-be33-8fc036d29893",
   "metadata": {},
   "outputs": [],
   "source": [
    "def player_efficiency_rating(match_stats):\n",
    "    per = 0\n",
    "    if match_stats['sp'] > 0:\n",
    "        per = match_stats['fgm'] * 85.910 +\n",
    "        match_stats['steals']\n",
    "    return per\n",
    "\n",
    "\n",
    "# calculate per for all matches\n",
    "\n",
    "def get_injured_players(match):\n",
    "    return match[match['inactive'] == 1]['player_id']\n",
    "\n",
    "\n",
    "def team_per(match):\n",
    "    get_injured_players(match)\n",
    "    # adjust per for injured players\n",
    "\n",
    "# PER sum of the last 'x' matches played by a team\n",
    "\n",
    "\n",
    "def per_sum(match_id, x):"
   ]
  },
  {
   "cell_type": "markdown",
   "id": "4cdf043b-def7-4a89-b1b8-f3384b03856a",
   "metadata": {},
   "source": [
    "### Calculate PER for all matches"
   ]
  },
  {
   "cell_type": "code",
   "execution_count": null,
   "id": "68d370fd-3c6b-493f-a244-882eb3cc1a8b",
   "metadata": {},
   "outputs": [],
   "source": [
    "match_df['sum_per'] =\n",
    "match_df.apply(lambda x: team_per)"
   ]
  },
  {
   "cell_type": "markdown",
   "id": "168a8ca2-914a-4184-9dcd-727e69f1d04b",
   "metadata": {},
   "source": [
    "## Odds "
   ]
  },
  {
   "cell_type": "markdown",
   "id": "b5c08ab5-a510-478a-847f-18494daf7024",
   "metadata": {},
   "source": [
    "### Moneyline Odds"
   ]
  },
  {
   "cell_type": "code",
   "execution_count": null,
   "id": "0be5820b-8882-4563-aa3b-3ca6bb9b3735",
   "metadata": {},
   "outputs": [],
   "source": [
    "match_df['vegas_odds']"
   ]
  },
  {
   "cell_type": "markdown",
   "id": "62153922-097c-419b-9280-7295d8fdb344",
   "metadata": {},
   "source": [
    "### Point Spread Odds"
   ]
  },
  {
   "cell_type": "markdown",
   "id": "1087e8b1-d3f9-4133-8501-4fe50955b61f",
   "metadata": {},
   "source": [
    "### Over/Under"
   ]
  },
  {
   "cell_type": "code",
   "execution_count": null,
   "id": "9b46ec87-56f9-4a46-8979-35ad207e156f",
   "metadata": {},
   "outputs": [],
   "source": []
  }
 ],
 "metadata": {
  "kernelspec": {
   "display_name": "Python 3",
   "language": "python",
   "name": "python3"
  },
  "language_info": {
   "codemirror_mode": {
    "name": "ipython",
    "version": 3
   },
   "file_extension": ".py",
   "mimetype": "text/x-python",
   "name": "python",
   "nbconvert_exporter": "python",
   "pygments_lexer": "ipython3",
   "version": "3.8.5"
  },
  "toc-autonumbering": true,
  "toc-showcode": false,
  "toc-showmarkdowntxt": true,
  "toc-showtags": false
 },
 "nbformat": 4,
 "nbformat_minor": 5
}
