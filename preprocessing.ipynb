{
 "cells": [
  {
   "cell_type": "markdown",
   "id": "23e74c96-fdc7-4b9d-a7f1-c9d7fae1518c",
   "metadata": {
    "tags": []
   },
   "source": [
    "# Imports"
   ]
  },
  {
   "cell_type": "code",
   "execution_count": 1,
   "id": "82290bc0-882c-4a20-abdc-a8b5cd299034",
   "metadata": {},
   "outputs": [
    {
     "data": {
      "application/desktop-notify+json": {
       "id": "ee931b77-4e3a-425f-9102-225521774bf6",
       "isProcessed": true,
       "payload": {
        "title": null
       },
       "type": "INIT"
      },
      "text/plain": [
       "<jupyterlab_notify.magics._Notification at 0x7f054a83eac0>"
      ]
     },
     "metadata": {},
     "output_type": "display_data"
    },
    {
     "name": "stdout",
     "output_type": "stream",
     "text": [
      "time: 4.73 ms (started: 2021-08-01 22:48:48 -04:00)\n"
     ]
    }
   ],
   "source": [
    "# import lux\n",
    "import db_func\n",
    "import pandas as pd\n",
    "import numpy as np\n",
    "from tqdm import notebook\n",
    "#notebook.tqdm(looping)\n",
    "\n",
    "try:\n",
    "    %load_ext autotime\n",
    "    %load_ext jupyterlab_notify\n",
    "except:\n",
    "    !pip3 install ipython-autotime\n",
    "    %load_ext autotime"
   ]
  },
  {
   "cell_type": "markdown",
   "id": "e94fd375-bed8-4199-80a1-02acbe8bc14f",
   "metadata": {},
   "source": [
    "## Get Database Connection"
   ]
  },
  {
   "cell_type": "code",
   "execution_count": 2,
   "id": "5197d66d-5341-4d9a-935d-14ba1514ac8c",
   "metadata": {},
   "outputs": [
    {
     "name": "stdout",
     "output_type": "stream",
     "text": [
      "time: 3.29 ms (started: 2021-08-01 22:48:48 -04:00)\n"
     ]
    }
   ],
   "source": [
    "conn = db_func.get_conn()"
   ]
  },
  {
   "cell_type": "markdown",
   "id": "faadde39-4b71-4e8f-b4f9-18ed611d2552",
   "metadata": {},
   "source": [
    "# Preprocessing"
   ]
  },
  {
   "cell_type": "markdown",
   "id": "ec8b0f83-4850-4a66-b5a6-7f6734f0b546",
   "metadata": {},
   "source": [
    "match_df: The final processed dataset to be used in the machine learning models "
   ]
  },
  {
   "cell_type": "markdown",
   "id": "7a556fbf-de3a-40b3-8049-9c70f146a9f6",
   "metadata": {},
   "source": [
    "## Populate Dataframes From Database"
   ]
  },
  {
   "cell_type": "markdown",
   "id": "1b3686fb-377d-4b14-8a6f-2d4f0dcaa7c1",
   "metadata": {},
   "source": [
    "### SQL Query"
   ]
  },
  {
   "cell_type": "code",
   "execution_count": 3,
   "id": "ff3e227d-5b62-49b2-82fc-6eb644b730e6",
   "metadata": {
    "tags": []
   },
   "outputs": [
    {
     "name": "stdout",
     "output_type": "stream",
     "text": [
      "time: 22.4 s (started: 2021-08-01 22:48:48 -04:00)\n"
     ]
    }
   ],
   "source": [
    "match_query = '''SELECT\n",
    "                    m.match_id,  m.away_id, m.home_id,\n",
    "                    m.date, m.away_pts, m.home_pts, m.playoff_game,\n",
    "                    h_ml.home_ml, a_ml.away_ml,\n",
    "                    h_ps.home_spread, a_ps.away_spread,\n",
    "                    h_ps.home_ps_odds, a_ps.away_ps_odds,\n",
    "                    over.over, under.under, ou.spread\n",
    "                FROM match AS m\n",
    "                LEFT OUTER JOIN\n",
    "                (\n",
    "                    SELECT\n",
    "                        AVG(decimal_odds) AS home_ml,\n",
    "                        m.match_id AS match_id\n",
    "                    FROM\n",
    "                        odds AS o, team AS t1, team as t2,\n",
    "                        match AS m\n",
    "                    WHERE\n",
    "                        o.bet_type_id = 1 AND\n",
    "                        o.match_id = m.match_id AND\n",
    "                        o.team_id = m.home_id\n",
    "                    GROUP BY m.match_id\n",
    "                ) AS h_ml ON m.match_id = h_ml.match_id\n",
    "                LEFT OUTER JOIN\n",
    "                (\n",
    "                    SELECT\n",
    "                        AVG(decimal_odds) AS away_ml,\n",
    "                        m.match_id AS match_id\n",
    "                    FROM\n",
    "                        odds AS o, team AS t1, team as t2,\n",
    "                        match AS m\n",
    "                    WHERE\n",
    "                        o.bet_type_id = 1 AND\n",
    "                        o.match_id = m.match_id AND\n",
    "                        o.team_id = m.away_id\n",
    "                    GROUP BY m.match_id\n",
    "                ) AS a_ml ON m.match_id = a_ml.match_id\n",
    "                LEFT OUTER JOIN\n",
    "                (\n",
    "                    SELECT\n",
    "                        AVG(decimal_odds) AS home_ps_odds,\n",
    "                        AVG(spread) AS home_spread,\n",
    "                        m.match_id AS match_id\n",
    "                    FROM\n",
    "                        odds AS o, team AS t1, team as t2,\n",
    "                        match AS m\n",
    "                    WHERE\n",
    "                        o.bet_type_id = 2 AND\n",
    "                        o.match_id = m.match_id AND\n",
    "                        o.team_id = m.home_id\n",
    "                    GROUP BY m.match_id\n",
    "                ) AS h_ps ON m.match_id = h_ps.match_id\n",
    "                LEFT OUTER JOIN\n",
    "                (\n",
    "                    SELECT\n",
    "                        AVG(decimal_odds) AS away_ps_odds,\n",
    "                        AVG(spread) AS away_spread,\n",
    "                        m.match_id AS match_id\n",
    "                    FROM\n",
    "                        odds AS o, team AS t1, team as t2,\n",
    "                        match AS m\n",
    "                    WHERE\n",
    "                        o.bet_type_id = 2 AND\n",
    "                        o.match_id = m.match_id AND\n",
    "                        o.team_id = m.away_id\n",
    "                    GROUP BY m.match_id\n",
    "                ) AS a_ps ON m.match_id = a_ps.match_id\n",
    "                LEFT OUTER JOIN\n",
    "                (\n",
    "                    SELECT\n",
    "                        AVG(decimal_odds) AS under,\n",
    "                        m.match_id AS match_id\n",
    "                    FROM\n",
    "                        odds AS o, match AS m\n",
    "                    WHERE\n",
    "                        o.bet_type_id = 3 AND\n",
    "                        o.over_under = 'under' AND\n",
    "                        o.match_id = m.match_id\n",
    "                    GROUP BY m.match_id\n",
    "                ) AS under ON m.match_id = under.match_id\n",
    "                LEFT OUTER JOIN\n",
    "                (\n",
    "                    SELECT\n",
    "                        AVG(decimal_odds) AS over,\n",
    "                        m.match_id AS match_id\n",
    "                    FROM\n",
    "                        odds AS o, match AS m\n",
    "                    WHERE\n",
    "                        o.bet_type_id = 3 AND\n",
    "                        o.over_under = 'over' AND\n",
    "                        o.match_id = m.match_id\n",
    "                    GROUP BY m.match_id\n",
    "                ) AS over ON m.match_id = over.match_id\n",
    "                LEFT OUTER JOIN\n",
    "                (\n",
    "                    SELECT\n",
    "                        AVG(spread) AS spread,\n",
    "                        m.match_id AS match_id\n",
    "                    FROM\n",
    "                        odds AS o, match AS m\n",
    "                    WHERE\n",
    "                        o.bet_type_id = 3 AND\n",
    "                        o.match_id = m.match_id\n",
    "                    GROUP BY m.match_id\n",
    "                ) AS ou ON m.match_id = ou.match_id\n",
    "                WHERE\n",
    "                    m.date >= DATE('2007-10-30')\n",
    "                ORDER BY date ASC\n",
    "                '''\n",
    "\n",
    "\n",
    "season_query = '''SELECT *\n",
    "                  FROM season'''\n",
    "\n",
    "player_performance_query = '''SELECT *\n",
    "                              FROM player_performance'''\n",
    "\n",
    "\n",
    "match_df = pd.read_sql(match_query, conn)\n",
    "match_df.set_index('match_id', inplace=True)\n",
    "\n",
    "season_df = pd.read_sql(season_query, conn)\n",
    "\n",
    "playerperf_df = pd.read_sql(player_performance_query, conn)"
   ]
  },
  {
   "cell_type": "markdown",
   "id": "b8819638-b00a-4ed3-8ed3-4e0a5c508a4d",
   "metadata": {},
   "source": [
    "## Season"
   ]
  },
  {
   "cell_type": "markdown",
   "id": "a496fa47-19bc-4690-af41-170180610824",
   "metadata": {},
   "source": [
    "Set the season for each match"
   ]
  },
  {
   "cell_type": "code",
   "execution_count": 4,
   "id": "8779a12b-da00-476c-87d3-75723c4cace8",
   "metadata": {},
   "outputs": [
    {
     "name": "stdout",
     "output_type": "stream",
     "text": [
      "time: 249 µs (started: 2021-08-01 22:49:11 -04:00)\n"
     ]
    }
   ],
   "source": [
    "def get_season(date):\n",
    "    return season_df[(season_df['start_date'] <= date) &\n",
    "                     (season_df['end_date'] >= date)]['season'].values[0]"
   ]
  },
  {
   "cell_type": "code",
   "execution_count": 5,
   "id": "f74718c6-ec29-47e5-a152-9b96fa8384a9",
   "metadata": {},
   "outputs": [
    {
     "name": "stdout",
     "output_type": "stream",
     "text": [
      "time: 4.42 s (started: 2021-08-01 22:49:11 -04:00)\n"
     ]
    }
   ],
   "source": [
    "match_df['season'] = match_df['date'].map(get_season)"
   ]
  },
  {
   "cell_type": "markdown",
   "id": "c469cd8d-d86b-47b5-99ef-bba7e9e298f1",
   "metadata": {},
   "source": [
    "Only matches from seasons 2008-2021 will be used "
   ]
  },
  {
   "cell_type": "markdown",
   "id": "76b3cfbc-f918-4c54-bc52-d85d708cef66",
   "metadata": {},
   "source": [
    "# Feature Engineering"
   ]
  },
  {
   "cell_type": "markdown",
   "id": "5ae7d644-e0fd-46a5-9194-69bfae70bf25",
   "metadata": {},
   "source": [
    "## Margin of Victory/Loss (MOVL) with respect to the home team"
   ]
  },
  {
   "cell_type": "code",
   "execution_count": 6,
   "id": "f44c5572-f296-48ce-9896-99c0f5c83e4e",
   "metadata": {},
   "outputs": [
    {
     "name": "stdout",
     "output_type": "stream",
     "text": [
      "time: 1.45 ms (started: 2021-08-01 22:49:15 -04:00)\n"
     ]
    }
   ],
   "source": [
    "match_df['movl'] = match_df['home_pts'] - match_df['away_pts']"
   ]
  },
  {
   "cell_type": "markdown",
   "id": "dc6a377f-cc59-4c3d-a024-815d488b1b00",
   "metadata": {},
   "source": [
    "## Team Elo Rating"
   ]
  },
  {
   "cell_type": "markdown",
   "id": "ccfe131d-76cd-44c6-87dd-a944881d3cc2",
   "metadata": {},
   "source": [
    "Each team starts at 1500 elo"
   ]
  },
  {
   "cell_type": "code",
   "execution_count": 7,
   "id": "a1295729-41fc-44b3-acf7-a99664f43284",
   "metadata": {},
   "outputs": [
    {
     "name": "stdout",
     "output_type": "stream",
     "text": [
      "time: 1.08 ms (started: 2021-08-01 22:49:15 -04:00)\n"
     ]
    }
   ],
   "source": [
    "match_df['home_elo'] = 1500\n",
    "match_df['away_elo'] = 1500"
   ]
  },
  {
   "cell_type": "markdown",
   "id": "3c9600e5-378b-40bd-9713-47b7d127b69e",
   "metadata": {},
   "source": [
    "### Get the previous match of each team to aid elo calculation"
   ]
  },
  {
   "cell_type": "code",
   "execution_count": 8,
   "id": "6823a608-5cc9-46e6-b0a5-f81a14a8b6b6",
   "metadata": {},
   "outputs": [
    {
     "name": "stdout",
     "output_type": "stream",
     "text": [
      "time: 524 µs (started: 2021-08-01 22:49:15 -04:00)\n"
     ]
    }
   ],
   "source": [
    "def get_prev_match(date, team_id, match_df):\n",
    "    return match_df[(match_df[\"date\"] < date) &\n",
    "                    ((match_df[\"home_id\"] == team_id) |\n",
    "                     (match_df[\"away_id\"] == team_id))].tail(1)"
   ]
  },
  {
   "cell_type": "code",
   "execution_count": 9,
   "id": "5cd6c874-aae6-41c6-ac31-56692aadb8ba",
   "metadata": {},
   "outputs": [
    {
     "data": {
      "text/html": [
       "<div>\n",
       "<style scoped>\n",
       "    .dataframe tbody tr th:only-of-type {\n",
       "        vertical-align: middle;\n",
       "    }\n",
       "\n",
       "    .dataframe tbody tr th {\n",
       "        vertical-align: top;\n",
       "    }\n",
       "\n",
       "    .dataframe thead th {\n",
       "        text-align: right;\n",
       "    }\n",
       "</style>\n",
       "<table border=\"1\" class=\"dataframe\">\n",
       "  <thead>\n",
       "    <tr style=\"text-align: right;\">\n",
       "      <th></th>\n",
       "      <th>away_id</th>\n",
       "      <th>home_id</th>\n",
       "      <th>date</th>\n",
       "      <th>away_pts</th>\n",
       "      <th>home_pts</th>\n",
       "      <th>playoff_game</th>\n",
       "      <th>home_ml</th>\n",
       "      <th>away_ml</th>\n",
       "      <th>home_spread</th>\n",
       "      <th>away_spread</th>\n",
       "      <th>home_ps_odds</th>\n",
       "      <th>away_ps_odds</th>\n",
       "      <th>over</th>\n",
       "      <th>under</th>\n",
       "      <th>spread</th>\n",
       "      <th>season</th>\n",
       "      <th>movl</th>\n",
       "      <th>home_elo</th>\n",
       "      <th>away_elo</th>\n",
       "    </tr>\n",
       "    <tr>\n",
       "      <th>match_id</th>\n",
       "      <th></th>\n",
       "      <th></th>\n",
       "      <th></th>\n",
       "      <th></th>\n",
       "      <th></th>\n",
       "      <th></th>\n",
       "      <th></th>\n",
       "      <th></th>\n",
       "      <th></th>\n",
       "      <th></th>\n",
       "      <th></th>\n",
       "      <th></th>\n",
       "      <th></th>\n",
       "      <th></th>\n",
       "      <th></th>\n",
       "      <th></th>\n",
       "      <th></th>\n",
       "      <th></th>\n",
       "      <th></th>\n",
       "    </tr>\n",
       "  </thead>\n",
       "  <tbody>\n",
       "    <tr>\n",
       "      <th>17824</th>\n",
       "      <td>17</td>\n",
       "      <td>24</td>\n",
       "      <td>2021-07-06</td>\n",
       "      <td>105.0</td>\n",
       "      <td>118.0</td>\n",
       "      <td>0.0</td>\n",
       "      <td>1.476624</td>\n",
       "      <td>2.796667</td>\n",
       "      <td>-4.944444</td>\n",
       "      <td>4.944444</td>\n",
       "      <td>1.933069</td>\n",
       "      <td>1.90748</td>\n",
       "      <td>1.917301</td>\n",
       "      <td>1.92247</td>\n",
       "      <td>219.555556</td>\n",
       "      <td>2021</td>\n",
       "      <td>13.0</td>\n",
       "      <td>1500</td>\n",
       "      <td>1500</td>\n",
       "    </tr>\n",
       "  </tbody>\n",
       "</table>\n",
       "</div>"
      ],
      "text/plain": [
       "          away_id  home_id        date  away_pts  home_pts  playoff_game  \\\n",
       "match_id                                                                   \n",
       "17824          17       24  2021-07-06     105.0     118.0           0.0   \n",
       "\n",
       "           home_ml   away_ml  home_spread  away_spread  home_ps_odds  \\\n",
       "match_id                                                               \n",
       "17824     1.476624  2.796667    -4.944444     4.944444      1.933069   \n",
       "\n",
       "          away_ps_odds      over    under      spread  season  movl  home_elo  \\\n",
       "match_id                                                                        \n",
       "17824          1.90748  1.917301  1.92247  219.555556    2021  13.0      1500   \n",
       "\n",
       "          away_elo  \n",
       "match_id            \n",
       "17824         1500  "
      ]
     },
     "execution_count": 9,
     "metadata": {},
     "output_type": "execute_result"
    },
    {
     "name": "stdout",
     "output_type": "stream",
     "text": [
      "time: 10.4 ms (started: 2021-08-01 22:49:15 -04:00)\n"
     ]
    }
   ],
   "source": [
    "from datetime import datetime\n",
    "get_prev_match(datetime(2021,7,8).date(), 17, match_df)"
   ]
  },
  {
   "cell_type": "markdown",
   "id": "edd6233f-770a-412d-9084-debc9f991d15",
   "metadata": {},
   "source": [
    "### Team elo calculation"
   ]
  },
  {
   "cell_type": "code",
   "execution_count": 10,
   "id": "f683830a-b4d4-4199-8445-174b123176c4",
   "metadata": {},
   "outputs": [
    {
     "name": "stdout",
     "output_type": "stream",
     "text": [
      "time: 284 µs (started: 2021-08-01 22:49:15 -04:00)\n"
     ]
    }
   ],
   "source": [
    "def get_prev_elo(team_id, season, prev_match):\n",
    "\n",
    "    if prev_match.empty:\n",
    "        prev_elo = 1500\n",
    "    elif team_id == prev_match['home_id'].values[0]:\n",
    "        prev_elo = prev_match['home_elo'].values[0]\n",
    "    elif team_id == prev_match['away_id'].values[0]:\n",
    "        prev_elo = prev_match['away_elo'].values[0]\n",
    "    else: \n",
    "        print('err')\n",
    "\n",
    "    if (not prev_match.empty and\n",
    "            (prev_match['season'].values[0]\n",
    "             != season)):\n",
    "        #print(prev_elo, prev_elo * 0.75 + 1505 * 0.25)\n",
    "        prev_elo = prev_elo * 0.75 + 1505 * 0.25\n",
    "\n",
    "    return prev_elo"
   ]
  },
  {
   "cell_type": "code",
   "execution_count": 11,
   "id": "a4abf248-c217-48cf-9a05-f9de89ac0ba0",
   "metadata": {},
   "outputs": [
    {
     "name": "stdout",
     "output_type": "stream",
     "text": [
      "time: 1.82 ms (started: 2021-08-01 22:49:15 -04:00)\n"
     ]
    }
   ],
   "source": [
    "# def update_elo(prev_elo, prev_opp_elo, movl, home_team):\n",
    "#     if home_team:\n",
    "#         prev_elo += 100\n",
    "#     if movl > 0:\n",
    "#         score = 1\n",
    "#     else:\n",
    "#         score = 0\n",
    "\n",
    "#     exp_score = 1. / (1 + math.pow(10, ((prev_opp_elo - prev_elo)/400.)))\n",
    "\n",
    "#     k = 20 * (math.pow((abs(movl)+3), 0.8)) / \\\n",
    "#         (7.5 + 0.006 * abs(prev_opp_elo-prev_elo))\n",
    "# #     if movl > 0:\n",
    "# #         k = 20 * (math.pow((movl+3), 0.8)) / \\\n",
    "# #         (7.5 + 0.006 * prev_elo - prev_opp_elo)\n",
    "# #     else:\n",
    "# #         k = 20 * (math.pow((abs(movl)+3), 0.8)) / \\\n",
    "# #         (7.5 + 0.006 * -1*(prev_elo - prev_opp_elo))\n",
    "\n",
    "#     updated_elo = prev_elo + k * (score - exp_score)\n",
    "#     return updated_elo"
   ]
  },
  {
   "cell_type": "code",
   "execution_count": null,
   "id": "70e8f95d-e17d-4f2a-b427-8fa1a481c139",
   "metadata": {},
   "outputs": [],
   "source": []
  },
  {
   "cell_type": "code",
   "execution_count": 12,
   "id": "16a9cfd1-8bbc-439c-8dd6-b35452db8f41",
   "metadata": {},
   "outputs": [
    {
     "name": "stdout",
     "output_type": "stream",
     "text": [
      "time: 694 µs (started: 2021-08-01 22:49:15 -04:00)\n"
     ]
    }
   ],
   "source": [
    "\n",
    "def update_elo(home_elo, away_elo, movl):\n",
    "    elo_diff = home_elo + 100.0 - away_elo\n",
    "    if movl > 0:\n",
    "        h_s = 1.0\n",
    "        a_s = 0.0\n",
    "        multiplier = ((movl+3)**(0.8))/(7.5+0.006*elo_diff)\n",
    "\n",
    "    else:\n",
    "        h_s = 0.0\n",
    "        a_s = 1.0\n",
    "        multiplier = ((-movl+3)**(0.8))/(7.5+0.006*(-elo_diff))\n",
    "        \n",
    "    exp_h_s = 1.0 / (1.0 + 10.0 ** (-elo_diff/400.0))\n",
    "    exp_a_s = 1.0 - exp_h_s\n",
    "    \n",
    "    k = 20.0 * multiplier\n",
    "\n",
    "    new_home_elo = home_elo + k * (h_s - exp_h_s)\n",
    "    new_away_elo = away_elo + k * (a_s - exp_a_s)\n",
    "\n",
    "    return (new_home_elo, new_away_elo)"
   ]
  },
  {
   "cell_type": "code",
   "execution_count": 13,
   "id": "6a46ea97-aaac-4aeb-a87b-fdec9f1d5a33",
   "metadata": {},
   "outputs": [
    {
     "name": "stdout",
     "output_type": "stream",
     "text": [
      "time: 37.5 s (started: 2021-08-01 22:49:15 -04:00)\n"
     ]
    }
   ],
   "source": [
    "match_df['home_elo'] = 1500.0\n",
    "match_df['away_elo'] = 1500.0\n",
    "import math\n",
    "for idx, row in match_df.iterrows():\n",
    "    prev_h_match = get_prev_match(row['date'], row['home_id'], match_df)\n",
    "    prev_a_match = get_prev_match(row['date'], row['away_id'], match_df)\n",
    "    \n",
    "    prev_h_elo = get_prev_elo(\n",
    "        row['home_id'], row['season'], prev_h_match)\n",
    "    prev_a_elo = get_prev_elo(\n",
    "        row['away_id'], row['season'], prev_a_match)    \n",
    "    new_elos = update_elo(prev_h_elo, prev_a_elo, row['movl'])\n",
    "    match_df.at[idx, 'home_elo'] = new_elos[0]\n",
    "    match_df.at[idx, 'away_elo'] = new_elos[1]"
   ]
  },
  {
   "cell_type": "code",
   "execution_count": 50,
   "id": "fa70353e-22d2-420c-96d0-c227de3b7291",
   "metadata": {},
   "outputs": [
    {
     "data": {
      "text/plain": [
       "1500.0"
      ]
     },
     "execution_count": 50,
     "metadata": {},
     "output_type": "execute_result"
    },
    {
     "name": "stdout",
     "output_type": "stream",
     "text": [
      "time: 3.35 ms (started: 2021-08-01 05:10:35 -04:00)\n"
     ]
    }
   ],
   "source": [
    "get_prev_elo(\n",
    "    17, 2021,\n",
    "    get_prev_match(datetime(2021, 7, 8).date(), 17, match_df))"
   ]
  },
  {
   "cell_type": "code",
   "execution_count": 14,
   "id": "640beb78-b700-4768-b2db-adfba005aa38",
   "metadata": {},
   "outputs": [
    {
     "name": "stdout",
     "output_type": "stream",
     "text": [
      "time: 154 µs (started: 2021-08-01 04:39:53 -04:00)\n"
     ]
    }
   ],
   "source": [
    "# import math\n",
    "# for idx, row in match_df.iterrows():\n",
    "#     prev_h_match = get_prev_match(row['date'], row['home_id'], match_df)\n",
    "#     prev_a_match = get_prev_match(row['date'], row['away_id'], match_df)\n",
    "\n",
    "\n",
    "#     prev_h_elo = get_prev_elo(\n",
    "#         row['home_id'], row['season'], prev_h_match)\n",
    "#     prev_a_elo = get_prev_elo(\n",
    "#         row['away_id'], row['season'], prev_a_match)\n",
    "#     match_df.at[idx, 'home_elo'] = update_elo(\n",
    "#         prev_h_elo, prev_a_elo, row['movl'], 1)\n",
    "#     match_df.at[idx, 'away_elo'] = update_elo(\n",
    "#         prev_a_elo, prev_h_elo, -1*row['movl'], 0)"
   ]
  },
  {
   "cell_type": "markdown",
   "id": "872f5495-4733-4496-82cb-506780d0f16d",
   "metadata": {},
   "source": [
    "## Player Efficiency Rating (PER) Sum of Last 5 Games"
   ]
  },
  {
   "cell_type": "code",
   "execution_count": 15,
   "id": "03f929b0-c1e0-4b4b-be33-8fc036d29893",
   "metadata": {},
   "outputs": [
    {
     "name": "stdout",
     "output_type": "stream",
     "text": [
      "time: 4.78 ms (started: 2021-08-01 04:39:53 -04:00)\n"
     ]
    }
   ],
   "source": [
    "def player_efficiency_rating(match_stats):\n",
    "    per = 0\n",
    "    if match_stats['sp'] > 0:\n",
    "        per = match_stats['fgm'] * 85.910 +\n",
    "        match_stats['steals']\n",
    "    return per\n",
    "\n",
    "\n",
    "# calculate per for all matches\n",
    "\n",
    "def get_injured_players(match):\n",
    "    return match[match['inactive'] == 1]['player_id']\n",
    "\n",
    "\n",
    "def team_per(match):\n",
    "    get_injured_players(match)\n",
    "    # adjust per for injured players\n",
    "\n",
    "# PER sum of the last 'x' matches played by a team\n",
    "\n",
    "\n",
    "def per_sum(match_id, x):"
   ]
  },
  {
   "cell_type": "markdown",
   "id": "4cdf043b-def7-4a89-b1b8-f3384b03856a",
   "metadata": {},
   "source": [
    "### Calculate PER for all matches"
   ]
  },
  {
   "cell_type": "code",
   "execution_count": 16,
   "id": "68d370fd-3c6b-493f-a244-882eb3cc1a8b",
   "metadata": {},
   "outputs": [
    {
     "name": "stdout",
     "output_type": "stream",
     "text": [
      "time: 374 µs (started: 2021-08-01 04:39:53 -04:00)\n"
     ]
    }
   ],
   "source": [
    "# match_df['sum_per'] =\n",
    "# match_df.apply(lambda x: team_per)"
   ]
  },
  {
   "cell_type": "markdown",
   "id": "168a8ca2-914a-4184-9dcd-727e69f1d04b",
   "metadata": {},
   "source": [
    "## Odds "
   ]
  },
  {
   "cell_type": "markdown",
   "id": "b5c08ab5-a510-478a-847f-18494daf7024",
   "metadata": {},
   "source": [
    "### Moneyline Odds"
   ]
  },
  {
   "cell_type": "code",
   "execution_count": 17,
   "id": "0be5820b-8882-4563-aa3b-3ca6bb9b3735",
   "metadata": {},
   "outputs": [
    {
     "name": "stdout",
     "output_type": "stream",
     "text": [
      "time: 322 µs (started: 2021-08-01 04:39:53 -04:00)\n"
     ]
    }
   ],
   "source": [
    "# match_df['vegas_odds']"
   ]
  },
  {
   "cell_type": "markdown",
   "id": "62153922-097c-419b-9280-7295d8fdb344",
   "metadata": {},
   "source": [
    "### Point Spread Odds"
   ]
  },
  {
   "cell_type": "markdown",
   "id": "1087e8b1-d3f9-4133-8501-4fe50955b61f",
   "metadata": {},
   "source": [
    "### Over/Under"
   ]
  },
  {
   "cell_type": "code",
   "execution_count": 53,
   "id": "9b46ec87-56f9-4a46-8979-35ad207e156f",
   "metadata": {},
   "outputs": [
    {
     "name": "stdout",
     "output_type": "stream",
     "text": [
      "1482.1478553934462 1\n",
      "1630.9944622054159 2\n",
      "1298.0382314689004 3\n",
      "1394.3242449972176 4\n",
      "1673.8590292962251 5\n",
      "1324.3022593622798 6\n",
      "1721.099277299603 7\n",
      "1621.2227386822135 8\n",
      "1382.4925310882318 9\n",
      "1489.3917139323496 10\n",
      "1563.3412850962 11\n",
      "1466.9265606028896 12\n",
      "1436.5175891766519 13\n",
      "1641.2818202925184 14\n",
      "1615.9080963709823 15\n",
      "1700.8512668468118 16\n",
      "1470.2376404664806 17\n",
      "1268.6478415797794 18\n",
      "1499.2723144575862 19\n",
      "1474.1856281978787 20\n",
      "1661.6858139398244 21\n",
      "1614.5014149293957 22\n",
      "1523.633954985225 23\n",
      "1492.8499876958601 24\n",
      "1548.1477552856668 25\n",
      "1420.3354772427538 26\n",
      "1618.110974130699 27\n",
      "1301.215526602053 28\n",
      "1432.7940162691789 29\n",
      "1332.1401222700247 30\n"
     ]
    },
    {
     "data": {
      "text/plain": [
       "1503.3485810054783"
      ]
     },
     "execution_count": 53,
     "metadata": {},
     "output_type": "execute_result"
    },
    {
     "name": "stdout",
     "output_type": "stream",
     "text": [
      "time: 47 ms (started: 2021-08-01 05:11:53 -04:00)\n"
     ]
    }
   ],
   "source": [
    "s = 0\n",
    "season = 2011\n",
    "for i in range(1, 31):\n",
    "    print(match_df[(match_df['home_id'] == i) & (match_df['season'] == season)].tail(1)['home_elo'].values[0],\n",
    "          match_df[(match_df['home_id'] == i) & (match_df['season'] == season)].tail(1)['home_id'].values[0])\n",
    "    s += match_df[(match_df['home_id'] == i) & (match_df['season']\n",
    "                                                == season)].tail(1)['home_elo'].values[0]\n",
    "s/30"
   ]
  },
  {
   "cell_type": "code",
   "execution_count": 19,
   "id": "2abbc54e-a2fd-431d-8d20-11682950e23c",
   "metadata": {},
   "outputs": [
    {
     "data": {
      "text/plain": [
       "1412"
      ]
     },
     "execution_count": 19,
     "metadata": {},
     "output_type": "execute_result"
    },
    {
     "name": "stdout",
     "output_type": "stream",
     "text": [
      "time: 2.06 ms (started: 2021-08-01 04:39:53 -04:00)\n"
     ]
    }
   ],
   "source": [
    "match_df[(match_df['home_id'] == 10) & (\n",
    "    match_df['season'] == 2017)].tail(1)['home_elo'].values[0]"
   ]
  },
  {
   "cell_type": "code",
   "execution_count": 20,
   "id": "a7479eda-0f05-4c86-b99e-9f6965942558",
   "metadata": {},
   "outputs": [
    {
     "name": "stdout",
     "output_type": "stream",
     "text": [
      "time: 332 µs (started: 2021-08-01 04:39:53 -04:00)\n"
     ]
    }
   ],
   "source": [
    "# elos_df = match_df[(match_df['home_id'] == 1) | (match_df['away_id'] == 1)]"
   ]
  },
  {
   "cell_type": "code",
   "execution_count": 21,
   "id": "8f4e8490-8af6-4d08-8555-2cdd88057c86",
   "metadata": {},
   "outputs": [
    {
     "name": "stdout",
     "output_type": "stream",
     "text": [
      "time: 470 µs (started: 2021-08-01 04:39:53 -04:00)\n"
     ]
    }
   ],
   "source": [
    "# okc_df = match_df[(match_df['home_id'] == 21) & (match_df['season'] == '2021')]"
   ]
  },
  {
   "cell_type": "code",
   "execution_count": 48,
   "id": "686f11e0-6e77-4f76-aec5-39579c55226a",
   "metadata": {},
   "outputs": [
    {
     "data": {
      "text/plain": [
       "Series([], Name: home_elo, dtype: int64)"
      ]
     },
     "execution_count": 48,
     "metadata": {},
     "output_type": "execute_result"
    },
    {
     "name": "stdout",
     "output_type": "stream",
     "text": [
      "time: 1.75 ms (started: 2021-08-01 05:10:11 -04:00)\n"
     ]
    }
   ],
   "source": [
    "match_df[match_df['home_elo'] > 1700]['home_elo']"
   ]
  },
  {
   "cell_type": "code",
   "execution_count": null,
   "id": "b685271b-d230-44fd-87b4-de777989b13a",
   "metadata": {},
   "outputs": [],
   "source": []
  }
 ],
 "metadata": {
  "kernelspec": {
   "display_name": "Python 3",
   "language": "python",
   "name": "python3"
  },
  "language_info": {
   "codemirror_mode": {
    "name": "ipython",
    "version": 3
   },
   "file_extension": ".py",
   "mimetype": "text/x-python",
   "name": "python",
   "nbconvert_exporter": "python",
   "pygments_lexer": "ipython3",
   "version": "3.8.5"
  },
  "toc-autonumbering": true,
  "toc-showcode": false,
  "toc-showmarkdowntxt": true,
  "toc-showtags": false
 },
 "nbformat": 4,
 "nbformat_minor": 5
}
