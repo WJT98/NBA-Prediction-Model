{
 "cells": [
  {
   "cell_type": "markdown",
   "id": "23e74c96-fdc7-4b9d-a7f1-c9d7fae1518c",
   "metadata": {
    "tags": []
   },
   "source": [
    "# Imports"
   ]
  },
  {
   "cell_type": "code",
   "execution_count": 3,
   "id": "82290bc0-882c-4a20-abdc-a8b5cd299034",
   "metadata": {},
   "outputs": [
    {
     "name": "stdout",
     "output_type": "stream",
     "text": [
      "time: 1.32 s (started: 2021-08-12 22:17:36 -04:00)\n"
     ]
    }
   ],
   "source": [
    "%%capture\n",
    "\n",
    "import math\n",
    "import db_func\n",
    "import pandas as pd\n",
    "import numpy as np\n",
    "from tqdm import notebook\n",
    "from bokeh.plotting import figure, show\n",
    "from bokeh.io import output_notebook, push_notebook, show\n",
    "import matplotlib.pyplot as plt\n",
    "#notebook.tqdm(looping)\n",
    "\n",
    "try:\n",
    "    %load_ext autotime\n",
    "    %load_ext jupyterlab_notify\n",
    "except:\n",
    "    !pip3 install ipython-autotime\n",
    "    %load_ext autotime"
   ]
  },
  {
   "cell_type": "markdown",
   "id": "e94fd375-bed8-4199-80a1-02acbe8bc14f",
   "metadata": {},
   "source": [
    "## Get Database Connection"
   ]
  },
  {
   "cell_type": "code",
   "execution_count": null,
   "id": "5197d66d-5341-4d9a-935d-14ba1514ac8c",
   "metadata": {},
   "outputs": [],
   "source": [
    "conn = db_func.get_conn()"
   ]
  },
  {
   "cell_type": "markdown",
   "id": "faadde39-4b71-4e8f-b4f9-18ed611d2552",
   "metadata": {},
   "source": [
    "# Preprocessing"
   ]
  },
  {
   "cell_type": "markdown",
   "id": "ec8b0f83-4850-4a66-b5a6-7f6734f0b546",
   "metadata": {},
   "source": [
    "match_df: The final processed dataset to be used in the machine learning models "
   ]
  },
  {
   "cell_type": "markdown",
   "id": "7a556fbf-de3a-40b3-8049-9c70f146a9f6",
   "metadata": {},
   "source": [
    "## Populate Dataframes From Database"
   ]
  },
  {
   "cell_type": "markdown",
   "id": "1b3686fb-377d-4b14-8a6f-2d4f0dcaa7c1",
   "metadata": {},
   "source": [
    "### SQL Query"
   ]
  },
  {
   "cell_type": "code",
   "execution_count": null,
   "id": "ff3e227d-5b62-49b2-82fc-6eb644b730e6",
   "metadata": {
    "tags": []
   },
   "outputs": [],
   "source": [
    "match_query = '''SELECT\n",
    "                    m.match_id,  m.away_id, m.home_id,\n",
    "                    m.date, m.away_pts, m.home_pts, m.playoff_game,\n",
    "                    h_ml.home_ml, a_ml.away_ml,\n",
    "                    h_ps.home_spread, a_ps.away_spread,\n",
    "                    h_ps.home_ps_odds, a_ps.away_ps_odds,\n",
    "                    over.over, under.under, ou.spread\n",
    "                FROM match AS m\n",
    "                LEFT OUTER JOIN\n",
    "                (\n",
    "                    SELECT\n",
    "                        AVG(decimal_odds) AS home_ml,\n",
    "                        m.match_id AS match_id\n",
    "                    FROM\n",
    "                        odds AS o, team AS t1, team as t2,\n",
    "                        match AS m\n",
    "                    WHERE\n",
    "                        o.bet_type_id = 1 AND\n",
    "                        o.match_id = m.match_id AND\n",
    "                        o.team_id = m.home_id\n",
    "                    GROUP BY m.match_id\n",
    "                ) AS h_ml ON m.match_id = h_ml.match_id\n",
    "                LEFT OUTER JOIN\n",
    "                (\n",
    "                    SELECT\n",
    "                        AVG(decimal_odds) AS away_ml,\n",
    "                        m.match_id AS match_id\n",
    "                    FROM\n",
    "                        odds AS o, team AS t1, team as t2,\n",
    "                        match AS m\n",
    "                    WHERE\n",
    "                        o.bet_type_id = 1 AND\n",
    "                        o.match_id = m.match_id AND\n",
    "                        o.team_id = m.away_id\n",
    "                    GROUP BY m.match_id\n",
    "                ) AS a_ml ON m.match_id = a_ml.match_id\n",
    "                LEFT OUTER JOIN\n",
    "                (\n",
    "                    SELECT\n",
    "                        AVG(decimal_odds) AS home_ps_odds,\n",
    "                        AVG(spread) AS home_spread,\n",
    "                        m.match_id AS match_id\n",
    "                    FROM\n",
    "                        odds AS o, team AS t1, team as t2,\n",
    "                        match AS m\n",
    "                    WHERE\n",
    "                        o.bet_type_id = 2 AND\n",
    "                        o.match_id = m.match_id AND\n",
    "                        o.team_id = m.home_id\n",
    "                    GROUP BY m.match_id\n",
    "                ) AS h_ps ON m.match_id = h_ps.match_id\n",
    "                LEFT OUTER JOIN\n",
    "                (\n",
    "                    SELECT\n",
    "                        AVG(decimal_odds) AS away_ps_odds,\n",
    "                        AVG(spread) AS away_spread,\n",
    "                        m.match_id AS match_id\n",
    "                    FROM\n",
    "                        odds AS o, team AS t1, team as t2,\n",
    "                        match AS m\n",
    "                    WHERE\n",
    "                        o.bet_type_id = 2 AND\n",
    "                        o.match_id = m.match_id AND\n",
    "                        o.team_id = m.away_id\n",
    "                    GROUP BY m.match_id\n",
    "                ) AS a_ps ON m.match_id = a_ps.match_id\n",
    "                LEFT OUTER JOIN\n",
    "                (\n",
    "                    SELECT\n",
    "                        AVG(decimal_odds) AS under,\n",
    "                        m.match_id AS match_id\n",
    "                    FROM\n",
    "                        odds AS o, match AS m\n",
    "                    WHERE\n",
    "                        o.bet_type_id = 3 AND\n",
    "                        o.over_under = 'under' AND\n",
    "                        o.match_id = m.match_id\n",
    "                    GROUP BY m.match_id\n",
    "                ) AS under ON m.match_id = under.match_id\n",
    "                LEFT OUTER JOIN\n",
    "                (\n",
    "                    SELECT\n",
    "                        AVG(decimal_odds) AS over,\n",
    "                        m.match_id AS match_id\n",
    "                    FROM\n",
    "                        odds AS o, match AS m\n",
    "                    WHERE\n",
    "                        o.bet_type_id = 3 AND\n",
    "                        o.over_under = 'over' AND\n",
    "                        o.match_id = m.match_id\n",
    "                    GROUP BY m.match_id\n",
    "                ) AS over ON m.match_id = over.match_id\n",
    "                LEFT OUTER JOIN\n",
    "                (\n",
    "                    SELECT\n",
    "                        AVG(spread) AS spread,\n",
    "                        m.match_id AS match_id\n",
    "                    FROM\n",
    "                        odds AS o, match AS m\n",
    "                    WHERE\n",
    "                        o.bet_type_id = 3 AND\n",
    "                        o.match_id = m.match_id\n",
    "                    GROUP BY m.match_id\n",
    "                ) AS ou ON m.match_id = ou.match_id\n",
    "                WHERE\n",
    "                    m.date >= DATE('2007-10-30')\n",
    "                ORDER BY date ASC\n",
    "                '''\n",
    "\n",
    "season_query = '''SELECT *\n",
    "                  FROM season'''\n",
    "player_performance_query = '''SELECT *\n",
    "                              FROM player_performance'''\n",
    "team_query = '''SELECT * \n",
    "                FROM team_name'''\n",
    "injury_query = '''SELECT * \n",
    "                FROM injury'''\n",
    "\n",
    "match_df = pd.read_sql(match_query, conn)\n",
    "#match_df.set_index('match_id', inplace=True)\n",
    "season_df = pd.read_sql(season_query, conn)\n",
    "playerperf_df = pd.read_sql(player_performance_query, conn)\n",
    "team_df = pd.read_sql(team_query, conn)\n",
    "injury = pd.read_sql(injury_query, conn)\n",
    "\n"
   ]
  },
  {
   "cell_type": "markdown",
   "id": "b8819638-b00a-4ed3-8ed3-4e0a5c508a4d",
   "metadata": {},
   "source": [
    "## Season"
   ]
  },
  {
   "cell_type": "markdown",
   "id": "a496fa47-19bc-4690-af41-170180610824",
   "metadata": {},
   "source": [
    "Set the season for each match"
   ]
  },
  {
   "cell_type": "code",
   "execution_count": null,
   "id": "8779a12b-da00-476c-87d3-75723c4cace8",
   "metadata": {},
   "outputs": [],
   "source": [
    "def get_season(date):\n",
    "    return season_df[(season_df['start_date'] <= date) &\n",
    "                     (season_df['end_date'] >= date)]['season'].values[0]"
   ]
  },
  {
   "cell_type": "code",
   "execution_count": null,
   "id": "f74718c6-ec29-47e5-a152-9b96fa8384a9",
   "metadata": {},
   "outputs": [],
   "source": [
    "match_df['season'] = match_df['date'].map(get_season)"
   ]
  },
  {
   "cell_type": "markdown",
   "id": "c469cd8d-d86b-47b5-99ef-bba7e9e298f1",
   "metadata": {},
   "source": [
    "Only matches from seasons 2008-2021 will be used "
   ]
  },
  {
   "cell_type": "markdown",
   "id": "76b3cfbc-f918-4c54-bc52-d85d708cef66",
   "metadata": {},
   "source": [
    "# Feature Engineering"
   ]
  },
  {
   "cell_type": "markdown",
   "id": "5ae7d644-e0fd-46a5-9194-69bfae70bf25",
   "metadata": {},
   "source": [
    "## Margin of Victory/Loss (MOVL) with respect to the home team"
   ]
  },
  {
   "cell_type": "code",
   "execution_count": null,
   "id": "f44c5572-f296-48ce-9896-99c0f5c83e4e",
   "metadata": {},
   "outputs": [],
   "source": [
    "match_df['movl'] = match_df['home_pts'] - match_df['away_pts']"
   ]
  },
  {
   "cell_type": "markdown",
   "id": "dc6a377f-cc59-4c3d-a024-815d488b1b00",
   "metadata": {},
   "source": [
    "## Team Elo Rating"
   ]
  },
  {
   "cell_type": "markdown",
   "id": "ccfe131d-76cd-44c6-87dd-a944881d3cc2",
   "metadata": {},
   "source": [
    "Each team starts at 1500 elo"
   ]
  },
  {
   "cell_type": "code",
   "execution_count": null,
   "id": "a1295729-41fc-44b3-acf7-a99664f43284",
   "metadata": {},
   "outputs": [],
   "source": [
    "match_df['home_elo'] = 1500.0\n",
    "match_df['away_elo'] = 1500.0"
   ]
  },
  {
   "cell_type": "markdown",
   "id": "3c9600e5-378b-40bd-9713-47b7d127b69e",
   "metadata": {},
   "source": [
    "### Get the previous match of each team to aid elo calculation"
   ]
  },
  {
   "cell_type": "code",
   "execution_count": null,
   "id": "6823a608-5cc9-46e6-b0a5-f81a14a8b6b6",
   "metadata": {},
   "outputs": [],
   "source": [
    "def get_prev_match(date, team_id, match_df):\n",
    "    return match_df[(match_df[\"date\"] < date) &\n",
    "                    ((match_df[\"home_id\"] == team_id) |\n",
    "                     (match_df[\"away_id\"] == team_id))].tail(1)"
   ]
  },
  {
   "cell_type": "markdown",
   "id": "edd6233f-770a-412d-9084-debc9f991d15",
   "metadata": {},
   "source": [
    "### Team elo calculation"
   ]
  },
  {
   "cell_type": "code",
   "execution_count": null,
   "id": "f683830a-b4d4-4199-8445-174b123176c4",
   "metadata": {},
   "outputs": [],
   "source": [
    "def get_prev_elo(team_id, season, prev_match):\n",
    "\n",
    "    if prev_match.empty:\n",
    "        prev_elo = 1500.0\n",
    "    elif team_id == prev_match['home_id'].values[0]:\n",
    "        prev_elo = prev_match['home_elo'].values[0]\n",
    "    elif team_id == prev_match['away_id'].values[0]:\n",
    "        prev_elo = prev_match['away_elo'].values[0]\n",
    "    else: \n",
    "        print('err')\n",
    "\n",
    "    if (not prev_match.empty and\n",
    "            (prev_match['season'].values[0]\n",
    "             != season)):\n",
    "        #print(prev_elo, prev_elo * 0.75 + 1505 * 0.25)\n",
    "        prev_elo = prev_elo * 0.75 + 1505 * 0.25\n",
    "\n",
    "    return prev_elo\n",
    "\n",
    "\n",
    "def update_elo(home_elo, away_elo, movl):\n",
    "    elo_diff = home_elo + 100.0 - away_elo\n",
    "    if movl > 0:\n",
    "        h_s = 1.0\n",
    "        a_s = 0.0\n",
    "        multiplier = ((movl+3)**(0.8))/(7.5+0.006*elo_diff)\n",
    "\n",
    "    else:\n",
    "        h_s = 0.0\n",
    "        a_s = 1.0\n",
    "        multiplier = ((-movl+3)**(0.8))/(7.5+0.006*(-elo_diff))\n",
    "        \n",
    "    exp_h_s = 1.0 / (1.0 + 10.0 ** (-elo_diff/400.0))\n",
    "    exp_a_s = 1.0 - exp_h_s\n",
    "    \n",
    "    k = 20.0 * multiplier\n",
    "\n",
    "    new_home_elo = home_elo + k * (h_s - exp_h_s)\n",
    "    new_away_elo = away_elo + k * (a_s - exp_a_s)\n",
    "\n",
    "    return (new_home_elo, new_away_elo)"
   ]
  },
  {
   "cell_type": "code",
   "execution_count": null,
   "id": "6a46ea97-aaac-4aeb-a87b-fdec9f1d5a33",
   "metadata": {},
   "outputs": [],
   "source": [
    "for idx, row in match_df.iterrows():\n",
    "    prev_h_match = get_prev_match(row['date'], row['home_id'], match_df)\n",
    "    prev_a_match = get_prev_match(row['date'], row['away_id'], match_df)\n",
    "    \n",
    "    prev_h_elo = get_prev_elo(\n",
    "        row['home_id'], row['season'], prev_h_match)\n",
    "    prev_a_elo = get_prev_elo(\n",
    "        row['away_id'], row['season'], prev_a_match)    \n",
    "    \n",
    "    new_elos = update_elo(prev_h_elo, prev_a_elo, row['movl'])\n",
    "    match_df.at[idx, 'home_elo'] = new_elos[0]\n",
    "    match_df.at[idx, 'away_elo'] = new_elos[1]"
   ]
  },
  {
   "cell_type": "code",
   "execution_count": null,
   "id": "9b46ec87-56f9-4a46-8979-35ad207e156f",
   "metadata": {},
   "outputs": [],
   "source": [
    "def plot_elo(team_id):\n",
    "    output_notebook()\n",
    "    plot = figure(title=\"Historical Elo Rating\", x_axis_label=\"Date\", y_axis_label=\"Elo\", \n",
    "                  x_axis_type = 'datetime', plot_width=800, plot_height=500)\n",
    "\n",
    "    y = match_df[(match_df['away_id'] == team_id) | (match_df['home_id'] == team_id)]\n",
    "    x = y['date']\n",
    "    y = y.apply(lambda x: x['home_elo'] if x['home_id'] == team_id else x['away_elo'], axis=1)\n",
    "    \n",
    "    team_name = team_df[team_df['team_id'] == team_id]['team_name'].head(1).values[0]\n",
    "    plot.circle(x, y, legend_label = team_name, line_color = 'blue', line_width = 1)\n",
    "\n",
    "    handle = show(plot, notebook_handle=True)\n",
    "\n",
    "    # Update the plot title in the earlier cell\n",
    "    push_notebook(handle=handle)\n",
    "\n",
    "plot_elo(4)\n",
    "plot_elo(5)"
   ]
  },
  {
   "cell_type": "markdown",
   "id": "872f5495-4733-4496-82cb-506780d0f16d",
   "metadata": {},
   "source": [
    "## Player Efficiency Rating (PER) Sum of Last 5 Games"
   ]
  },
  {
   "cell_type": "markdown",
   "id": "ad4f7ae8-4182-4b71-a32c-366bd61ce2e3",
   "metadata": {},
   "source": [
    "The Hollinger Player Efficiency Rating for a player is defined as the sum of\n",
    "the following stats\n",
    "\n",
    "\n",
    "| Stat | Weight |\n",
    "| --- | ----------- |\n",
    "| FGM | 85.910 |\n",
    "| Steals | 53.897 |\n",
    "| 3PTM | 51.757 |\n",
    "| FTM | 46.845 |\n",
    "| Blocks | 39.190 |\n",
    "| Offensive Rebounds | 39.190|\n",
    "| Assists | 34.677 |\n",
    "| Defensive Rebounds | 14.707 |\n",
    "| Foul | -17.174 |\n",
    "| FT Miss | -20.091 |\n",
    "| FG Miss | -39.190 |\n",
    "| Turnover | -53.897 |\n",
    "\n",
    " divided by (minutes played)."
   ]
  },
  {
   "cell_type": "code",
   "execution_count": null,
   "id": "03f929b0-c1e0-4b4b-be33-8fc036d29893",
   "metadata": {},
   "outputs": [],
   "source": [
    "def player_match_eff_rating(player):\n",
    "    per = 0\n",
    "    if player['sp'] > 0:\n",
    "        per = player['fg'] * 85.910 \n",
    "        + player['stl'] * 53.897\n",
    "        + player['threep'] * 51.757\n",
    "        + player['ft'] * 46.845\n",
    "        + player['blk'] * 39.190 \n",
    "        + player['orb'] * 39.190\n",
    "        + player['drb'] * 34.677\n",
    "        + player['ast'] * 14.707\n",
    "        - player['pf'] * 17.174 \n",
    "        - (player['fta'] - player['ft']) * 20.091 \n",
    "        - (player['fga'] - player['fg']) * 39.190\n",
    "        - player['tov'] * 53.897 \n",
    "        \n",
    "        per = per / (player['sp']/60.0)\n",
    "    return per\n",
    "\n",
    "def team_match_eff_rating(team_id, match_id, playerperf_df):\n",
    "    df = playerperf_df[(playerperf_df['team_id'] == team_id) &\n",
    "                        (playerperf_df['match_id'] == match_id)]\n",
    "    return df['per'].sum()\n",
    "\n"
   ]
  },
  {
   "cell_type": "code",
   "execution_count": null,
   "id": "6534562f-3125-42cf-8c0d-061c247441df",
   "metadata": {},
   "outputs": [],
   "source": [
    "### To get head on head matches for an opponent, set opponent_id\n",
    "def get_prev_matches(date, team_id, match_df, opponent_id = -1):\n",
    "    if opponent_id == -1:\n",
    "        return match_df[(match_df[\"date\"] < date) &\n",
    "                    ((match_df[\"home_id\"] == team_id) |\n",
    "                     (match_df[\"away_id\"] == team_id))]\n",
    "    else:\n",
    "        \n",
    "        return match_df[(match_df[\"date\"] < date) &\n",
    "                        (((match_df[\"home_id\"] == team_id) & \n",
    "                          (match_df[\"away_id\"] == opponent_id)) |\n",
    "                         ((match_df[\"home_id\"] == opponent_id) & \n",
    "                          (match_df[\"away_id\"] == team_id)) )]\n",
    "\n",
    "def get_past_per_sum(team_id, prev_matches):\n",
    "    if len(prev_matches) < 5: \n",
    "        return None\n",
    "    prev_matches['res'] =  prev_matches.apply(lambda x:\n",
    "                             x['home_per'] if x['home_id'] == team_id\n",
    "                             else x['away_per'], axis=1)\n",
    "    return prev_matches['res'].sum()    \n"
   ]
  },
  {
   "cell_type": "code",
   "execution_count": null,
   "id": "29776c62-326e-48d9-92d1-83a0758808c7",
   "metadata": {},
   "outputs": [],
   "source": [
    "playerperf_df['per'] = playerperf_df.apply(player_match_eff_rating, axis=1)\n",
    "\n",
    "match_df['away_per'] = match_df.apply(lambda x: team_match_eff_rating(\n",
    "    x['away_id'],x['match_id'], playerperf_df), axis=1)\n",
    "match_df['home_per'] = match_df.apply(lambda x: team_match_eff_rating(\n",
    "    x['home_id'],x['match_id'], playerperf_df), axis=1)\n",
    "\n",
    "match_df['past_5_home_per'] = match_df.apply(lambda x: \n",
    "                                get_past_per_sum(x['home_id'], \n",
    "                                    get_prev_matches(x['date'], \n",
    "                                                     x['home_id'],\n",
    "                                                    match_df).tail(5)), axis=1)\n",
    "match_df['past_5_away_per'] = match_df.apply(lambda x: \n",
    "                                get_past_per_sum(x['away_id'], \n",
    "                                    get_prev_matches(x['date'], \n",
    "                                                     x['away_id'],\n",
    "                                                    match_df).tail(5)), axis=1)\n"
   ]
  },
  {
   "cell_type": "markdown",
   "id": "4cdf043b-def7-4a89-b1b8-f3384b03856a",
   "metadata": {},
   "source": [
    "## BPM 2.0 (BBREF)"
   ]
  },
  {
   "cell_type": "markdown",
   "id": "b0bffaa8-631f-4d85-8b6d-1ecee4839f3a",
   "metadata": {},
   "source": [
    "### Get team average BPM for past 5 games"
   ]
  },
  {
   "cell_type": "code",
   "execution_count": null,
   "id": "6eb49afc-0341-4dd8-9848-f921bf728f4f",
   "metadata": {},
   "outputs": [],
   "source": [
    "def get_past_bpm_sum(team_id, prev_matches):\n",
    "    if len(prev_matches) < 5: \n",
    "        return None\n",
    "    prev_matches['res'] =  prev_matches.apply(lambda x:\n",
    "                             x['home_bpm'] if x['home_id'] == team_id\n",
    "                             else x['away_bpm'], axis=1)\n",
    "    return prev_matches['res'].sum()"
   ]
  },
  {
   "cell_type": "code",
   "execution_count": null,
   "id": "372e557a-5de7-4763-80bc-0913f9c37291",
   "metadata": {},
   "outputs": [],
   "source": [
    "match_df['home_bpm'] = match_df.apply(lambda x: \n",
    "                        playerperf_df[(playerperf_df['match_id'] == x['match_id']) &\n",
    "                        (playerperf_df['team_id'] == x['home_id'])]['bpm'].sum(), \n",
    "                                      axis=1)\n",
    "match_df['away_bpm'] = match_df.apply(lambda x: \n",
    "                        playerperf_df[(playerperf_df['match_id'] == x['match_id']) &\n",
    "                        (playerperf_df['team_id'] == x['away_id'])]['bpm'].sum(), \n",
    "                                      axis=1)\n",
    "match_df['past_5_home_bpm'] = match_df.apply(lambda x: \n",
    "                                get_past_bpm_sum(x['home_id'], \n",
    "                                    get_prev_matches(x['date'], \n",
    "                                                     x['home_id'],\n",
    "                                                    match_df).tail(5)), axis=1)\n",
    "match_df['past_5_away_bpm'] = match_df.apply(lambda x: \n",
    "                                get_past_bpm_sum(x['away_id'], \n",
    "                                    get_prev_matches(x['date'], \n",
    "                                                     x['away_id'],\n",
    "                                                    match_df).tail(5)), axis=1)"
   ]
  },
  {
   "cell_type": "markdown",
   "id": "c1c82a8d-ec39-4b9f-9ee9-86df6e2fe231",
   "metadata": {},
   "source": [
    "## Defensive Rating (DRTG)"
   ]
  },
  {
   "cell_type": "code",
   "execution_count": null,
   "id": "83dc302e-caf9-41b2-90dd-8462bbb0a1ad",
   "metadata": {},
   "outputs": [],
   "source": [
    "def get_past_drtg_sum(team_id, prev_matches):\n",
    "    if len(prev_matches) < 5: \n",
    "        return None\n",
    "    prev_matches['res'] =  prev_matches.apply(lambda x:\n",
    "                             x['home_drtg'] if x['home_id'] == team_id\n",
    "                             else x['away_drtg'], axis=1)\n",
    "    return prev_matches['res'].sum()"
   ]
  },
  {
   "cell_type": "code",
   "execution_count": null,
   "id": "53aa151f-d597-43c8-afe2-0ddad892c3eb",
   "metadata": {},
   "outputs": [],
   "source": [
    "match_df['home_drtg'] = match_df.apply(lambda x: \n",
    "                        playerperf_df[(playerperf_df['match_id'] == x['match_id']) &\n",
    "                        (playerperf_df['team_id'] == x['home_id'])]['drtg'].sum(), \n",
    "                                      axis=1)\n",
    "match_df['away_drtg'] = match_df.apply(lambda x: \n",
    "                        playerperf_df[(playerperf_df['match_id'] == x['match_id']) &\n",
    "                        (playerperf_df['team_id'] == x['away_id'])]['drtg'].sum(), \n",
    "                                      axis=1)\n",
    "\n",
    "match_df['past_5_home_drtg'] = match_df.apply(lambda x: \n",
    "                                get_past_drtg_sum(x['home_id'], \n",
    "                                    get_prev_matches(x['date'], \n",
    "                                                     x['home_id'],\n",
    "                                                    match_df).tail(5)), axis=1)\n",
    "match_df['past_5_away_drtg'] = match_df.apply(lambda x: \n",
    "                                get_past_drtg_sum(x['away_id'], \n",
    "                                    get_prev_matches(x['date'], \n",
    "                                                     x['away_id'],\n",
    "                                                    match_df).tail(5)), axis=1)"
   ]
  },
  {
   "cell_type": "code",
   "execution_count": null,
   "id": "6ea31bd5-6baf-4c2c-8b2c-92bfb3d29874",
   "metadata": {},
   "outputs": [],
   "source": [
    "def get_past_pts_sum(team_id, prev_matches):\n",
    "    if len(prev_matches) < 5: \n",
    "        return None\n",
    "    prev_matches['res'] =  prev_matches.apply(lambda x:\n",
    "                             x['home_pts'] if x['home_id'] == team_id\n",
    "                             else x['away_pts'], axis=1)\n",
    "    return prev_matches['res'].sum()"
   ]
  },
  {
   "cell_type": "code",
   "execution_count": null,
   "id": "170e68d9-ff7b-4231-bad2-e05b19fcde6c",
   "metadata": {},
   "outputs": [],
   "source": [
    "match_df['past_5_home_pts'] = match_df.apply(lambda x: \n",
    "                                get_past_pts_sum(x['home_id'], \n",
    "                                    get_prev_matches(x['date'], \n",
    "                                                     x['home_id'],\n",
    "                                                    match_df).tail(5)), axis=1)\n",
    "match_df['past_5_away_pts'] = match_df.apply(lambda x: \n",
    "                                get_past_pts_sum(x['away_id'], \n",
    "                                    get_prev_matches(x['date'], \n",
    "                                                     x['away_id'],\n",
    "                                                    match_df).tail(5)), axis=1)"
   ]
  },
  {
   "cell_type": "markdown",
   "id": "0c514537-3568-4597-a1c8-90d8f79c2eca",
   "metadata": {},
   "source": [
    "# Exploratory Data Analysis"
   ]
  },
  {
   "cell_type": "markdown",
   "id": "06865461-6817-44b1-8d29-335e58d4ff12",
   "metadata": {},
   "source": [
    "## Feature Correlation Matrix"
   ]
  },
  {
   "cell_type": "code",
   "execution_count": null,
   "id": "48ed5883-f0f8-4541-9b03-bbc6c467d0f8",
   "metadata": {},
   "outputs": [],
   "source": [
    "match_df = match_df[(match_df['past_5_home_bpm'].notnull()) &\n",
    "                   (match_df['past_5_away_bpm'].notnull())]"
   ]
  },
  {
   "cell_type": "code",
   "execution_count": null,
   "id": "82b0f13a-3b86-4b84-8346-2d0b5da2f183",
   "metadata": {},
   "outputs": [],
   "source": [
    "features = ['home_elo', 'away_elo', \n",
    "            'past_5_home_bpm', 'past_5_away_bpm', \n",
    "            'past_5_home_per', 'past_5_away_per',\n",
    "            'past_5_home_drtg', 'past_5_away_drtg',\n",
    "            'past_5_home_pts', 'past_5_away_pts',\n",
    "            'home_ml', 'away_ml']\n",
    "corr_df = match_df[features]\n",
    "\n",
    "corr = corr_df.corr()\n",
    "corr.style.background_gradient(cmap='coolwarm')\n",
    "\n",
    "# 'RdBu_r', 'BrBG_r', & PuOr_r are other good diverging colormaps"
   ]
  },
  {
   "cell_type": "markdown",
   "id": "632fef9a-df39-489a-a397-43e1f0165856",
   "metadata": {},
   "source": [
    "Remove all rows where there were not enough games yet to calculate past 5 bpm/per"
   ]
  },
  {
   "cell_type": "markdown",
   "id": "56056042-3273-4887-8729-b83bac2fa984",
   "metadata": {},
   "source": [
    "## Save Final Dataset into CSV"
   ]
  },
  {
   "cell_type": "code",
   "execution_count": null,
   "id": "e1ed3d57-e2f6-48a0-8026-29e737f41bf6",
   "metadata": {},
   "outputs": [],
   "source": [
    "match_df.to_csv('nba_data.csv', header=True, index=False)"
   ]
  },
  {
   "cell_type": "markdown",
   "id": "e4d2c722-ee7f-4ddb-92c0-a4671e2d7a6d",
   "metadata": {},
   "source": [
    "# Machine Learning Models"
   ]
  },
  {
   "cell_type": "markdown",
   "id": "b39cea23-1a37-47df-b417-81aa75b888cd",
   "metadata": {},
   "source": [
    "# Splitting into Training and Test Sets"
   ]
  },
  {
   "cell_type": "markdown",
   "id": "f36d97fe-8634-4fb6-8d53-b5e38cc7100d",
   "metadata": {
    "tags": []
   },
   "source": [
    "## Simple 80/20 split"
   ]
  },
  {
   "cell_type": "code",
   "execution_count": 6,
   "id": "4d99fa39-a287-44c7-a850-d9c5e04d806c",
   "metadata": {},
   "outputs": [
    {
     "name": "stdout",
     "output_type": "stream",
     "text": [
      "time: 63.1 ms (started: 2021-08-12 22:25:15 -04:00)\n"
     ]
    }
   ],
   "source": [
    "import pandas as pd\n",
    "import numpy as np\n",
    "match_df = pd.read_csv('nba_data.csv')\n",
    "\n",
    "features = ['home_elo', 'away_elo', \n",
    "            'past_5_home_bpm', 'past_5_away_bpm', \n",
    "            'past_5_home_per', 'past_5_away_per',\n",
    "            'past_5_home_drtg', 'past_5_away_drtg',\n",
    "            'past_5_home_pts', 'past_5_away_pts',\n",
    "            'home_ml', 'away_ml']\n",
    "\n",
    "# match_df = match_df[features]\n",
    "#match_df.dropna(inplace=True)\n",
    "\n",
    "\n",
    "match_df['home_win'] = match_df['movl'].map(lambda x: 0 if x < 0 else 1)\n",
    "\n",
    "cutoff = math.floor(len(match_df) * 0.8)\n",
    "train = match_df[match_df.index < 14202]\n",
    "test = match_df[match_df.index >= 14202]\n",
    "\n",
    "\n",
    "\n",
    "\n",
    "## Check for Nan's and inf's\n",
    "# print(f\"Has Nan's: {np.any(np.isnan(train))}\")\n",
    "# print(train[train.isna().any(axis=1)])\n",
    "# print(train.index[np.isinf(train).any(1)])\n",
    "# print(f\"Has infinites: {np.all(np.isfinite(train))}\")\n",
    "\n"
   ]
  },
  {
   "cell_type": "markdown",
   "id": "e3b0f3b2-214f-4fb8-8f19-2b476a45b02a",
   "metadata": {},
   "source": [
    "## XGBoost"
   ]
  },
  {
   "cell_type": "code",
   "execution_count": 7,
   "id": "5db801af-93f0-4eb2-8a5b-0265930011dd",
   "metadata": {},
   "outputs": [
    {
     "name": "stdout",
     "output_type": "stream",
     "text": [
      "time: 16.6 ms (started: 2021-08-12 22:25:18 -04:00)\n"
     ]
    }
   ],
   "source": [
    "import xgboost as xgb\n",
    "from sklearn.metrics import mean_squared_error\n",
    "\n",
    "X_train = train[features]\n",
    "X_test = test[features]\n",
    "\n",
    "y_train = train['movl']\n",
    "y_test = test['movl']\n",
    "\n",
    "data_dmatrix = xgb.DMatrix(data=X_train, label = y_train)"
   ]
  },
  {
   "cell_type": "code",
   "execution_count": 9,
   "id": "9a52e933-0b9a-4561-b680-62e04bf56c04",
   "metadata": {},
   "outputs": [
    {
     "data": {
      "text/plain": [
       "XGBRegressor(alpha=10, base_score=0.5, booster='gbtree', colsample_bylevel=1,\n",
       "             colsample_bynode=1, colsample_bytree=0.3, gamma=0, gpu_id=-1,\n",
       "             importance_type='gain', interaction_constraints='',\n",
       "             learning_rate=0.1, max_delta_step=0, max_depth=5,\n",
       "             min_child_weight=1, missing=nan, monotone_constraints='()',\n",
       "             n_estimators=10, n_jobs=24, num_parallel_tree=1, random_state=0,\n",
       "             reg_alpha=10, reg_lambda=1, scale_pos_weight=1, subsample=1,\n",
       "             tree_method='exact', validate_parameters=1, verbosity=None)"
      ]
     },
     "execution_count": 9,
     "metadata": {},
     "output_type": "execute_result"
    },
    {
     "name": "stdout",
     "output_type": "stream",
     "text": [
      "time: 182 ms (started: 2021-08-12 22:26:18 -04:00)\n"
     ]
    }
   ],
   "source": [
    "params = {\n",
    "    # Parameters that we are going to tune.\n",
    "    'max_depth':6,\n",
    "    'min_child_weight': 1,\n",
    "    'eta':.3,\n",
    "    'subsample': 1,\n",
    "    'colsample_bytree': 1,\n",
    "    # Other parameters\n",
    "    'objective':'reg:squarederror',\n",
    "}\n",
    "xg_reg = xgb.XGBRegressor(objective ='reg:squarederror', colsample_bytree = 0.3, learning_rate = 0.1,\n",
    "                max_depth = 5, alpha = 10, n_estimators = 10)\n",
    "xg_reg.fit(X_train,y_train)"
   ]
  },
  {
   "cell_type": "code",
   "execution_count": 10,
   "id": "ca7d9026-4c9b-4d1b-b4dd-c640310f49d8",
   "metadata": {},
   "outputs": [
    {
     "name": "stdout",
     "output_type": "stream",
     "text": [
      "time: 16.6 ms (started: 2021-08-12 22:26:21 -04:00)\n"
     ]
    }
   ],
   "source": [
    "preds = xg_reg.predict(X_test)"
   ]
  },
  {
   "cell_type": "code",
   "execution_count": 11,
   "id": "67715917-6533-4a66-af41-923fe67c0c4d",
   "metadata": {},
   "outputs": [
    {
     "data": {
      "text/plain": [
       "13.134410825186935"
      ]
     },
     "execution_count": 11,
     "metadata": {},
     "output_type": "execute_result"
    },
    {
     "name": "stdout",
     "output_type": "stream",
     "text": [
      "time: 1.89 ms (started: 2021-08-12 22:26:21 -04:00)\n"
     ]
    }
   ],
   "source": [
    "rmse = np.sqrt(mean_squared_error(y_test, preds))\n",
    "rmse"
   ]
  },
  {
   "cell_type": "code",
   "execution_count": 12,
   "id": "045c6e71-5be2-4fbd-b2a2-4a3a999aae80",
   "metadata": {},
   "outputs": [
    {
     "name": "stdout",
     "output_type": "stream",
     "text": [
      "time: 2.02 ms (started: 2021-08-12 22:26:22 -04:00)\n"
     ]
    }
   ],
   "source": [
    "#df = pd.DataFrame(, columns=['movl','xgb_movl'], axis = 1)\n",
    "preds = pd.Series(preds, name='xgb_movl')\n",
    "df = pd.concat([y_test.reset_index(drop=True), \n",
    "                preds.reset_index(drop=True),\n",
    "               test['home_ml'].reset_index(drop=True),\n",
    "               test['away_ml'].reset_index(drop=True)], axis=1)"
   ]
  },
  {
   "cell_type": "code",
   "execution_count": 13,
   "id": "c2509d21-42ae-4c04-8648-64d7d3bf4d3f",
   "metadata": {},
   "outputs": [
    {
     "name": "stdout",
     "output_type": "stream",
     "text": [
      "time: 3.51 ms (started: 2021-08-12 22:26:23 -04:00)\n"
     ]
    }
   ],
   "source": [
    "df['home_win'] = df['movl'].map(lambda x: 0 if x < 0 else 1)\n",
    "df['xgb_home_win'] = df['xgb_movl'].map(lambda x: 0 if x < 0 else 1)"
   ]
  },
  {
   "cell_type": "code",
   "execution_count": 14,
   "id": "0e4b20f4-e121-4a0e-a718-f86a05ba8c8c",
   "metadata": {},
   "outputs": [
    {
     "name": "stdout",
     "output_type": "stream",
     "text": [
      "time: 20.6 ms (started: 2021-08-12 22:26:25 -04:00)\n"
     ]
    }
   ],
   "source": [
    "df['correct_pred'] = df.apply(lambda x: \n",
    "    1 if x['home_win'] == x['xgb_home_win'] else 0, axis = 1)"
   ]
  },
  {
   "cell_type": "code",
   "execution_count": 15,
   "id": "2b18cc6d-1527-4826-bf1e-dafab2a904ca",
   "metadata": {},
   "outputs": [
    {
     "data": {
      "text/plain": [
       "0.6825218125527723"
      ]
     },
     "execution_count": 15,
     "metadata": {},
     "output_type": "execute_result"
    },
    {
     "name": "stdout",
     "output_type": "stream",
     "text": [
      "time: 1.52 ms (started: 2021-08-12 22:26:25 -04:00)\n"
     ]
    }
   ],
   "source": [
    "acc = df['correct_pred'].sum()/len(df.index)\n",
    "acc"
   ]
  },
  {
   "cell_type": "code",
   "execution_count": null,
   "id": "9078b61a-d1e4-4e2b-86ff-58a9aa1715ba",
   "metadata": {},
   "outputs": [],
   "source": [
    "import matplotlib.pylab as pl\n",
    "xgb.plot_importance(xg_reg)\n",
    "pl.title(\"xgboost.plot_importance(model)\")\n",
    "pl.show()"
   ]
  },
  {
   "cell_type": "markdown",
   "id": "3f0589a0-c1f8-4b51-8ea2-8d46cbb2cc39",
   "metadata": {},
   "source": [
    "## Accuracy of using just ML"
   ]
  },
  {
   "cell_type": "code",
   "execution_count": 16,
   "id": "67f01653-d198-4b4e-99c6-cae6d5ca06bc",
   "metadata": {},
   "outputs": [
    {
     "data": {
      "text/plain": [
       "0.6681677455671263"
      ]
     },
     "execution_count": 16,
     "metadata": {},
     "output_type": "execute_result"
    },
    {
     "name": "stdout",
     "output_type": "stream",
     "text": [
      "time: 53.4 ms (started: 2021-08-12 22:26:31 -04:00)\n"
     ]
    }
   ],
   "source": [
    "df['ml_pred'] = df.apply(lambda x: \n",
    "    1 if x['home_ml'] < x['away_ml'] else 0, axis = 1)\n",
    "\n",
    "df['ml_correct_pred'] = df.apply(lambda x: \n",
    "    1 if x['home_win'] == x['ml_pred'] else 0, axis = 1)\n",
    "\n",
    "acc = df['ml_correct_pred'].sum()/len(df.index)\n",
    "acc"
   ]
  },
  {
   "cell_type": "markdown",
   "id": "c16b8def-d425-4098-aae1-a5d768360315",
   "metadata": {},
   "source": [
    "## Tuning XGBoost"
   ]
  },
  {
   "cell_type": "code",
   "execution_count": 17,
   "id": "ce7f47e5-99ee-4bca-8c5b-8ef372635291",
   "metadata": {},
   "outputs": [
    {
     "name": "stdout",
     "output_type": "stream",
     "text": [
      "time: 219 µs (started: 2021-08-12 22:26:32 -04:00)\n"
     ]
    }
   ],
   "source": [
    "# for train_index, test_index in tscv.split(X):\n",
    "#     print(\"TRAIN:\", train_index, \"TEST:\", test_index)\n",
    "#     X_train, X_test = X.iloc[train_index], X.iloc[test_index]\n",
    "#     y_train, y_test = y[train_index], y[test_index]\n"
   ]
  },
  {
   "cell_type": "markdown",
   "id": "c438bf31-c680-407f-b78c-139dda0c5199",
   "metadata": {},
   "source": [
    "### TimeSeriesSplit"
   ]
  },
  {
   "cell_type": "code",
   "execution_count": 18,
   "id": "721b939b-0fd6-4ac5-8451-4bf5cd5ee652",
   "metadata": {
    "scrolled": true,
    "tags": []
   },
   "outputs": [
    {
     "name": "stdout",
     "output_type": "stream",
     "text": [
      "TimeSeriesSplit(gap=0, max_train_size=None, n_splits=5, test_size=None)\n",
      "time: 55.5 ms (started: 2021-08-12 22:26:36 -04:00)\n"
     ]
    }
   ],
   "source": [
    "from sklearn.model_selection import TimeSeriesSplit, GridSearchCV\n",
    "from sklearn.metrics import mean_squared_error\n",
    "import xgboost as xgb\n",
    "from sklearn.metrics import mean_squared_error\n",
    "\n",
    "\n",
    "tscv = TimeSeriesSplit(n_splits=5)\n",
    "print(tscv)\n",
    "\n",
    "xgb_model = xgb.XGBRegressor()\n",
    "\n",
    "match_df = pd.read_csv('nba_data.csv')\n",
    "\n",
    "features = ['home_elo', 'away_elo', \n",
    "            'past_5_home_bpm', 'past_5_away_bpm', \n",
    "            'past_5_home_per', 'past_5_away_per',\n",
    "            'past_5_home_drtg', 'past_5_away_drtg',\n",
    "            'past_5_home_pts', 'past_5_away_pts',\n",
    "            'home_ml', 'away_ml']\n",
    "\n",
    "# match_df = match_df[features]\n",
    "#match_df.dropna(inplace=True)\n",
    "\n",
    "\n",
    "match_df['home_win'] = match_df['movl'].map(lambda x: 0 if x < 0 else 1)\n",
    "\n",
    "cutoff = math.floor(len(match_df) * 0.8)\n",
    "train = match_df[match_df.index < 14202]\n",
    "test = match_df[match_df.index >= 14202]\n",
    "\n",
    "X_train = train[features]\n",
    "X_test = test[features]\n",
    "\n",
    "y_train = train['movl']\n",
    "y_test = test['movl']\n",
    "\n",
    "\n"
   ]
  },
  {
   "cell_type": "code",
   "execution_count": 27,
   "id": "2c8c9255-fd2c-4058-b163-b943463203af",
   "metadata": {
    "scrolled": true,
    "tags": []
   },
   "outputs": [
    {
     "data": {
      "text/plain": [
       "GridSearchCV(cv=TimeSeriesSplit(gap=0, max_train_size=None, n_splits=5, test_size=None),\n",
       "             estimator=XGBRegressor(base_score=None, booster=None,\n",
       "                                    colsample_bylevel=None,\n",
       "                                    colsample_bynode=None,\n",
       "                                    colsample_bytree=None, gamma=None,\n",
       "                                    gpu_id=None, importance_type='gain',\n",
       "                                    interaction_constraints=None,\n",
       "                                    learning_rate=None, max_delta_step=None,\n",
       "                                    max_depth=None, min_child_weight=...\n",
       "                                    reg_alpha=None, reg_lambda=None,\n",
       "                                    scale_pos_weight=None, subsample=None,\n",
       "                                    tree_method=None, validate_parameters=None,\n",
       "                                    verbosity=None),\n",
       "             param_grid={'colsample_bytree': [0.6, 0.8, 1.0],\n",
       "                         'gamma': [0.05, 0.1, 0.25, 0.5, 0.75, 1, 1.5, 2, 5],\n",
       "                         'max_depth': [3, 5, 7, 9],\n",
       "                         'min_child_weight': [5, 7, 9, 11, 13],\n",
       "                         'n_estimators': range(50, 400, 50),\n",
       "                         'subsample': [0.6, 0.8, 1.0]},\n",
       "             scoring='neg_root_mean_squared_error')"
      ]
     },
     "execution_count": 27,
     "metadata": {},
     "output_type": "execute_result"
    },
    {
     "name": "stdout",
     "output_type": "stream",
     "text": [
      "time: 10h 43min 56s (started: 2021-08-12 23:28:38 -04:00)\n"
     ]
    }
   ],
   "source": [
    "params = {\n",
    "        'min_child_weight': [5, 7, 9, 11, 13],\n",
    "        'gamma': [0.05, 0.1, 0.25, 0.5, 0.75],\n",
    "        'subsample': [0.6, 0.8, 1.0],\n",
    "        'colsample_bytree': [0.6, 0.8, 1.0],\n",
    "        'max_depth': [3, 5, 7, 9],\n",
    "        'n_estimators': range(50,200,50),\n",
    "        'random_state' = 1,\n",
    "    \n",
    "        }\n",
    "grid_search = GridSearchCV(estimator = xgb_model, \n",
    "                           cv = tscv, \n",
    "                           scoring = 'neg_root_mean_squared_error',\n",
    "                           param_grid = params)\n",
    "grid_search.fit(X_train, y_train)"
   ]
  },
  {
   "cell_type": "markdown",
   "id": "b8be693d-c601-4701-bf1b-22cd81d53a20",
   "metadata": {},
   "source": [
    "### GridsearchCV"
   ]
  },
  {
   "cell_type": "code",
   "execution_count": 28,
   "id": "692ec00b-b48b-4f87-beed-c5ae5ae6d1d1",
   "metadata": {},
   "outputs": [
    {
     "name": "stdout",
     "output_type": "stream",
     "text": [
      " Results from Grid Search \n",
      "\n",
      " The best estimator across ALL searched params:\n",
      " XGBRegressor(base_score=0.5, booster='gbtree', colsample_bylevel=1,\n",
      "             colsample_bynode=1, colsample_bytree=1.0, gamma=0.05, gpu_id=-1,\n",
      "             importance_type='gain', interaction_constraints='',\n",
      "             learning_rate=0.300000012, max_delta_step=0, max_depth=3,\n",
      "             min_child_weight=9, missing=nan, monotone_constraints='()',\n",
      "             n_estimators=50, n_jobs=24, num_parallel_tree=1, random_state=0,\n",
      "             reg_alpha=0, reg_lambda=1, scale_pos_weight=1, subsample=1.0,\n",
      "             tree_method='exact', validate_parameters=1, verbosity=None)\n",
      "\n",
      " The best score across ALL searched params:\n",
      " -11.66359783109638\n",
      "\n",
      " The best parameters across ALL searched params:\n",
      " {'colsample_bytree': 1.0, 'gamma': 0.05, 'max_depth': 3, 'min_child_weight': 9, 'n_estimators': 50, 'subsample': 1.0}\n",
      "time: 2.82 ms (started: 2021-08-13 12:58:56 -04:00)\n"
     ]
    }
   ],
   "source": [
    "print(\" Results from Grid Search \" )\n",
    "print(\"\\n The best estimator across ALL searched params:\\n\",grid_search.best_estimator_)\n",
    "print(\"\\n The best score across ALL searched params:\\n\",grid_search.best_score_)\n",
    "print(\"\\n The best parameters across ALL searched params:\\n\",grid_search.best_params_)"
   ]
  },
  {
   "cell_type": "code",
   "execution_count": 30,
   "id": "d07f84b8-6b29-4270-b33c-21f497f34ce5",
   "metadata": {},
   "outputs": [
    {
     "name": "stdout",
     "output_type": "stream",
     "text": [
      "RMSE: 12.697496494392666\n"
     ]
    },
    {
     "data": {
      "text/plain": [
       "0.6943428088938924"
      ]
     },
     "execution_count": 30,
     "metadata": {},
     "output_type": "execute_result"
    },
    {
     "name": "stdout",
     "output_type": "stream",
     "text": [
      "time: 33.9 ms (started: 2021-08-13 13:01:34 -04:00)\n"
     ]
    }
   ],
   "source": [
    "cv_preds = grid_search.best_estimator_.predict(X_test)\n",
    "rmse = np.sqrt(mean_squared_error(y_test, cv_preds))\n",
    "print(f'RMSE: {rmse}')\n",
    "\n",
    "df['xgbcv_movl'] = cv_preds\n",
    "df['xgbcv_home_win'] = df['xgbcv_movl'].map(lambda x: 0 if x < 0 else 1)\n",
    "df['correct_cv_pred'] = df.apply(lambda x: \n",
    "     1 if x['home_win'] == x['xgbcv_home_win'] else 0, axis = 1)\n",
    "acc = df['correct_cv_pred'].sum()/len(df.index)\n",
    "acc"
   ]
  },
  {
   "cell_type": "markdown",
   "id": "58d8c0a0-040b-4c8e-9780-01790ab96581",
   "metadata": {},
   "source": [
    "### Save tuned model"
   ]
  },
  {
   "cell_type": "code",
   "execution_count": 46,
   "id": "6d6f52f3-135d-4890-a950-8e0454699a9d",
   "metadata": {},
   "outputs": [
    {
     "name": "stdout",
     "output_type": "stream",
     "text": [
      "RMSE: 12.697496494392666\n"
     ]
    },
    {
     "data": {
      "text/plain": [
       "0.6943428088938924"
      ]
     },
     "execution_count": 46,
     "metadata": {},
     "output_type": "execute_result"
    },
    {
     "name": "stdout",
     "output_type": "stream",
     "text": [
      "time: 40.5 ms (started: 2021-08-13 13:17:22 -04:00)\n"
     ]
    }
   ],
   "source": [
    "import pickle\n",
    "file_name = \"xgb_reg.pkl\"\n",
    "# save\n",
    "pickle.dump(grid_search.best_estimator_, open(file_name, \"wb\"))\n",
    "\n",
    "# load\n",
    "xgb_model_loaded = pickle.load(open(file_name, \"rb\"))"
   ]
  },
  {
   "cell_type": "code",
   "execution_count": 47,
   "id": "c35a1dec-94a6-4ce1-a661-986dcd43ddcb",
   "metadata": {},
   "outputs": [
    {
     "ename": "NameError",
     "evalue": "name 'pl' is not defined",
     "output_type": "error",
     "traceback": [
      "\u001b[0;31m---------------------------------------------------------------------------\u001b[0m",
      "\u001b[0;31mNameError\u001b[0m                                 Traceback (most recent call last)",
      "\u001b[0;32m/tmp/ipykernel_380169/3161024686.py\u001b[0m in \u001b[0;36m<module>\u001b[0;34m\u001b[0m\n\u001b[1;32m      1\u001b[0m \u001b[0mxgb\u001b[0m\u001b[0;34m.\u001b[0m\u001b[0mplot_importance\u001b[0m\u001b[0;34m(\u001b[0m\u001b[0mxgb_model_loaded\u001b[0m\u001b[0;34m)\u001b[0m\u001b[0;34m\u001b[0m\u001b[0;34m\u001b[0m\u001b[0m\n\u001b[0;32m----> 2\u001b[0;31m \u001b[0mpl\u001b[0m\u001b[0;34m.\u001b[0m\u001b[0mtitle\u001b[0m\u001b[0;34m(\u001b[0m\u001b[0;34m\"xgboost.plot_importance(model)\"\u001b[0m\u001b[0;34m)\u001b[0m\u001b[0;34m\u001b[0m\u001b[0;34m\u001b[0m\u001b[0m\n\u001b[0m\u001b[1;32m      3\u001b[0m \u001b[0mpl\u001b[0m\u001b[0;34m.\u001b[0m\u001b[0mshow\u001b[0m\u001b[0;34m(\u001b[0m\u001b[0;34m)\u001b[0m\u001b[0;34m\u001b[0m\u001b[0;34m\u001b[0m\u001b[0m\n",
      "\u001b[0;31mNameError\u001b[0m: name 'pl' is not defined"
     ]
    },
    {
     "data": {
      "image/png": "[encoded data removed]",
      "text/plain": [
       "<Figure size 432x288 with 1 Axes>"
      ]
     },
     "metadata": {
      "needs_background": "light"
     },
     "output_type": "display_data"
    },
    {
     "name": "stdout",
     "output_type": "stream",
     "text": [
      "time: 124 ms (started: 2021-08-13 13:18:24 -04:00)\n"
     ]
    }
   ],
   "source": [
    "xgb.plot_importance(xgb_model_loaded)\n",
    "pl.title(\"xgboost.plot_importance(model)\")\n",
    "pl.show()"
   ]
  },
  {
   "cell_type": "code",
   "execution_count": null,
   "id": "57a626d7-acaa-4f20-bdcb-e52ce2c55fcd",
   "metadata": {},
   "outputs": [],
   "source": [
    "for train_index, test_index in tscv.split(X_train):\n",
    "    print(\"TRAIN:\", train_index, \"TEST:\", test_index)\n",
    "    X_train, X_test = X.iloc[train_index], X.iloc[test_index]\n",
    "    y_train, y_test = y[train_index], y[test_index]\n"
   ]
  },
  {
   "cell_type": "code",
   "execution_count": null,
   "id": "20165ec4-1241-4f12-9825-eede8aa59063",
   "metadata": {},
   "outputs": [],
   "source": [
    "from sklearn.linear_model import LogisticRegression \n",
    "from sklearn import metrics\n",
    "\n",
    "X_train = X_train.dropna()\n",
    "X_train = train[features]\n",
    "X_test = test[features]\n",
    "\n",
    "y_train = train['home_win']\n",
    "y_test = test['home_win']\n",
    "\n",
    "lr_model = LogisticRegression(random_state=1)\n",
    "lr_model.fit(X_train, y_train)\n",
    "\n",
    "print(metrics.accuracy_score(y_test, y_pred))"
   ]
  },
  {
   "cell_type": "code",
   "execution_count": null,
   "id": "f912f29d-bdfd-43ef-912a-efac168fdeaa",
   "metadata": {},
   "outputs": [],
   "source": []
  }
 ],
 "metadata": {
  "kernelspec": {
   "display_name": "Python 3 (ipykernel)",
   "language": "python",
   "name": "python3"
  },
  "language_info": {
   "codemirror_mode": {
    "name": "ipython",
    "version": 3
   },
   "file_extension": ".py",
   "mimetype": "text/x-python",
   "name": "python",
   "nbconvert_exporter": "python",
   "pygments_lexer": "ipython3",
   "version": "3.9.5"
  },
  "toc-autonumbering": true,
  "toc-showcode": false,
  "toc-showmarkdowntxt": true,
  "toc-showtags": false
 },
 "nbformat": 4,
 "nbformat_minor": 5
}
