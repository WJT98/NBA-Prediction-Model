{
 "cells": [
  {
   "cell_type": "markdown",
   "id": "23e74c96-fdc7-4b9d-a7f1-c9d7fae1518c",
   "metadata": {
    "tags": []
   },
   "source": [
    "# Imports"
   ]
  },
  {
   "cell_type": "code",
   "execution_count": 1,
   "id": "82290bc0-882c-4a20-abdc-a8b5cd299034",
   "metadata": {},
   "outputs": [
    {
     "name": "stdout",
     "output_type": "stream",
     "text": [
      "time: 42.9 ms (started: 2021-07-20 16:22:42 -04:00)\n"
     ]
    },
    {
     "data": {
      "application/javascript": [
       "\n",
       "            setTimeout(function() {\n",
       "                var nbb_cell_id = 1;\n",
       "                var nbb_unformatted_code = \"#import lux\\nimport pandas as pd\\n\\nimport db_func\\n\\ntry:\\n    %load_ext autotime\\n    %load_ext nb_black\\nexcept:\\n    !pip3 install ipython-autotime\\n    %load_ext autotime\";\n",
       "                var nbb_formatted_code = \"# import lux\\nimport pandas as pd\\n\\nimport db_func\\n\\ntry:\\n    %load_ext autotime\\n    %load_ext nb_black\\nexcept:\\n    !pip3 install ipython-autotime\\n    %load_ext autotime\";\n",
       "                var nbb_cells = Jupyter.notebook.get_cells();\n",
       "                for (var i = 0; i < nbb_cells.length; ++i) {\n",
       "                    if (nbb_cells[i].input_prompt_number == nbb_cell_id) {\n",
       "                        if (nbb_cells[i].get_text() == nbb_unformatted_code) {\n",
       "                             nbb_cells[i].set_text(nbb_formatted_code);\n",
       "                        }\n",
       "                        break;\n",
       "                    }\n",
       "                }\n",
       "            }, 500);\n",
       "            "
      ],
      "text/plain": [
       "<IPython.core.display.Javascript object>"
      ]
     },
     "metadata": {},
     "output_type": "display_data"
    }
   ],
   "source": [
    "#import lux\n",
    "import pandas as pd\n",
    "\n",
    "import db_func\n",
    "\n",
    "try:\n",
    "    %load_ext autotime\n",
    "    %load_ext nb_black\n",
    "except:\n",
    "    !pip3 install ipython-autotime\n",
    "    %load_ext autotime"
   ]
  },
  {
   "cell_type": "code",
   "execution_count": 2,
   "id": "5197d66d-5341-4d9a-935d-14ba1514ac8c",
   "metadata": {},
   "outputs": [
    {
     "name": "stdout",
     "output_type": "stream",
     "text": [
      "time: 23.5 ms (started: 2021-07-20 16:22:43 -04:00)\n"
     ]
    },
    {
     "data": {
      "application/javascript": [
       "\n",
       "            setTimeout(function() {\n",
       "                var nbb_cell_id = 2;\n",
       "                var nbb_unformatted_code = \"conn = db_func.get_conn()\";\n",
       "                var nbb_formatted_code = \"conn = db_func.get_conn()\";\n",
       "                var nbb_cells = Jupyter.notebook.get_cells();\n",
       "                for (var i = 0; i < nbb_cells.length; ++i) {\n",
       "                    if (nbb_cells[i].input_prompt_number == nbb_cell_id) {\n",
       "                        if (nbb_cells[i].get_text() == nbb_unformatted_code) {\n",
       "                             nbb_cells[i].set_text(nbb_formatted_code);\n",
       "                        }\n",
       "                        break;\n",
       "                    }\n",
       "                }\n",
       "            }, 500);\n",
       "            "
      ],
      "text/plain": [
       "<IPython.core.display.Javascript object>"
      ]
     },
     "metadata": {},
     "output_type": "display_data"
    }
   ],
   "source": [
    "conn = db_func.get_conn()"
   ]
  },
  {
   "cell_type": "markdown",
   "id": "76b3cfbc-f918-4c54-bc52-d85d708cef66",
   "metadata": {},
   "source": [
    "# Feature Engineering"
   ]
  },
  {
   "cell_type": "code",
   "execution_count": 3,
   "id": "a1295729-41fc-44b3-acf7-a99664f43284",
   "metadata": {},
   "outputs": [
    {
     "name": "stdout",
     "output_type": "stream",
     "text": [
      "time: 85.5 ms (started: 2021-07-20 16:23:00 -04:00)\n"
     ]
    },
    {
     "data": {
      "application/javascript": [
       "\n",
       "            setTimeout(function() {\n",
       "                var nbb_cell_id = 3;\n",
       "                var nbb_unformatted_code = \"seasons = ['2021']\\n\\n\\n#for s in seasons:\\n\\nquery = '''SELECT *\\n            FROM match\\n            '''\\ndf = pd.read_sql(query, conn)\";\n",
       "                var nbb_formatted_code = \"seasons = [\\\"2021\\\"]\\n\\n\\n# for s in seasons:\\n\\nquery = \\\"\\\"\\\"SELECT *\\n            FROM match\\n            \\\"\\\"\\\"\\ndf = pd.read_sql(query, conn)\";\n",
       "                var nbb_cells = Jupyter.notebook.get_cells();\n",
       "                for (var i = 0; i < nbb_cells.length; ++i) {\n",
       "                    if (nbb_cells[i].input_prompt_number == nbb_cell_id) {\n",
       "                        if (nbb_cells[i].get_text() == nbb_unformatted_code) {\n",
       "                             nbb_cells[i].set_text(nbb_formatted_code);\n",
       "                        }\n",
       "                        break;\n",
       "                    }\n",
       "                }\n",
       "            }, 500);\n",
       "            "
      ],
      "text/plain": [
       "<IPython.core.display.Javascript object>"
      ]
     },
     "metadata": {},
     "output_type": "display_data"
    }
   ],
   "source": [
    "seasons = ['2021']\n",
    "\n",
    "\n",
    "#for s in seasons:\n",
    "\n",
    "query = '''SELECT *\n",
    "            FROM match\n",
    "            '''\n",
    "df = pd.read_sql(query, conn)\n",
    "\n"
   ]
  },
  {
   "cell_type": "code",
   "execution_count": 6,
   "id": "617a2609-d6d4-4bb6-bc9b-3c3a0c711a60",
   "metadata": {},
   "outputs": [],
   "source": [
    "%unload_ext autotime"
   ]
  },
  {
   "cell_type": "code",
   "execution_count": null,
   "id": "03f929b0-c1e0-4b4b-be33-8fc036d29893",
   "metadata": {},
   "outputs": [],
   "source": []
  }
 ],
 "metadata": {
  "kernelspec": {
   "display_name": "Python 3",
   "language": "python",
   "name": "python3"
  },
  "language_info": {
   "codemirror_mode": {
    "name": "ipython",
    "version": 3
   },
   "file_extension": ".py",
   "mimetype": "text/x-python",
   "name": "python",
   "nbconvert_exporter": "python",
   "pygments_lexer": "ipython3",
   "version": "3.8.5"
  },
  "toc-autonumbering": false,
  "toc-showcode": false,
  "toc-showmarkdowntxt": true,
  "toc-showtags": false
 },
 "nbformat": 4,
 "nbformat_minor": 5
}
